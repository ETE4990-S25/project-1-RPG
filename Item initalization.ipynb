{
 "cells": [
  {
   "cell_type": "markdown",
   "metadata": {},
   "source": [
    "## Import item list for game\n"
   ]
  },
  {
   "cell_type": "code",
   "execution_count": 1,
   "metadata": {},
   "outputs": [],
   "source": [
    "import json\n",
    "import random\n",
    "#test"
   ]
  },
  {
   "cell_type": "code",
   "execution_count": 4,
   "metadata": {},
   "outputs": [],
   "source": [
    "with open('ItemData.json', \"r\") as file:\n",
    "    itemdata = json.load(file)\n"
   ]
  },
  {
   "cell_type": "markdown",
   "metadata": {},
   "source": [
    "## Add damage number to items\n"
   ]
  },
  {
   "cell_type": "code",
   "execution_count": 5,
   "metadata": {},
   "outputs": [],
   "source": [
    "valid_types = {'Magic', 'Weapons'}\n",
    "\n",
    "for item in itemdata['items']:  #iterate through list of dictionaries\n",
    "# check if category has allowed values\n",
    "    if item.get('category') in valid_types:\n",
    "        #exclude arrows\n",
    "        if \"arrow\" in itemdata['items']:\n",
    "            continue\n",
    "        item['Damage'] = random.randint(1,5)\n"
   ]
  },
  {
   "cell_type": "markdown",
   "metadata": {},
   "source": [
    "# Add money values to items\n"
   ]
  },
  {
   "cell_type": "code",
   "execution_count": 6,
   "metadata": {},
   "outputs": [],
   "source": [
    "for item in itemdata['items']:\n",
    "    name = item.get('name', '')\n",
    "    category = item.get('category', '')\n",
    "    if 'Empty' in name:\n",
    "        item['Value'] = random.randint(1,5)\n",
    "    elif 'General' in category:\n",
    "        item['Value'] = random.randint(1,15)\n",
    "    elif 'Magic' in category:\n",
    "        item['Value'] = random.randint(10,20)\n",
    "    elif 'Weapon' in category:\n",
    "        item['Value'] = random.randint(10,20)\n",
    "    elif 'Food' in category:\n",
    "        item['Value'] = random.randint(1,5)\n",
    "    else: \n",
    "        item['Value'] = random.randint(15,20)"
   ]
  },
  {
   "cell_type": "markdown",
   "metadata": {},
   "source": [
    "## Add AC Values to armor\n"
   ]
  },
  {
   "cell_type": "code",
   "execution_count": 7,
   "metadata": {},
   "outputs": [],
   "source": [
    "valid_armor = {'Armour'}\n",
    "\n",
    "for item in itemdata['items']:\n",
    "        # Exclude items with \"ring\" in the name (case-insensitive)\n",
    "    if \"ring\" in item.get(\"name\", \"\").lower():\n",
    "        continue  \n",
    "    if \"helmet\" in item.get(\"description\", \"\").lower():\n",
    "        continue \n",
    "    \n",
    "    if item.get('category') in valid_armor:\n",
    "        item['AC'] = random.randint(1,3)\n"
   ]
  },
  {
   "cell_type": "markdown",
   "metadata": {},
   "source": [
    "## Add potion traits\n",
    "\n",
    "- Healing\n",
    "- Mana\n",
    "- General Power (damage boost)\n"
   ]
  },
  {
   "cell_type": "code",
   "execution_count": 8,
   "metadata": {},
   "outputs": [],
   "source": [
    "\n",
    "for item in itemdata['items']:   #Navigate items in each dictionary\n",
    "    name = item.get('name', '')\n",
    "\n",
    "    if \"Green\" in name:\n",
    "        if \"Large\" in name:\n",
    "            item[\"Mana\"] = random.randint(30, 50)  # Large Green Potion gets the most\n",
    "        elif \"Small\" in name:\n",
    "            item[\"Mana\"] = random.randint(5, 10)  # Small Green Potion gets the lowest \n",
    "        else:\n",
    "            item[\"Mana\"] = random.randint(10, 20)  # Default to Regular if no size isn't in name\n",
    "    elif \"Red\" in name:\n",
    "        if \"Large\" in name:\n",
    "            item[\"Health\"] = random.randint(20, 30)  \n",
    "        elif \"Small\" in name:\n",
    "            item[\"Health\"] = random.randint(5, 10)  \n",
    "        else:\n",
    "            item[\"Health\"] = random.randint(10, 20)\n",
    "    elif \"Pink\" in name:\n",
    "        if \"Large\" in name:\n",
    "            item[\"Health\"] = random.randint(15, 20)  \n",
    "        elif \"Small\" in name:\n",
    "            item[\"Health\"] = random.randint(1, 5)  \n",
    "        else:\n",
    "            item[\"Health\"] = random.randint(5, 10)\n",
    "    elif \"Black\" in name:\n",
    "        if \"Large\" in name:\n",
    "            item[\"Power\"] = random.randint(20, 30) \n",
    "        elif \"Small\" in name:\n",
    "            item[\"Power\"] = random.randint(5, 10)  \n",
    "        else:\n",
    "            item[\"Power\"] = random.randint(10, 20)\n",
    "    elif \"Blue\" in name:\n",
    "        if \"Large\" in name:\n",
    "            item[\"Mana\"] = random.randint(20, 30)\n",
    "            item[\"Power\"] = random.randint(20, 30)  \n",
    "        elif \"Small\" in name:\n",
    "            item[\"Mana\"] = random.randint(5, 10)\n",
    "            item[\"Power\"] = random.randint(5, 10)  \n",
    "        else:\n",
    "            item[\"Mana\"] = random.randint(10, 20)\n",
    "            item[\"Power\"] = random.randint(10, 20)\n",
    "    elif \"Orange\" in name:\n",
    "        if \"Large\" in name:\n",
    "            item[\"Mana\"] = random.randint(20, 30)\n",
    "            item[\"Power\"] = random.randint(20, 30)  \n",
    "        elif \"Small\" in name:\n",
    "            item[\"Mana\"] = random.randint(5, 10)\n",
    "            item[\"Power\"] = random.randint(5, 10)  \n",
    "        else:\n",
    "            item[\"Mana\"] = random.randint(10, 20)\n",
    "            item[\"Power\"] = random.randint(10, 20)\n"
   ]
  },
  {
   "cell_type": "markdown",
   "metadata": {},
   "source": [
    "# Generate inventory\n"
   ]
  },
  {
   "cell_type": "code",
   "execution_count": 9,
   "metadata": {},
   "outputs": [
    {
     "name": "stdout",
     "output_type": "stream",
     "text": [
      "{'id': 114, 'name': 'Small Pink Potion', 'description': 'A health restoring potion. Less potent than a red potion. Small size.', 'category': 'Healing', 'Value': 18, 'Health': 4}\n",
      "{'id': 90, 'name': 'Purple Candycane', 'description': 'A sugary treat laced with a blackcurrant flavour.', 'category': 'Food', 'Value': 3}\n",
      "{'id': 25, 'name': 'Dark Gem', 'description': 'Dark as the night sky, this gem glistens with evil magic.', 'category': 'Magic', 'Damage': 2, 'Value': 19}\n",
      "{'id': 53, 'name': 'Green Candycane', 'description': 'A sugary treat laced with a minty flavour.', 'category': 'Food', 'Value': 2, 'Mana': 18}\n",
      "{'id': 106, 'name': 'Silver Ingot', 'description': 'A solid bar of silver. Take this to a blacksmith to use it.', 'category': 'General', 'Value': 13}\n",
      "{'id': 66, 'name': \"Knight's Helm\", 'description': \"A sturdy helmet favoured by the nation's knights.\", 'category': 'Armour', 'Value': 16}\n",
      "{'id': 5, 'name': 'Ancient Spellbook', 'description': 'A tome from a time forgotten, filled with all sorts of incantations.', 'category': 'Magic', 'Damage': 2, 'Value': 12}\n",
      "{'id': 10, 'name': 'Blackberry Bonbon', 'description': 'Ideal for those with a sweet tooth! This one tastes of blackberries.', 'category': 'Food', 'Value': 2, 'Power': 16}\n",
      "{'id': 96, 'name': 'Red Potion', 'description': 'A vibrant red potion designed to restore health. Medium size.', 'category': 'Healing', 'Value': 15, 'Health': 11}\n",
      "{'id': 77, 'name': 'Light Shield', 'description': 'A small shield designed for maneuverability over defence.', 'category': 'Armour', 'Value': 15, 'AC': 3}\n",
      "{'id': 61, 'name': 'Holy Spellbook', 'description': 'A thick tome filled with spells practiced by light mages across the realm.', 'category': 'Magic', 'Damage': 4, 'Value': 15}\n",
      "{'id': 124, 'name': 'Winter Shield', 'description': 'Built by craftsmen in the most northern region, this shield repels all ice magic.', 'category': 'Armour', 'Value': 19, 'AC': 1}\n",
      "{'id': 33, 'name': 'Empty Flask', 'description': 'A glass bottle used to store potions. This is the size for a large potion.', 'category': 'Healing', 'Value': 3}\n",
      "{'id': 95, 'name': 'Red Pearl', 'description': 'An unusual pearl with a glimmering red colour.', 'category': 'General', 'Value': 11, 'Health': 16}\n"
     ]
    }
   ],
   "source": [
    "def generate_inventory():\n",
    "    loot = []\n",
    "    for i in range(14):\n",
    "        item_id = random.randint(1,131)\n",
    "        loot.append(itemdata['items'][item_id]) \n",
    "    return loot\n",
    "\n",
    "\n",
    "gear = generate_inventory()\n",
    "\n",
    "for item in gear:\n",
    "    print(item)\n"
   ]
  },
  {
   "cell_type": "code",
   "execution_count": 10,
   "metadata": {},
   "outputs": [
    {
     "name": "stdout",
     "output_type": "stream",
     "text": [
      "Empty Flask\n",
      "A glass bottle used to store potions. This is the size for a large potion.\n",
      "3 Gold\n",
      "-----------------------------------\n",
      "Silver Coin\n",
      "A shiny silver coin. Save up plenty of these for a shopping trip!\n",
      "2 Gold\n",
      "-----------------------------------\n",
      "Pink Potion\n",
      "A health restoring potion. Less potent than a red potion. Medium size.\n",
      "19 Gold\n",
      "-----------------------------------\n",
      "Alchemist's Scroll\n",
      "Contains scribblings about turning lead to gold or some such nonsense.\n",
      "10 Gold\n",
      "-----------------------------------\n",
      "Bronze Ingot\n",
      "A solid bronze bar. A blacksmith can use it for crafting.\n",
      "10 Gold\n",
      "-----------------------------------\n",
      "Moon Ring\n",
      "A moonstone ring that offers weak protection against magic attacks.\n",
      "15 Gold\n",
      "-----------------------------------\n",
      "Ancient Spellbook\n",
      "A tome from a time forgotten, filled with all sorts of incantations.\n",
      "12 Gold\n",
      "-----------------------------------\n",
      "Thunder Gem\n",
      "A gem full of thunder magic. Has a storm raging in its centre.\n",
      "10 Gold\n",
      "-----------------------------------\n",
      "Silver Ingot\n",
      "A solid bar of silver. Take this to a blacksmith to use it.\n",
      "13 Gold\n",
      "-----------------------------------\n",
      "Lime Bonbon\n",
      "Ideal for those with a sweet tooth! This one tastes of lime.\n",
      "1 Gold\n",
      "-----------------------------------\n",
      "Orange Candycane\n",
      "A sugary treat laced with an orange flavour.\n",
      "5 Gold\n",
      "-----------------------------------\n",
      "Green Potion\n",
      "This potion was created to restore mana. Medium size.\n",
      "19 Gold\n",
      "-----------------------------------\n",
      "Light Shield\n",
      "A small shield designed for maneuverability over defence.\n",
      "15 Gold\n",
      "-----------------------------------\n",
      "Forest Shield\n",
      "A fine shield crafted from the wood of an ancient tree.\n",
      "16 Gold\n",
      "-----------------------------------\n"
     ]
    }
   ],
   "source": [
    "def store():\n",
    "    shop = generate_inventory()\n",
    "    for item in shop:\n",
    "        print(item['name']) \n",
    "        print(item['description'])\n",
    "        print(item['Value'], 'Gold')\n",
    "        print('-----------------------------------')\n",
    "\n",
    "store()"
   ]
  },
  {
   "cell_type": "code",
   "execution_count": 11,
   "metadata": {},
   "outputs": [
    {
     "name": "stdout",
     "output_type": "stream",
     "text": [
      "Red Fish\n",
      "This fish feeds on red algae, which gives it its unique colouring.\n",
      "2 Gold\n",
      "-----------------------------------\n",
      "Pink Potion\n",
      "A health restoring potion. Less potent than a red potion. Medium size.\n",
      "19 Gold\n",
      "-----------------------------------\n",
      "Elven Ring\n",
      "Forged by the forest elves, this ring grants the wearer extra stealth.\n",
      "15 Gold\n",
      "-----------------------------------\n",
      "Bloodstone Ring\n",
      "The bloodstone set in this ring grants the wearer healing magic.\n",
      "15 Gold\n",
      "-----------------------------------\n",
      "Elven Ring\n",
      "Forged by the forest elves, this ring grants the wearer extra stealth.\n",
      "15 Gold\n",
      "-----------------------------------\n",
      "Dark Sword\n",
      "Forged for a demon king, this sword burns the souls of its enemies.\n",
      "10 Gold\n",
      "-----------------------------------\n",
      "Hero's Sword\n",
      "A mighty sword favoured by heroes the world over.\n",
      "15 Gold\n",
      "-----------------------------------\n",
      "Worn Scroll\n",
      "You can feel the magic emanating from this scroll. But it's too faded to read.\n",
      "15 Gold\n",
      "-----------------------------------\n",
      "Red Potion\n",
      "A vibrant red potion designed to restore health. Medium size.\n",
      "15 Gold\n",
      "-----------------------------------\n",
      "Wizard's Scroll\n",
      "A scroll containing basic teachings. Given to all new mages at a certain school.\n",
      "13 Gold\n",
      "-----------------------------------\n",
      "Large Pink Potion\n",
      "A health restoring potion. Less potent than a red potion. Large size.\n",
      "16 Gold\n",
      "-----------------------------------\n",
      "Small Pink Potion\n",
      "A health restoring potion. Less potent than a red potion. Small size.\n",
      "18 Gold\n",
      "-----------------------------------\n",
      "Red Pearl\n",
      "An unusual pearl with a glimmering red colour.\n",
      "11 Gold\n",
      "-----------------------------------\n",
      "Woodland Arrow\n",
      "A staple for any archer. This simple arrow is enough to get started.\n",
      "13 Gold\n",
      "-----------------------------------\n"
     ]
    }
   ],
   "source": [
    "#def store():\n",
    "#    shop = generate_inventory()\n",
    "#    for item in shop['items']:\n",
    "#        name = item.get('name', '')\n",
    "#        if 'Pile' in name:\n",
    "#            shop.pop()\n",
    "            \n",
    "#    for item in shop:\n",
    "#        print(item['name']) \n",
    "#        print(item['description'])\n",
    "#        print(item['Value'], 'Gold')\n",
    "#        print('-----------------------------------')\n",
    "\n",
    "\n",
    "store()"
   ]
  }
 ],
 "metadata": {
  "kernelspec": {
   "display_name": "Python 3",
   "language": "python",
   "name": "python3"
  },
  "language_info": {
   "codemirror_mode": {
    "name": "ipython",
    "version": 3
   },
   "file_extension": ".py",
   "mimetype": "text/x-python",
   "name": "python",
   "nbconvert_exporter": "python",
   "pygments_lexer": "ipython3",
   "version": "3.13.1"
  }
 },
 "nbformat": 4,
 "nbformat_minor": 2
}
