{
 "cells": [
  {
   "cell_type": "markdown",
   "metadata": {},
   "source": [
    "## Import item list for game\n"
   ]
  },
  {
   "cell_type": "code",
   "execution_count": 4,
   "metadata": {},
   "outputs": [],
   "source": [
    "import json\n",
    "import random"
   ]
  },
  {
   "cell_type": "code",
   "execution_count": 5,
   "metadata": {},
   "outputs": [],
   "source": [
    "with open('ItemData.json', \"r\") as file:\n",
    "    itemdata = json.load(file)\n"
   ]
  },
  {
   "cell_type": "markdown",
   "metadata": {},
   "source": [
    "## Add damage number to items\n"
   ]
  },
  {
   "cell_type": "code",
   "execution_count": 6,
   "metadata": {},
   "outputs": [],
   "source": [
    "valid_types = {'Magic', 'Weapons'}\n",
    "\n",
    "for item in itemdata['items']:  #iterate through list of dictionaries\n",
    "# check if category has allowed values\n",
    "    if item.get('category') in valid_types:\n",
    "        #exclude arrows\n",
    "        if \"arrow\" in itemdata['items']:\n",
    "            continue\n",
    "        item['Damage'] = random.randint(1,5)\n"
   ]
  },
  {
   "cell_type": "markdown",
   "metadata": {},
   "source": [
    "# Add money values to items\n"
   ]
  },
  {
   "cell_type": "code",
   "execution_count": 7,
   "metadata": {},
   "outputs": [],
   "source": [
    "for item in itemdata['items']:\n",
    "    name = item.get('name', '')\n",
    "    category = item.get('category', '')\n",
    "    if 'Empty' in name:\n",
    "        item['Value'] = random.randint(1,5)\n",
    "    elif 'General' in category:\n",
    "        item['Value'] = random.randint(1,15)\n",
    "    elif 'Magic' in category:\n",
    "        item['Value'] = random.randint(10,20)\n",
    "    elif 'Weapon' in category:\n",
    "        item['Value'] = random.randint(10,20)\n",
    "    elif 'Food' in category:\n",
    "        item['Value'] = random.randint(1,5)\n",
    "    else: \n",
    "        item['Value'] = random.randint(15,20)"
   ]
  },
  {
   "cell_type": "markdown",
   "metadata": {},
   "source": [
    "## Add AC Values to armor\n"
   ]
  },
  {
   "cell_type": "code",
   "execution_count": 8,
   "metadata": {},
   "outputs": [],
   "source": [
    "valid_armor = {'Armour'}\n",
    "\n",
    "for item in itemdata['items']:\n",
    "        # Exclude items with \"ring\" in the name (case-insensitive)\n",
    "    if \"ring\" in item.get(\"name\", \"\").lower():\n",
    "        continue  \n",
    "    if \"helmet\" in item.get(\"description\", \"\").lower():\n",
    "        continue \n",
    "    \n",
    "    if item.get('category') in valid_armor:\n",
    "        item['AC'] = random.randint(1,3)\n"
   ]
  },
  {
   "cell_type": "markdown",
   "metadata": {},
   "source": [
    "## Add potion traits\n",
    "\n",
    "- Healing\n",
    "- Mana\n",
    "- General Power (damage boost)\n"
   ]
  },
  {
   "cell_type": "code",
   "execution_count": 9,
   "metadata": {},
   "outputs": [],
   "source": [
    "\n",
    "for item in itemdata['items']:   #Navigate items in each dictionary\n",
    "    name = item.get('name', '')\n",
    "\n",
    "    if \"Green\" in name:\n",
    "        if \"Large\" in name:\n",
    "            item[\"Mana\"] = random.randint(30, 50)  # Large Green Potion gets the most\n",
    "        elif \"Small\" in name:\n",
    "            item[\"Mana\"] = random.randint(5, 10)  # Small Green Potion gets the lowest \n",
    "        else:\n",
    "            item[\"Mana\"] = random.randint(10, 20)  # Default to Regular if no size isn't in name\n",
    "    elif \"Red\" in name:\n",
    "        if \"Large\" in name:\n",
    "            item[\"Health\"] = random.randint(20, 30)  \n",
    "        elif \"Small\" in name:\n",
    "            item[\"Health\"] = random.randint(5, 10)  \n",
    "        else:\n",
    "            item[\"Health\"] = random.randint(10, 20)\n",
    "    elif \"Pink\" in name:\n",
    "        if \"Large\" in name:\n",
    "            item[\"Health\"] = random.randint(15, 20)  \n",
    "        elif \"Small\" in name:\n",
    "            item[\"Health\"] = random.randint(1, 5)  \n",
    "        else:\n",
    "            item[\"Health\"] = random.randint(5, 10)\n",
    "    elif \"Black\" in name:\n",
    "        if \"Large\" in name:\n",
    "            item[\"Power\"] = random.randint(20, 30) \n",
    "        elif \"Small\" in name:\n",
    "            item[\"Power\"] = random.randint(5, 10)  \n",
    "        else:\n",
    "            item[\"Power\"] = random.randint(10, 20)\n",
    "    elif \"Blue\" in name:\n",
    "        if \"Large\" in name:\n",
    "            item[\"Mana\"] = random.randint(20, 30)\n",
    "            item[\"Power\"] = random.randint(20, 30)  \n",
    "        elif \"Small\" in name:\n",
    "            item[\"Mana\"] = random.randint(5, 10)\n",
    "            item[\"Power\"] = random.randint(5, 10)  \n",
    "        else:\n",
    "            item[\"Mana\"] = random.randint(10, 20)\n",
    "            item[\"Power\"] = random.randint(10, 20)\n",
    "    elif \"Orange\" in name:\n",
    "        if \"Large\" in name:\n",
    "            item[\"Mana\"] = random.randint(20, 30)\n",
    "            item[\"Power\"] = random.randint(20, 30)  \n",
    "        elif \"Small\" in name:\n",
    "            item[\"Mana\"] = random.randint(5, 10)\n",
    "            item[\"Power\"] = random.randint(5, 10)  \n",
    "        else:\n",
    "            item[\"Mana\"] = random.randint(10, 20)\n",
    "            item[\"Power\"] = random.randint(10, 20)\n"
   ]
  },
  {
   "cell_type": "markdown",
   "metadata": {},
   "source": [
    "# Generate inventory\n"
   ]
  },
  {
   "cell_type": "code",
   "execution_count": 10,
   "metadata": {},
   "outputs": [
    {
     "name": "stdout",
     "output_type": "stream",
     "text": [
      "{'id': 116, 'name': 'Small Red Potion', 'description': 'A vibrant red potion designed to restore health. Small size.', 'category': 'Healing', 'Value': 20, 'Health': 6}\n",
      "{'id': 81, 'name': 'Orange Bonbon', 'description': 'Ideal for those with a sweet tooth! This one tastes of orange.', 'category': 'Food', 'Value': 1, 'Mana': 20, 'Power': 14}\n",
      "{'id': 52, 'name': 'Golden Key', 'description': 'A key as lovely as this must open the way to an equally lovely prize!', 'category': 'General', 'Value': 15}\n",
      "{'id': 81, 'name': 'Orange Bonbon', 'description': 'Ideal for those with a sweet tooth! This one tastes of orange.', 'category': 'Food', 'Value': 1, 'Mana': 20, 'Power': 14}\n",
      "{'id': 16, 'name': 'Blue Candycane', 'description': 'A sugary treat laced with blueberry flavour.', 'category': 'Food', 'Value': 4, 'Mana': 20, 'Power': 14}\n",
      "{'id': 79, 'name': 'Moon Ring', 'description': 'A moonstone ring that offers weak protection against magic attacks.', 'category': 'Armour', 'Value': 17}\n",
      "{'id': 32, 'name': 'Empty Bottle', 'description': 'A glass bottle used to store potions. This is the size for a medium potion.', 'category': 'Healing', 'Value': 3}\n",
      "{'id': 70, 'name': 'Large Orange Potion', 'description': 'This potion restores mana and gives a boost of fire magic. Large size.', 'category': 'Healing', 'Value': 15, 'Mana': 26, 'Power': 27}\n",
      "{'id': 38, 'name': 'Fire Helm', 'description': 'Imbued with fire magic, this helmet can withstand any heat.', 'category': 'Armour', 'Value': 15}\n",
      "{'id': 60, 'name': 'Holy Shield', 'description': 'A strong shield that also provides brief immunity from evil magic.', 'category': 'Armour', 'Value': 20, 'AC': 1}\n",
      "{'id': 41, 'name': 'Fire Arrow', 'description': 'This flaming arrow will burn tragets on contact. Aim with care!', 'category': 'Weapons', 'Damage': 1, 'Value': 17}\n",
      "{'id': 70, 'name': 'Large Orange Potion', 'description': 'This potion restores mana and gives a boost of fire magic. Large size.', 'category': 'Healing', 'Value': 15, 'Mana': 26, 'Power': 27}\n",
      "{'id': 88, 'name': 'Poison Gem', 'description': \"Don't let its beautiful colour fool you, this gem contains strong poison magic.\", 'category': 'Magic', 'Damage': 3, 'Value': 11}\n",
      "{'id': 44, 'name': 'Forest Shield', 'description': 'A fine shield crafted from the wood of an ancient tree.', 'category': 'Armour', 'Value': 19, 'AC': 2}\n"
     ]
    }
   ],
   "source": [
    "def generate_inventory():\n",
    "    loot = []\n",
    "    for i in range(14):\n",
    "        item_id = random.randint(1,131)\n",
    "        loot.append(itemdata['items'][item_id]) \n",
    "    return loot\n",
    "\n",
    "\n",
    "gear = generate_inventory()\n",
    "\n",
    "for item in gear:\n",
    "    print(item)\n"
   ]
  },
  {
   "cell_type": "code",
   "execution_count": 17,
   "metadata": {},
   "outputs": [
    {
     "name": "stdout",
     "output_type": "stream",
     "text": [
      "Fire Arrow\n",
      "This flaming arrow will burn tragets on contact. Aim with care!\n",
      "17 Gold\n",
      "-----------------------------------\n",
      "Large Red Potion\n",
      "A vibrant red potion designed to restore health. Large size.\n",
      "18 Gold\n",
      "-----------------------------------\n",
      "Silver Key\n",
      "A small, silver key. A delicate key like this probably fits an equally delicate lock.\n",
      "12 Gold\n",
      "-----------------------------------\n",
      "Silver Arrow\n",
      "Effective against werewolves thanks to its silver arrowhead.\n",
      "10 Gold\n",
      "-----------------------------------\n",
      "Ancient Spellbook\n",
      "A tome from a time forgotten, filled with all sorts of incantations.\n",
      "11 Gold\n",
      "-----------------------------------\n",
      "Aqua Rod\n",
      "Command water magic with this beautiful wand.\n",
      "16 Gold\n",
      "-----------------------------------\n",
      "Winter Shield\n",
      "Built by craftsmen in the most northern region, this shield repels all ice magic.\n",
      "15 Gold\n",
      "-----------------------------------\n",
      "White Fish\n",
      "A large fish which is highly sought after due to its delicious flavour.\n",
      "2 Gold\n",
      "-----------------------------------\n",
      "Ancient Spellbook\n",
      "A tome from a time forgotten, filled with all sorts of incantations.\n",
      "11 Gold\n",
      "-----------------------------------\n",
      "Fire Arrow\n",
      "This flaming arrow will burn tragets on contact. Aim with care!\n",
      "17 Gold\n",
      "-----------------------------------\n",
      "Moon Ring\n",
      "A moonstone ring that offers weak protection against magic attacks.\n",
      "17 Gold\n",
      "-----------------------------------\n",
      "Yellow Fish\n",
      "A small fish with yellow scales that glisten in the sunlight.\n",
      "3 Gold\n",
      "-----------------------------------\n",
      "Brown Fish\n",
      "A very common fish found in most bodies of fresh water.\n",
      "3 Gold\n",
      "-----------------------------------\n",
      "Flame Bow\n",
      "A magical bow that boosts the power of fire and blaze arrows.\n",
      "19 Gold\n",
      "-----------------------------------\n"
     ]
    }
   ],
   "source": [
    "def store():\n",
    "    shop = generate_inventory()\n",
    "    for item in shop:\n",
    "        print(item['name']) \n",
    "        print(item['description'])\n",
    "        print(item['Value'], 'Gold')\n",
    "        print('-----------------------------------')\n",
    "\n",
    "store()"
   ]
  },
  {
   "cell_type": "code",
   "execution_count": null,
   "metadata": {},
   "outputs": [],
   "source": [
    "#def store():\n",
    "#    shop = generate_inventory()\n",
    "#    for item in shop['items']:\n",
    "#        name = item.get('name', '')\n",
    "#        if 'Pile' in name:\n",
    "#            shop.pop()\n",
    "            \n",
    "#    for item in shop:\n",
    "#        print(item['name']) \n",
    "#        print(item['description'])\n",
    "#        print(item['Value'], 'Gold')\n",
    "#        print('-----------------------------------')\n",
    "\n",
    "\n",
    "store()"
   ]
  }
 ],
 "metadata": {
  "kernelspec": {
   "display_name": "ETE4990",
   "language": "python",
   "name": "python3"
  },
  "language_info": {
   "codemirror_mode": {
    "name": "ipython",
    "version": 3
   },
   "file_extension": ".py",
   "mimetype": "text/x-python",
   "name": "python",
   "nbconvert_exporter": "python",
   "pygments_lexer": "ipython3",
   "version": "3.13.1"
  }
 },
 "nbformat": 4,
 "nbformat_minor": 2
}
