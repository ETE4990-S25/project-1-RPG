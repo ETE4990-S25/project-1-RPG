{
 "cells": [
  {
   "cell_type": "markdown",
   "metadata": {},
   "source": [
    "## Import item list for game"
   ]
  },
  {
   "cell_type": "code",
   "execution_count": 11,
   "metadata": {},
   "outputs": [],
   "source": [
    "import json\n",
    "import random"
   ]
  },
  {
   "cell_type": "code",
   "execution_count": 12,
   "metadata": {},
   "outputs": [],
   "source": [
    "with open('ItemData.json', \"r\") as file:\n",
    "    itemdata = json.load(file)\n"
   ]
  },
  {
   "cell_type": "markdown",
   "metadata": {},
   "source": [
    "## Add damage number to items"
   ]
  },
  {
   "cell_type": "code",
   "execution_count": 13,
   "metadata": {},
   "outputs": [],
   "source": [
    "valid_types = {'Magic', 'Weapons'}\n",
    "\n",
    "for item in itemdata['items']:  #iterate through list of dictionaries\n",
    "# check if category has allowed values\n",
    "    if item.get('category') in valid_types:\n",
    "        #exclude arrows\n",
    "        if \"arrow\" in itemdata['items']:\n",
    "            continue\n",
    "        item['Damage'] = random.randint(1,5)\n"
   ]
  },
  {
   "cell_type": "markdown",
   "metadata": {},
   "source": [
    "# Add money values to items"
   ]
  },
  {
   "cell_type": "code",
   "execution_count": 14,
   "metadata": {},
   "outputs": [],
   "source": [
    "for item in itemdata['items']:\n",
    "    name = item.get('name', '')\n",
    "    category = item.get('category', '')\n",
    "    if 'Empty' in name:\n",
    "        item['Value'] = random.randint(1,5)\n",
    "    elif 'General' in category:\n",
    "        item['Value'] = random.randint(1,15)\n",
    "    elif 'Magic' in category:\n",
    "        item['Value'] = random.randint(10,20)\n",
    "    elif 'Weapon' in category:\n",
    "        item['Value'] = random.randint(10,20)\n",
    "    elif 'Food' in category:\n",
    "        item['Value'] = random.randint(1,5)\n",
    "    else: \n",
    "        item['Value'] = random.randint(15,20)"
   ]
  },
  {
   "cell_type": "markdown",
   "metadata": {},
   "source": [
    "## Add AC Values to armor"
   ]
  },
  {
   "cell_type": "code",
   "execution_count": 15,
   "metadata": {},
   "outputs": [],
   "source": [
    "valid_armor = {'Armour'}\n",
    "\n",
    "for item in itemdata['items']:\n",
    "        # Exclude items with \"ring\" in the name (case-insensitive)\n",
    "    if \"ring\" in item.get(\"name\", \"\").lower():\n",
    "        continue  \n",
    "    if \"helmet\" in item.get(\"description\", \"\").lower():\n",
    "        continue \n",
    "    \n",
    "    if item.get('category') in valid_armor:\n",
    "        item['AC'] = random.randint(1,3)\n"
   ]
  },
  {
   "cell_type": "markdown",
   "metadata": {},
   "source": [
    "## Add potion traits\n",
    "+ Healing\n",
    "+ Mana \n",
    "+ General Power (damage boost)"
   ]
  },
  {
   "cell_type": "code",
   "execution_count": 16,
   "metadata": {},
   "outputs": [],
   "source": [
    "\n",
    "for item in itemdata['items']:   #Navigate items in each dictionary\n",
    "    name = item.get('name', '')\n",
    "\n",
    "    if \"Green\" in name:\n",
    "        if \"Large\" in name:\n",
    "            item[\"Mana\"] = random.randint(30, 50)  # Large Green Potion gets the most\n",
    "        elif \"Small\" in name:\n",
    "            item[\"Mana\"] = random.randint(5, 10)  # Small Green Potion gets the lowest \n",
    "        else:\n",
    "            item[\"Mana\"] = random.randint(10, 20)  # Default to Regular if no size isn't in name\n",
    "    elif \"Red\" in name:\n",
    "        if \"Large\" in name:\n",
    "            item[\"Health\"] = random.randint(20, 30)  \n",
    "        elif \"Small\" in name:\n",
    "            item[\"Health\"] = random.randint(5, 10)  \n",
    "        else:\n",
    "            item[\"Health\"] = random.randint(10, 20)\n",
    "    elif \"Pink\" in name:\n",
    "        if \"Large\" in name:\n",
    "            item[\"Health\"] = random.randint(15, 20)  \n",
    "        elif \"Small\" in name:\n",
    "            item[\"Health\"] = random.randint(1, 5)  \n",
    "        else:\n",
    "            item[\"Health\"] = random.randint(5, 10)\n",
    "    elif \"Black\" in name:\n",
    "        if \"Large\" in name:\n",
    "            item[\"Power\"] = random.randint(20, 30) \n",
    "        elif \"Small\" in name:\n",
    "            item[\"Power\"] = random.randint(5, 10)  \n",
    "        else:\n",
    "            item[\"Power\"] = random.randint(10, 20)\n",
    "    elif \"Blue\" in name:\n",
    "        if \"Large\" in name:\n",
    "            item[\"Mana\"] = random.randint(20, 30)\n",
    "            item[\"Power\"] = random.randint(20, 30)  \n",
    "        elif \"Small\" in name:\n",
    "            item[\"Mana\"] = random.randint(5, 10)\n",
    "            item[\"Power\"] = random.randint(5, 10)  \n",
    "        else:\n",
    "            item[\"Mana\"] = random.randint(10, 20)\n",
    "            item[\"Power\"] = random.randint(10, 20)\n",
    "    elif \"Orange\" in name:\n",
    "        if \"Large\" in name:\n",
    "            item[\"Mana\"] = random.randint(20, 30)\n",
    "            item[\"Power\"] = random.randint(20, 30)  \n",
    "        elif \"Small\" in name:\n",
    "            item[\"Mana\"] = random.randint(5, 10)\n",
    "            item[\"Power\"] = random.randint(5, 10)  \n",
    "        else:\n",
    "            item[\"Mana\"] = random.randint(10, 20)\n",
    "            item[\"Power\"] = random.randint(10, 20)\n"
   ]
  },
  {
   "cell_type": "markdown",
   "metadata": {},
   "source": [
    "# Generate inventory"
   ]
  },
  {
   "cell_type": "code",
   "execution_count": 17,
   "metadata": {},
   "outputs": [
    {
     "name": "stdout",
     "output_type": "stream",
     "text": [
      "{'id': 74, 'name': 'Lemon Bonbon', 'description': 'Ideal for those with a sweet tooth! This one tastes of lemon.', 'category': 'Food', 'Value': 2}\n",
      "{'id': 47, 'name': 'Gold Ingot', 'description': 'A solid bar of gold. Can be sold for a fortune or used in crafting.', 'category': 'General', 'Value': 2}\n",
      "{'id': 28, 'name': 'Demon Shield', 'description': \"A shield emblazoned with a demon's skull. Horrific, yet practical.\", 'category': 'Armour', 'Value': 18, 'AC': 3}\n",
      "{'id': 30, 'name': 'Earthen Staff', 'description': 'The staff from an Earth Wizard. Gives the user control of earth magic.', 'category': 'Magic', 'Damage': 1, 'Value': 10}\n",
      "{'id': 106, 'name': 'Silver Ingot', 'description': 'A solid bar of silver. Take this to a blacksmith to use it.', 'category': 'General', 'Value': 14}\n",
      "{'id': 55, 'name': 'Green Pearl', 'description': 'An unusual pearl with the colour of a vast meadow.', 'category': 'General', 'Value': 15, 'Mana': 17}\n",
      "{'id': 58, 'name': 'Holy Arrow', 'description': 'An arrow blessed by the gods. Highly effective against demons.', 'category': 'Weapons', 'Damage': 1, 'Value': 18}\n",
      "{'id': 70, 'name': 'Large Orange Potion', 'description': 'This potion restores mana and gives a boost of fire magic. Large size.', 'category': 'Healing', 'Value': 17, 'Mana': 28, 'Power': 26}\n",
      "{'id': 115, 'name': 'Small Purple Potion', 'description': 'This concoction restores both health and mana. Small size.', 'category': 'Healing', 'Value': 19}\n",
      "{'id': 22, 'name': 'Bronze Ingot', 'description': 'A solid bronze bar. A blacksmith can use it for crafting.', 'category': 'General', 'Value': 14}\n",
      "{'id': 24, 'name': 'Brown Fish', 'description': 'A very common fish found in most bodies of fresh water.', 'category': 'Food', 'Value': 1}\n",
      "{'id': 106, 'name': 'Silver Ingot', 'description': 'A solid bar of silver. Take this to a blacksmith to use it.', 'category': 'General', 'Value': 14}\n",
      "{'id': 34, 'name': 'Empty Vial', 'description': 'A glass bottle used to store potions. This is the size for a small potion.', 'category': 'Healing', 'Value': 1}\n",
      "{'id': 91, 'name': 'Purple Potion', 'description': 'This concoction restores both health and mana. Medium size.', 'category': 'Healing', 'Value': 19}\n"
     ]
    }
   ],
   "source": [
    "def generate_inventory():\n",
    "    loot = []\n",
    "    for i in range(14):\n",
    "        item_id = random.randint(1,131)\n",
    "        loot.append(itemdata['items'][item_id]) \n",
    "    return loot\n",
    "\n",
    "\n",
    "gear = generate_inventory()\n",
    "\n",
    "for item in gear:\n",
    "    print(item)\n"
   ]
  },
  {
   "cell_type": "code",
   "execution_count": 18,
   "metadata": {},
   "outputs": [
    {
     "name": "stdout",
     "output_type": "stream",
     "text": [
      "Training Sword\n",
      "A small wooden sword used to train new soldiers.\n",
      "-----------------------------------\n",
      "Ice Arrow\n",
      "Less powerful than the Frost Arrow but can still cool targets.\n",
      "-----------------------------------\n",
      "Rusted Ingot\n",
      "Rusted beyond recognition. A blacksmith can clean it up for you.\n",
      "-----------------------------------\n",
      "Golden Bow\n",
      "Made of the finest gold, this bow is the definition of style over substance.\n",
      "-----------------------------------\n",
      "Golden Arrow\n",
      "Looks very flashy, but not that much better than a wooden one.\n",
      "-----------------------------------\n",
      "Forest Shield\n",
      "A fine shield crafted from the wood of an ancient tree.\n",
      "-----------------------------------\n",
      "Earth Gem\n",
      "This brown coloured gem contains an abundance of earth magic.\n",
      "-----------------------------------\n",
      "Woodland Arrow\n",
      "A staple for any archer. This simple arrow is enough to get started.\n",
      "-----------------------------------\n",
      "Golden Buckler\n",
      "A golden shield designed to look good rather than protect people. \n",
      "-----------------------------------\n",
      "Wooden Sword\n",
      "An upgrade from the training sword. Made of wood but still sharp!\n",
      "-----------------------------------\n",
      "Small Blue Potion\n",
      "This concoction restores mana and gives a boost of water magic. Small size.\n",
      "-----------------------------------\n",
      "Empty Vial\n",
      "A glass bottle used to store potions. This is the size for a small potion.\n",
      "-----------------------------------\n",
      "Fire Ring\n",
      "Forged in the fires of a volcano, this ring allows the wearer to walk on lava.\n",
      "-----------------------------------\n",
      "Thunder Staff\n",
      "This staff allows the user to control violent storms using thunder magic.\n",
      "-----------------------------------\n"
     ]
    }
   ],
   "source": [
    "shop = generate_inventory()\n",
    "for item in shop:\n",
    "    print(item['name']) \n",
    "    print(item['description'])\n",
    "    print('-----------------------------------')"
   ]
  },
  {
   "cell_type": "code",
   "execution_count": 19,
   "metadata": {},
   "outputs": [
    {
     "ename": "SyntaxError",
     "evalue": "expected '(' (3106763357.py, line 1)",
     "output_type": "error",
     "traceback": [
      "\u001b[1;36m  Cell \u001b[1;32mIn[19], line 1\u001b[1;36m\u001b[0m\n\u001b[1;33m    def store\u001b[0m\n\u001b[1;37m             ^\u001b[0m\n\u001b[1;31mSyntaxError\u001b[0m\u001b[1;31m:\u001b[0m expected '('\n"
     ]
    }
   ],
   "source": [
    "def store"
   ]
  }
 ],
 "metadata": {
  "kernelspec": {
   "display_name": "ETE4990",
   "language": "python",
   "name": "python3"
  },
  "language_info": {
   "codemirror_mode": {
    "name": "ipython",
    "version": 3
   },
   "file_extension": ".py",
   "mimetype": "text/x-python",
   "name": "python",
   "nbconvert_exporter": "python",
   "pygments_lexer": "ipython3",
   "version": "3.13.1"
  }
 },
 "nbformat": 4,
 "nbformat_minor": 2
}
