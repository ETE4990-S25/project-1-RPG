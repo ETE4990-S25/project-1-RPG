{
 "cells": [
  {
   "cell_type": "markdown",
   "metadata": {},
   "source": []
  },
  {
   "cell_type": "markdown",
   "metadata": {},
   "source": [
    "# ~~combat Encounters~~   Encounters (general)\n",
    "- Status on vs off???\n",
    "- First turn goes to higher dex (stats)\n",
    "- 3 action options per turn, Attack, Use Item, Run"
   ]
  },
  {
   "cell_type": "code",
   "execution_count": 14,
   "metadata": {},
   "outputs": [],
   "source": [
    "import item_initalization\n",
    "import stat_generator"
   ]
  },
  {
   "cell_type": "code",
   "execution_count": null,
   "metadata": {},
   "outputs": [],
   "source": [
    "#def Adventure(a):\n",
    "    option = a\n",
    "    if option == 1:\n",
    "        for i in range(3):\n",
    "            print('Exploring Dungeon')\n",
    "    elif option == 2:\n",
    "        for i in range(3):\n",
    "            print('Exploring Dungeon')\n",
    "## delay between text and add line gaps for readability\n",
    "#Adventure(1)"
   ]
  },
  {
   "cell_type": "markdown",
   "metadata": {},
   "source": [
    "While 'combat flag' active or on\n",
    "\n",
    "While True vs While False?\n"
   ]
  },
  {
   "cell_type": "code",
   "execution_count": null,
   "metadata": {},
   "outputs": [],
   "source": [
    "#print('Would you rather')\n",
    "#print('a. Trade')\n",
    "#print('b. Adventure')\n",
    "#input()\n",
    "\n",
    "#if input == 'a':\n",
    "#    store()\n",
    "#else:\n",
    "    \n",
    "    \n"
   ]
  },
  {
   "cell_type": "markdown",
   "metadata": {},
   "source": [
    "# File calling (for my brain)"
   ]
  },
  {
   "cell_type": "markdown",
   "metadata": {},
   "source": [
    "## file_a"
   ]
  },
  {
   "cell_type": "markdown",
   "metadata": {},
   "source": [
    "print(\"This is file_a being executed\")\n",
    "\n",
    "def my_function():\n",
    "    print(\"This is my_function from file_a\")\n"
   ]
  },
  {
   "cell_type": "markdown",
   "metadata": {},
   "source": [
    "## file_b"
   ]
  },
  {
   "cell_type": "markdown",
   "metadata": {},
   "source": [
    "import file_a\n",
    "\n",
    "print(\"This is file_b\")\n",
    "file_a.my_function()\n"
   ]
  },
  {
   "cell_type": "markdown",
   "metadata": {},
   "source": [
    "## Output"
   ]
  },
  {
   "cell_type": "markdown",
   "metadata": {},
   "source": [
    "This is file_a being executed\n",
    "\n",
    "This is file_b\n",
    "\n",
    "This is my_function from file_a\n"
   ]
  },
  {
   "cell_type": "markdown",
   "metadata": {},
   "source": [
    "# second attempt"
   ]
  },
  {
   "cell_type": "code",
   "execution_count": 3,
   "metadata": {},
   "outputs": [],
   "source": [
    "import time\n",
    "import item_initalization\n",
    "import stat_generator\n",
    "import json"
   ]
  },
  {
   "cell_type": "code",
   "execution_count": 4,
   "metadata": {},
   "outputs": [],
   "source": [
    "import random"
   ]
  },
  {
   "cell_type": "code",
   "execution_count": 5,
   "metadata": {},
   "outputs": [],
   "source": [
    "with open('moblist.json', \"r\") as file:\n",
    "    mobinfo = json.load(file)"
   ]
  },
  {
   "cell_type": "code",
   "execution_count": 5,
   "metadata": {},
   "outputs": [
    {
     "name": "stdout",
     "output_type": "stream",
     "text": [
      "[{'Name': 'Fire Elemental', 'AC': 14, 'HP': 46, 'Attack': ['Fireball', 'Fire Dash']}, {'Name': 'Water Elemental', 'AC': 14, 'HP': 46, 'Attack': ['Water Gun', 'Aqua Jet']}, {'Name': 'Earth Elemental', 'AC': 14, 'HP': 46, 'Attack': ['Earth Tremor', 'Rock Slide']}, {'Name': 'Air Elemental', 'AC': 14, 'HP': 46, 'Attack': ['Gust', 'Windblade']}, {'Name': 'Displacer Beast', 'AC': 16, 'HP': 34, 'Attack': ['Tentacle', 'Mirage']}, {'Name': 'Zombie Hulk', 'AC': 10, 'HP': 65, 'Attack': ['Slam', 'Grab']}, {'Name': 'Giant Spider', 'AC': 13, 'HP': 35, 'Attack': ['Venom Bite', 'Web']}, {'Name': 'Frost Salamander', 'AC': 15, 'HP': 55, 'Attack': ['Frost Beam', 'Claw']}]\n"
     ]
    }
   ],
   "source": [
    "print(mobinfo)"
   ]
  },
  {
   "cell_type": "code",
   "execution_count": null,
   "metadata": {},
   "outputs": [
    {
     "name": "stdout",
     "output_type": "stream",
     "text": [
      "{'Name': 'Air Elemental', 'AC': 14, 'HP': 46, 'Attack': ['Gust', 'Windblade']}\n"
     ]
    }
   ],
   "source": [
    "def get_random_monster ():\n",
    "    print(mobinfo[random.randint(1,7)])\n",
    "\n"
   ]
  },
  {
   "cell_type": "code",
   "execution_count": 17,
   "metadata": {},
   "outputs": [
    {
     "name": "stdout",
     "output_type": "stream",
     "text": [
      "Name: Boblin\n",
      "Class: Rogue\n",
      "Strength: 15\n",
      "Dexterity: 12\n",
      "Constitution: 10\n",
      "Intelligence: 8\n",
      "Wisdom: 9\n",
      "Charisma: 11\n",
      "Hitpoints: 25\n",
      "None\n"
     ]
    }
   ],
   "source": [
    "player = stat_generator.Player('Boblin', 'Rogue')\n",
    "print(player.display_stats())"
   ]
  },
  {
   "cell_type": "code",
   "execution_count": null,
   "metadata": {},
   "outputs": [],
   "source": [
    "def combat(player):\n",
    "    monster = get_random_monster()\n",
    "    print(f\"A wild {monster['name']} appears!\")\n"
   ]
  },
  {
   "cell_type": "code",
   "execution_count": null,
   "metadata": {},
   "outputs": [],
   "source": [
    "def adventure(player):\n",
    "    locations = [\"exploring caves\", \"exploring plains\", \"exploring dungeon\"]\n",
    "    for _ in range(random.randint(3, 6)):\n",
    "        print(random.choice(locations))\n",
    "        time.sleep(1)\n",
    "    combat(player)\n",
    "\n",
    "    "
   ]
  },
  {
   "cell_type": "code",
   "execution_count": null,
   "metadata": {},
   "outputs": [],
   "source": [
    "def encounter():\n",
    "    while True:\n",
    "        choice = input('Do you wish to: (1) Adventure or (2) ')\n",
    "        if choice == '1':\n",
    "            item_initalization.store_interaction()\n",
    "        elif choice == '2':\n",
    "            adventure()\n",
    "        else:\n",
    "            print('Invalid Choice')\n",
    "            \n",
    "            "
   ]
  },
  {
   "cell_type": "code",
   "execution_count": null,
   "metadata": {},
   "outputs": [],
   "source": [
    "\n"
   ]
  }
 ],
 "metadata": {
  "kernelspec": {
   "display_name": "ETE4990",
   "language": "python",
   "name": "python3"
  },
  "language_info": {
   "codemirror_mode": {
    "name": "ipython",
    "version": 3
   },
   "file_extension": ".py",
   "mimetype": "text/x-python",
   "name": "python",
   "nbconvert_exporter": "python",
   "pygments_lexer": "ipython3",
   "version": "3.13.1"
  }
 },
 "nbformat": 4,
 "nbformat_minor": 2
}
