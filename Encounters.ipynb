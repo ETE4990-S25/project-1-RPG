{
 "cells": [
  {
   "cell_type": "markdown",
   "metadata": {},
   "source": []
  },
  {
   "cell_type": "markdown",
   "metadata": {},
   "source": [
    "# combat Encounters\n",
    "- Status on vs off???\n",
    "- First turn goes to higher dex (stats)\n",
    "- 3 action options per turn, Attack, Use Item, Run"
   ]
  },
  {
   "cell_type": "code",
   "execution_count": 9,
   "metadata": {},
   "outputs": [],
   "source": [
    "import item_initalization\n",
    "import stat_generator"
   ]
  },
  {
   "cell_type": "code",
   "execution_count": null,
   "metadata": {},
   "outputs": [],
   "source": [
    "def Adventure(a):\n",
    "    option = a\n",
    "    if option == 1:\n",
    "        for i in range(3):\n",
    "            print('Exploring Dungeon')\n",
    "    elif option == 2:\n",
    "        for i in range(3):\n",
    "            print('Exploring Dungeon')\n",
    "\n",
    "Adventure(1)"
   ]
  },
  {
   "cell_type": "code",
   "execution_count": null,
   "metadata": {},
   "outputs": [],
   "source": [
    "While 'combat flag' active or on\n",
    "\n"
   ]
  },
  {
   "cell_type": "code",
   "execution_count": null,
   "metadata": {},
   "outputs": [],
   "source": [
    "print('Would you rather')\n",
    "print('a. Trade')\n",
    "print('b. Adventure')\n",
    "input()\n",
    "\n",
    "if input == 'a':\n",
    "    store()\n",
    "else:\n",
    "    \n",
    "    \n"
   ]
  }
 ],
 "metadata": {
  "kernelspec": {
   "display_name": "ETE4990",
   "language": "python",
   "name": "python3"
  },
  "language_info": {
   "codemirror_mode": {
    "name": "ipython",
    "version": 3
   },
   "file_extension": ".py",
   "mimetype": "text/x-python",
   "name": "python",
   "nbconvert_exporter": "python",
   "pygments_lexer": "ipython3",
   "version": "3.13.1"
  }
 },
 "nbformat": 4,
 "nbformat_minor": 2
}
