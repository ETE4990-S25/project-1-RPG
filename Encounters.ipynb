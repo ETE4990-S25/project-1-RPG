{
 "cells": [
  {
   "cell_type": "markdown",
   "metadata": {},
   "source": []
  },
  {
   "cell_type": "markdown",
   "metadata": {},
   "source": [
    "# ~~combat Encounters~~   Encounters (general)\n",
    "- Status on vs off???\n",
    "- First turn goes to higher dex (stats)\n",
    "- 3 action options per turn, Attack, Use Item, Run"
   ]
  },
  {
   "cell_type": "code",
   "execution_count": 3,
   "metadata": {},
   "outputs": [],
   "source": [
    "import item_initalization\n",
    "import stat_generator"
   ]
  },
  {
   "cell_type": "code",
   "execution_count": null,
   "metadata": {},
   "outputs": [],
   "source": [
    "def Adventure(a):\n",
    "    option = a\n",
    "    if option == 1:\n",
    "        for i in range(3):\n",
    "            print('Exploring Dungeon')\n",
    "    elif option == 2:\n",
    "        for i in range(3):\n",
    "            print('Exploring Dungeon')\n",
    "## delay between text and add line gaps for readability\n",
    "Adventure(1)"
   ]
  },
  {
   "cell_type": "markdown",
   "metadata": {},
   "source": [
    "While 'combat flag' active or on\n",
    "\n",
    "While True vs While False?\n"
   ]
  },
  {
   "cell_type": "code",
   "execution_count": null,
   "metadata": {},
   "outputs": [],
   "source": [
    "print('Would you rather')\n",
    "print('a. Trade')\n",
    "print('b. Adventure')\n",
    "input()\n",
    "\n",
    "if input == 'a':\n",
    "    store()\n",
    "else:\n",
    "    \n",
    "    \n"
   ]
  },
  {
   "cell_type": "markdown",
   "metadata": {},
   "source": [
    "# File calling (for my brain)"
   ]
  },
  {
   "cell_type": "markdown",
   "metadata": {},
   "source": [
    "## file_a"
   ]
  },
  {
   "cell_type": "markdown",
   "metadata": {},
   "source": [
    "print(\"This is file_a being executed\")\n",
    "\n",
    "def my_function():\n",
    "    print(\"This is my_function from file_a\")\n"
   ]
  },
  {
   "cell_type": "markdown",
   "metadata": {},
   "source": [
    "## file_b"
   ]
  },
  {
   "cell_type": "markdown",
   "metadata": {},
   "source": [
    "import file_a\n",
    "\n",
    "print(\"This is file_b\")\n",
    "file_a.my_function()\n"
   ]
  },
  {
   "cell_type": "markdown",
   "metadata": {},
   "source": [
    "## Output"
   ]
  },
  {
   "cell_type": "markdown",
   "metadata": {},
   "source": [
    "This is file_a being executed\n",
    "\n",
    "This is file_b\n",
    "\n",
    "This is my_function from file_a\n"
   ]
  },
  {
   "cell_type": "markdown",
   "metadata": {},
   "source": [
    "# second attempt"
   ]
  },
  {
   "cell_type": "code",
   "execution_count": 1,
   "metadata": {},
   "outputs": [],
   "source": [
    "import time"
   ]
  },
  {
   "cell_type": "code",
   "execution_count": null,
   "metadata": {},
   "outputs": [
    {
     "ename": "_IncompleteInputError",
     "evalue": "incomplete input (2124792704.py, line 1)",
     "output_type": "error",
     "traceback": [
      "\u001b[1;36m  Cell \u001b[1;32mIn[4], line 1\u001b[1;36m\u001b[0m\n\u001b[1;33m    def shop_interaction():\u001b[0m\n\u001b[1;37m                           ^\u001b[0m\n\u001b[1;31m_IncompleteInputError\u001b[0m\u001b[1;31m:\u001b[0m incomplete input\n"
     ]
    }
   ],
   "source": [
    "\n",
    "    "
   ]
  },
  {
   "cell_type": "code",
   "execution_count": null,
   "metadata": {},
   "outputs": [],
   "source": [
    "def encounter():\n",
    "    while True:\n",
    "        choice = input('Do you wish to: (1) Adventure or (2) ')\n",
    "        if choice == '1':\n",
    "            item_initalization.store()\n",
    "        elif choice == '2':\n",
    "            adventure()\n",
    "        else:\n",
    "            print('Invalid Choice')\n",
    "            \n",
    "            "
   ]
  }
 ],
 "metadata": {
  "kernelspec": {
   "display_name": "ETE4990",
   "language": "python",
   "name": "python3"
  },
  "language_info": {
   "codemirror_mode": {
    "name": "ipython",
    "version": 3
   },
   "file_extension": ".py",
   "mimetype": "text/x-python",
   "name": "python",
   "nbconvert_exporter": "python",
   "pygments_lexer": "ipython3",
   "version": "3.13.1"
  }
 },
 "nbformat": 4,
 "nbformat_minor": 2
}
