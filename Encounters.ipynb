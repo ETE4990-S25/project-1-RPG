{
 "cells": [
  {
   "cell_type": "markdown",
   "metadata": {},
   "source": []
  },
  {
   "cell_type": "markdown",
   "metadata": {},
   "source": [
    "# ~~combat Encounters~~   Encounters (general)\n",
    "- Status on vs off???\n",
    "- First turn goes to higher dex (stats)\n",
    "- 3 action options per turn, Attack, Use Item, Run"
   ]
  },
  {
   "cell_type": "code",
   "execution_count": 1,
   "metadata": {},
   "outputs": [],
   "source": [
    "import item_initalization\n",
    "import stat_generator"
   ]
  },
  {
   "cell_type": "code",
   "execution_count": null,
   "metadata": {},
   "outputs": [],
   "source": [
    "#def Adventure(a):\n",
    "    option = a\n",
    "    if option == 1:\n",
    "        for i in range(3):\n",
    "            print('Exploring Dungeon')\n",
    "    elif option == 2:\n",
    "        for i in range(3):\n",
    "            print('Exploring Dungeon')\n",
    "## delay between text and add line gaps for readability\n",
    "#Adventure(1)"
   ]
  },
  {
   "cell_type": "markdown",
   "metadata": {},
   "source": [
    "While 'combat flag' active or on\n",
    "\n",
    "While True vs While False?\n"
   ]
  },
  {
   "cell_type": "code",
   "execution_count": null,
   "metadata": {},
   "outputs": [],
   "source": [
    "#print('Would you rather')\n",
    "#print('a. Trade')\n",
    "#print('b. Adventure')\n",
    "#input()\n",
    "\n",
    "#if input == 'a':\n",
    "#    store()\n",
    "#else:\n",
    "    \n",
    "    \n"
   ]
  },
  {
   "cell_type": "markdown",
   "metadata": {},
   "source": [
    "# File calling (for my brain)"
   ]
  },
  {
   "cell_type": "markdown",
   "metadata": {},
   "source": [
    "## file_a"
   ]
  },
  {
   "cell_type": "markdown",
   "metadata": {},
   "source": [
    "print(\"This is file_a being executed\")\n",
    "\n",
    "def my_function():\n",
    "    print(\"This is my_function from file_a\")\n"
   ]
  },
  {
   "cell_type": "markdown",
   "metadata": {},
   "source": [
    "## file_b"
   ]
  },
  {
   "cell_type": "markdown",
   "metadata": {},
   "source": [
    "import file_a\n",
    "\n",
    "print(\"This is file_b\")\n",
    "file_a.my_function()\n"
   ]
  },
  {
   "cell_type": "markdown",
   "metadata": {},
   "source": [
    "## Output"
   ]
  },
  {
   "cell_type": "markdown",
   "metadata": {},
   "source": [
    "This is file_a being executed\n",
    "\n",
    "This is file_b\n",
    "\n",
    "This is my_function from file_a\n"
   ]
  },
  {
   "cell_type": "markdown",
   "metadata": {},
   "source": [
    "# second attempt"
   ]
  },
  {
   "cell_type": "code",
   "execution_count": 16,
   "metadata": {},
   "outputs": [],
   "source": [
    "import time\n",
    "import item_initalization\n",
    "import stat_generator\n",
    "import json"
   ]
  },
  {
   "cell_type": "code",
   "execution_count": 17,
   "metadata": {},
   "outputs": [],
   "source": [
    "import random"
   ]
  },
  {
   "cell_type": "code",
   "execution_count": 18,
   "metadata": {},
   "outputs": [],
   "source": [
    "with open('moblist.json', \"r\") as file:\n",
    "    mobinfo = json.load(file)"
   ]
  },
  {
   "cell_type": "code",
   "execution_count": 19,
   "metadata": {},
   "outputs": [
    {
     "name": "stdout",
     "output_type": "stream",
     "text": [
      "[{'Name': 'Fire Elemental', 'AC': 14, 'HP': 46, 'Attack': ['Fireball', 'Fire Dash']}, {'Name': 'Water Elemental', 'AC': 14, 'HP': 46, 'Attack': ['Water Gun', 'Aqua Jet']}, {'Name': 'Earth Elemental', 'AC': 14, 'HP': 46, 'Attack': ['Earth Tremor', 'Rock Slide']}, {'Name': 'Air Elemental', 'AC': 14, 'HP': 46, 'Attack': ['Gust', 'Windblade']}, {'Name': 'Displacer Beast', 'AC': 16, 'HP': 34, 'Attack': ['Tentacle', 'Mirage']}, {'Name': 'Zombie Hulk', 'AC': 10, 'HP': 65, 'Attack': ['Slam', 'Grab']}, {'Name': 'Giant Spider', 'AC': 13, 'HP': 35, 'Attack': ['Venom Bite', 'Web']}, {'Name': 'Frost Salamander', 'AC': 15, 'HP': 55, 'Attack': ['Frost Beam', 'Claw']}]\n"
     ]
    }
   ],
   "source": [
    "print(mobinfo)"
   ]
  },
  {
   "cell_type": "code",
   "execution_count": 20,
   "metadata": {},
   "outputs": [],
   "source": [
    "def get_random_monster ():\n",
    "    return random.choice(mobinfo)"
   ]
  },
  {
   "cell_type": "code",
   "execution_count": 21,
   "metadata": {},
   "outputs": [
    {
     "name": "stdout",
     "output_type": "stream",
     "text": [
      "A wild Frost Salamander appears!\n"
     ]
    }
   ],
   "source": [
    "monster = get_random_monster()\n",
    "print(f\"A wild {monster['Name']} appears!\")"
   ]
  },
  {
   "cell_type": "code",
   "execution_count": 22,
   "metadata": {},
   "outputs": [
    {
     "name": "stdout",
     "output_type": "stream",
     "text": [
      "Name: Boblin\n",
      "Class: Adventurer\n",
      "Strength: 14\n",
      "Dexterity: 16\n",
      "Constitution: 11\n",
      "Intelligence: 15\n",
      "Wisdom: 10\n",
      "Charisma: 13\n",
      "Hitpoints: 24\n",
      "Armor Class: 10\n",
      "Damage: 1\n",
      "Equipped Weapon: None\n",
      "Equipped Armor: None\n",
      "None\n"
     ]
    }
   ],
   "source": [
    "player = stat_generator.Player('Boblin', 'Adventurer')\n",
    "print(player.display_stats())"
   ]
  },
  {
   "cell_type": "code",
   "execution_count": 35,
   "metadata": {},
   "outputs": [],
   "source": [
    "gear,gold = item_initalization.generate_inventory()"
   ]
  },
  {
   "cell_type": "code",
   "execution_count": 36,
   "metadata": {},
   "outputs": [],
   "source": [
    "player.add_to_inventory(gear)"
   ]
  },
  {
   "cell_type": "code",
   "execution_count": 38,
   "metadata": {},
   "outputs": [
    {
     "name": "stdout",
     "output_type": "stream",
     "text": [
      "Inventory:\n",
      "Pink Candycane (x1)\n",
      "Sun Ring (x1)\n",
      "Ancient Coin (x1)\n",
      "Blue Potion (x1)\n",
      "Pile of Silver (x1)\n",
      "Woodland Bow (x1)\n",
      "Dark Sword (x1)\n",
      "Frozen Helmet (x1)\n",
      "Golden Coin (x1)\n",
      "Woodland Arrow (x1)\n",
      "Fire Ring (x1)\n",
      "Red Pearl (x1)\n",
      "Red Potion (x1)\n",
      "Holy Blade (x1)\n",
      "Holy Shield (x1)\n"
     ]
    }
   ],
   "source": [
    "player.display_inventory()"
   ]
  },
  {
   "cell_type": "code",
   "execution_count": 27,
   "metadata": {},
   "outputs": [],
   "source": [
    "# Turn-based combat function\n",
    "def combat(player):\n",
    "    monster = get_random_monster()\n",
    "    \n",
    "    print(f\"\\n⚔ A wild {monster['Name']} appears! ⚔\")\n",
    "    print(f\"AC: {monster['AC']}, HP: {monster['HP']}\")\n",
    "    print(f\"Attacks: {', '.join(monster['Attack'])}\\n\")\n",
    "    \n",
    "    monster_hp = monster['HP']\n",
    "    \n",
    "    # Determine turn order based on Dexterity\n",
    "    player_turn = player.dexterity >= 10  # Adjust threshold as needed\n",
    "    power_buff = 0  # Variable to track power potion effect\n",
    "\n",
    "    while player.hitpoints > 0 and monster_hp > 0:\n",
    "        if player_turn:\n",
    "            print(\"\\nYour turn! Choose an action:\")\n",
    "            print(\"1 Attack\")\n",
    "            print(\"2 Use Potion\")\n",
    "            print(\"3 Run Away\")\n",
    "            choice = input(\"> \")\n",
    "\n",
    "            if choice == \"1\":\n",
    "                # Apply power buff to damage if it's active\n",
    "                damage = random.randint(1, 6) + player.strength + power_buff\n",
    "                print(f\"You attack {monster['Name']} for {damage} damage!\")\n",
    "                monster_hp -= damage\n",
    "\n",
    "            elif choice == \"2\":\n",
    "                if player.inventory:  # Ensure there's something to use\n",
    "                    print(\"Select potion to use:\")\n",
    "                    for i, item in enumerate(player.inventory.items):\n",
    "                        if 'Health' in item:\n",
    "                            print(f\"{i+1}. Health Potion ({item['Health']} HP)\")\n",
    "                        elif 'Mana' in item:\n",
    "                            print(f\"{i+1}. Mana Potion ({item['Mana']} Mana)\")\n",
    "                        elif 'Power' in item:\n",
    "                            print(f\"{i+1}. Power Potion (+{item['Power']} Damage)\")\n",
    "\n",
    "                    potion_choice = int(input(\"> \")) - 1\n",
    "                    potion = player.inventory[potion_choice]\n",
    "\n",
    "                    if 'Health' in potion:\n",
    "                        player.hitpoints += potion['Health']\n",
    "                        print(f\"You used a Health Potion! Healed {potion['Health']} HP\")\n",
    "                        player.inventory.remove(potion)\n",
    "\n",
    "                    elif 'Mana' in potion:\n",
    "                        # Example: Mana potion gives the player another attack this turn\n",
    "                        print(f\"You used a Mana Potion! You can attack twice this turn!\")\n",
    "                        # Allow the player to attack twice in this turn\n",
    "                        damage = random.randint(1, 6) + player.stats[\"Strength\"]\n",
    "                        print(f\"You attack {monster['Name']} for {damage} damage!\")\n",
    "                        monster_hp -= damage\n",
    "                        player.inventory.remove(potion)\n",
    "\n",
    "                    elif 'Power' in potion:\n",
    "                        power_buff = potion['Power']  # Apply power buff to player damage\n",
    "                        print(f\"You used a Power Potion! Your damage is increased by {potion['Power']} this turn.\")\n",
    "                        player.inventory.remove(potion)\n",
    "\n",
    "                else:\n",
    "                    print(\"You have no potions!\")\n",
    "\n",
    "            elif choice == \"3\":\n",
    "                if random.random() < 0.5:  # 50% escape chance\n",
    "                    print(\"You successfully ran away!\")\n",
    "                    return\n",
    "                else:\n",
    "                    print(\"You failed to escape!\")\n",
    "\n",
    "            else:\n",
    "                print(\"Invalid choice, turn wasted!\")\n",
    "\n",
    "        else:\n",
    "            attack = random.choice(monster[\"Attack\"])\n",
    "            damage = random.randint(1, 6)  # Monster attack example\n",
    "            print(f\"{monster['Name']} uses {attack} for {damage} damage!\")\n",
    "            player.hitpoints -= damage\n",
    "\n",
    "        print(f\"📊 Player HP: {player.hitpoints} | {monster['Name']} HP: {monster_hp}\")\n",
    "\n",
    "        # Reset power buff after turn\n",
    "        power_buff = 0\n",
    "\n",
    "        # Switch turns\n",
    "        player_turn = not player_turn\n",
    "        time.sleep(1.5)\n",
    "\n",
    "    if player.hitpoints <= 0:\n",
    "        print(\"\\n💀 You have been defeated!\")\n",
    "    elif monster_hp <= 0:\n",
    "        print(f\"\\n🏆 You defeated {monster['Name']}!\")\n",
    "\n"
   ]
  },
  {
   "cell_type": "code",
   "execution_count": 28,
   "metadata": {},
   "outputs": [
    {
     "name": "stdout",
     "output_type": "stream",
     "text": [
      "\n",
      "⚔ A wild Water Elemental appears! ⚔\n",
      "AC: 14, HP: 46\n",
      "Attacks: Water Gun, Aqua Jet\n",
      "\n",
      "\n",
      "Your turn! Choose an action:\n",
      "1 Attack\n",
      "2 Use Potion\n",
      "3 Run Away\n",
      "Invalid choice, turn wasted!\n",
      "📊 Player HP: 24 | Water Elemental HP: 46\n",
      "Water Elemental uses Aqua Jet for 2 damage!\n",
      "📊 Player HP: 22 | Water Elemental HP: 46\n",
      "\n",
      "Your turn! Choose an action:\n",
      "1 Attack\n",
      "2 Use Potion\n",
      "3 Run Away\n",
      "You attack Water Elemental for 17 damage!\n",
      "📊 Player HP: 22 | Water Elemental HP: 29\n",
      "Water Elemental uses Water Gun for 2 damage!\n",
      "📊 Player HP: 20 | Water Elemental HP: 29\n",
      "\n",
      "Your turn! Choose an action:\n",
      "1 Attack\n",
      "2 Use Potion\n",
      "3 Run Away\n",
      "You attack Water Elemental for 17 damage!\n",
      "📊 Player HP: 20 | Water Elemental HP: 12\n",
      "Water Elemental uses Water Gun for 4 damage!\n",
      "📊 Player HP: 16 | Water Elemental HP: 12\n",
      "\n",
      "Your turn! Choose an action:\n",
      "1 Attack\n",
      "2 Use Potion\n",
      "3 Run Away\n",
      "You attack Water Elemental for 20 damage!\n",
      "📊 Player HP: 16 | Water Elemental HP: -8\n",
      "\n",
      "🏆 You defeated Water Elemental!\n"
     ]
    }
   ],
   "source": [
    "combat(player)"
   ]
  },
  {
   "cell_type": "code",
   "execution_count": 31,
   "metadata": {},
   "outputs": [],
   "source": [
    "def save_game(player):\n",
    "    with open(\"save_game.json\", \"w\") as file:\n",
    "        # Save the player's stats and inventory\n",
    "        save_data = {\n",
    "            \"name\": player.name,\n",
    "            \"class\": player.char_class,\n",
    "            \"stats\": player.stats,\n",
    "            \"inventory\": player.inventory.items  # Assuming inventory is a list of items\n",
    "        }\n",
    "        json.dump(save_data, file, indent=4)\n",
    "    print(\"Game saved successfully.\")"
   ]
  },
  {
   "cell_type": "code",
   "execution_count": 34,
   "metadata": {},
   "outputs": [],
   "source": [
    "def load_game():\n",
    "    try:\n",
    "        with open(\"save_game.json\", \"r\") as file:\n",
    "            save_data = json.load(file)\n",
    "            # You would create the player from the saved data (name, class, stats, inventory)\n",
    "            player = stat_generator.Player(save_data[\"name\"], save_data[\"class\"])\n",
    "            player.stats = save_data[\"stats\"]\n",
    "            player.inventory = save_data[\"inventory\"]\n",
    "            print(f\"Game loaded: {player.name} the {player.char_class}\")\n",
    "            return player\n",
    "    except FileNotFoundError:\n",
    "        print(\"No saved game found. Starting a new game.\")\n",
    "        return None\n"
   ]
  },
  {
   "cell_type": "code",
   "execution_count": 29,
   "metadata": {},
   "outputs": [],
   "source": [
    "def adventure(player):\n",
    "    locations = [\"exploring caves\", \"exploring plains\", \"exploring dungeon\"]\n",
    "    for _ in range(random.randint(3, 6)):\n",
    "        print(random.choice(locations))\n",
    "        time.sleep(1)\n",
    "    combat(player)\n",
    "\n",
    "    "
   ]
  },
  {
   "cell_type": "code",
   "execution_count": null,
   "metadata": {},
   "outputs": [],
   "source": [
    "def encounter(player):\n",
    "    while True:\n",
    "        print(\"\\nWhat would you like to do?\")\n",
    "        choice = input('1. Adventure\\n2. Trade\\n3. Equip gear\\n4. Save and Quit\\nEnter your choice: ')\n",
    "        \n",
    "        if choice == '1':\n",
    "            adventure(player)\n",
    "        elif choice == '2':\n",
    "            item_initalization.store_interaction()\n",
    "        elif choice == '3':\n",
    "            item_initalization.equip_from_inventory()\n",
    "        elif choice == '4':\n",
    "            save_game(player)  # Save the game and exit\n",
    "            break  # Exit the encounter loop, effectively quitting the game\n",
    "        else:\n",
    "            print('Invalid choice. Please choose 1, 2, 3, or 4')\n",
    "            \n",
    "            "
   ]
  },
  {
   "cell_type": "code",
   "execution_count": null,
   "metadata": {},
   "outputs": [],
   "source": [
    "\n"
   ]
  }
 ],
 "metadata": {
  "kernelspec": {
   "display_name": "ETE4990",
   "language": "python",
   "name": "python3"
  },
  "language_info": {
   "codemirror_mode": {
    "name": "ipython",
    "version": 3
   },
   "file_extension": ".py",
   "mimetype": "text/x-python",
   "name": "python",
   "nbconvert_exporter": "python",
   "pygments_lexer": "ipython3",
   "version": "3.13.1"
  }
 },
 "nbformat": 4,
 "nbformat_minor": 2
}
