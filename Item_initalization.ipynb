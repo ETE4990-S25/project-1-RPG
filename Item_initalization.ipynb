{
 "cells": [
  {
   "cell_type": "markdown",
   "metadata": {},
   "source": [
    "## Import item list for game\n"
   ]
  },
  {
   "cell_type": "code",
   "execution_count": 33,
   "metadata": {},
   "outputs": [],
   "source": [
    "import json\n",
    "import random\n",
    "import stat_generator"
   ]
  },
  {
   "cell_type": "code",
   "execution_count": 11,
   "metadata": {},
   "outputs": [],
   "source": [
    "with open('ItemData.json', \"r\") as file:\n",
    "    itemdata = json.load(file)\n"
   ]
  },
  {
   "cell_type": "markdown",
   "metadata": {},
   "source": [
    "## Add damage number to items\n"
   ]
  },
  {
   "cell_type": "code",
   "execution_count": 12,
   "metadata": {},
   "outputs": [],
   "source": [
    "valid_types = {'Magic', 'Weapons'}\n",
    "\n",
    "for item in itemdata['items']:  #iterate through list of dictionaries\n",
    "# check if category has allowed values\n",
    "    if item.get('category') in valid_types:\n",
    "        #exclude arrows\n",
    "        if \"arrow\" in itemdata['items']:\n",
    "            continue\n",
    "        item['Damage'] = random.randint(1,5)\n"
   ]
  },
  {
   "cell_type": "markdown",
   "metadata": {},
   "source": [
    "# Add money values to items\n"
   ]
  },
  {
   "cell_type": "code",
   "execution_count": 13,
   "metadata": {},
   "outputs": [],
   "source": [
    "for item in itemdata['items']:\n",
    "    name = item.get('name', '')\n",
    "    category = item.get('category', '')\n",
    "    if 'Empty' in name:\n",
    "        item['Value'] = random.randint(1,5)\n",
    "    elif 'General' in category:\n",
    "        item['Value'] = random.randint(1,15)\n",
    "    elif 'Magic' in category:\n",
    "        item['Value'] = random.randint(10,20)\n",
    "    elif 'Weapon' in category:\n",
    "        item['Value'] = random.randint(10,20)\n",
    "    elif 'Food' in category:\n",
    "        item['Value'] = random.randint(1,5)\n",
    "    else: \n",
    "        item['Value'] = random.randint(15,20)"
   ]
  },
  {
   "cell_type": "markdown",
   "metadata": {},
   "source": [
    "## Add AC Values to armor\n"
   ]
  },
  {
   "cell_type": "code",
   "execution_count": 14,
   "metadata": {},
   "outputs": [],
   "source": [
    "valid_armor = {'Armour'}\n",
    "\n",
    "for item in itemdata['items']:\n",
    "        # Exclude items with \"ring\" in the name (case-insensitive)\n",
    "    if \"ring\" in item.get(\"name\", \"\").lower():\n",
    "        continue  \n",
    "    if \"helmet\" in item.get(\"description\", \"\").lower():\n",
    "        continue \n",
    "    \n",
    "    if item.get('category') in valid_armor:\n",
    "        item['AC'] = random.randint(1,3)\n"
   ]
  },
  {
   "cell_type": "markdown",
   "metadata": {},
   "source": [
    "## Add potion traits\n",
    "\n",
    "- Healing\n",
    "- Mana\n",
    "- General Power (damage boost)\n"
   ]
  },
  {
   "cell_type": "code",
   "execution_count": 15,
   "metadata": {},
   "outputs": [],
   "source": [
    "\n",
    "for item in itemdata['items']:   #Navigate items in each dictionary\n",
    "    name = item.get('name', '')\n",
    "\n",
    "    if \"Green\" in name:\n",
    "        if \"Large\" in name:\n",
    "            item[\"Mana\"] = random.randint(30, 50)  # Large Green Potion gets the most\n",
    "        elif \"Small\" in name:\n",
    "            item[\"Mana\"] = random.randint(5, 10)  # Small Green Potion gets the lowest \n",
    "        else:\n",
    "            item[\"Mana\"] = random.randint(10, 20)  # Default to Regular if no size isn't in name\n",
    "    elif \"Red\" in name:\n",
    "        if \"Large\" in name:\n",
    "            item[\"Health\"] = random.randint(20, 30)  \n",
    "        elif \"Small\" in name:\n",
    "            item[\"Health\"] = random.randint(5, 10)  \n",
    "        else:\n",
    "            item[\"Health\"] = random.randint(10, 20)\n",
    "    elif \"Pink\" in name:\n",
    "        if \"Large\" in name:\n",
    "            item[\"Health\"] = random.randint(15, 20)  \n",
    "        elif \"Small\" in name:\n",
    "            item[\"Health\"] = random.randint(1, 5)  \n",
    "        else:\n",
    "            item[\"Health\"] = random.randint(5, 10)\n",
    "    elif \"Black\" in name:\n",
    "        if \"Large\" in name:\n",
    "            item[\"Power\"] = random.randint(20, 30) \n",
    "        elif \"Small\" in name:\n",
    "            item[\"Power\"] = random.randint(5, 10)  \n",
    "        else:\n",
    "            item[\"Power\"] = random.randint(10, 20)\n",
    "    elif \"Blue\" in name:\n",
    "        if \"Large\" in name:\n",
    "            item[\"Mana\"] = random.randint(20, 30)\n",
    "            item[\"Power\"] = random.randint(20, 30)  \n",
    "        elif \"Small\" in name:\n",
    "            item[\"Mana\"] = random.randint(5, 10)\n",
    "            item[\"Power\"] = random.randint(5, 10)  \n",
    "        else:\n",
    "            item[\"Mana\"] = random.randint(10, 20)\n",
    "            item[\"Power\"] = random.randint(10, 20)\n",
    "    elif \"Orange\" in name:\n",
    "        if \"Large\" in name:\n",
    "            item[\"Mana\"] = random.randint(20, 30)\n",
    "            item[\"Power\"] = random.randint(20, 30)  \n",
    "        elif \"Small\" in name:\n",
    "            item[\"Mana\"] = random.randint(5, 10)\n",
    "            item[\"Power\"] = random.randint(5, 10)  \n",
    "        else:\n",
    "            item[\"Mana\"] = random.randint(10, 20)\n",
    "            item[\"Power\"] = random.randint(10, 20)\n"
   ]
  },
  {
   "cell_type": "markdown",
   "metadata": {},
   "source": [
    "# Generate inventory\n"
   ]
  },
  {
   "cell_type": "code",
   "execution_count": 21,
   "metadata": {},
   "outputs": [
    {
     "name": "stdout",
     "output_type": "stream",
     "text": [
      "[{'id': 5, 'name': 'Ancient Spellbook', 'description': 'A tome from a time forgotten, filled with all sorts of incantations.', 'category': 'Magic', 'Damage': 3, 'Value': 11}, {'id': 121, 'name': 'Thunder Staff', 'description': 'This staff allows the user to control violent storms using thunder magic.', 'category': 'Magic', 'Damage': 5, 'Value': 19}, {'id': 18, 'name': 'Blue Pearl', 'description': 'The colour of this beautiful pearl reminds of the seas from whence it came.', 'category': 'General', 'Value': 5, 'Mana': 16, 'Power': 11}, {'id': 11, 'name': 'Blank Scroll', 'description': 'Spare parchment, awaiting someone to use it for a spell.', 'category': 'Magic', 'Damage': 2, 'Value': 19}, {'id': 60, 'name': 'Holy Shield', 'description': 'A strong shield that also provides brief immunity from evil magic.', 'category': 'Armour', 'Value': 18, 'AC': 3}, {'id': 4, 'name': 'Ancient Scroll', 'description': 'An ancient scroll full of incantations long thought lost.', 'category': 'Magic', 'Damage': 5, 'Value': 12}, {'id': 101, 'name': 'Shimmering Ingot', 'description': 'This metal has been polished to an high shine. Take it to a blacksmith.', 'category': 'General', 'Value': 13}, {'id': 131, 'name': 'Yellow Fish', 'description': 'A small fish with yellow scales that glisten in the sunlight.', 'category': 'Food', 'Value': 3}, {'id': 129, 'name': 'Woodland Bow', 'description': 'A bow forged from ancient trees in the elven forest.', 'category': 'Weapons', 'Damage': 3, 'Value': 10}, {'id': 87, 'name': 'Pink Potion', 'description': 'A health restoring potion. Less potent than a red potion. Medium size.', 'category': 'Healing', 'Value': 17, 'Health': 10}, {'id': 102, 'name': 'Silver Arrow', 'description': 'Effective against werewolves thanks to its silver arrowhead.', 'category': 'Weapons', 'Damage': 5, 'Value': 16}, {'id': 83, 'name': 'Orange Potion', 'description': 'This potion restores mana and gives a boost of fire magic. Medium size.', 'category': 'Healing', 'Value': 15, 'Mana': 10, 'Power': 19}, {'id': 37, 'name': 'Fire Gem', 'description': 'It feels warm to the touch. This gem appears to have a tiny flame in its centre.', 'category': 'Magic', 'Damage': 4, 'Value': 14}, {'id': 26, 'name': 'Dark Sword', 'description': 'Forged for a demon king, this sword burns the souls of its enemies.', 'category': 'Weapons', 'Damage': 1, 'Value': 17}, {'id': 114, 'name': 'Small Pink Potion', 'description': 'A health restoring potion. Less potent than a red potion. Small size.', 'category': 'Healing', 'Value': 18, 'Health': 1}]\n",
      "30 Gold\n"
     ]
    }
   ],
   "source": [
    "def generate_inventory():\n",
    "    loot = []\n",
    "    gold = random.randint(20,50)\n",
    "    for i in range(15):\n",
    "        item_id = random.randint(1,131)\n",
    "        loot.append(itemdata['items'][item_id]) \n",
    "    return loot, gold\n",
    "   \n",
    "\n",
    "\n",
    "gear,gold = generate_inventory()\n",
    "\n",
    "print(gear)\n",
    "print( gold,'Gold')\n"
   ]
  },
  {
   "cell_type": "code",
   "execution_count": 36,
   "metadata": {},
   "outputs": [
    {
     "name": "stdout",
     "output_type": "stream",
     "text": [
      "Name: James\n",
      "Class: Knight\n",
      "Strength: 14\n",
      "Dexterity: 10\n",
      "Constitution: 10\n",
      "Intelligence: 15\n",
      "Wisdom: 13\n",
      "Charisma: 15\n",
      "Hitpoints: 20\n",
      "None\n"
     ]
    }
   ],
   "source": [
    "player = stat_generator.Player('James', 'Knight')\n",
    "print(player.display_stats())\n",
    "player.add_to_inventory(generate_inventory())"
   ]
  },
  {
   "cell_type": "code",
   "execution_count": 37,
   "metadata": {},
   "outputs": [
    {
     "data": {
      "text/plain": [
       "[{'name': ([{'id': 48,\n",
       "     'name': 'Golden Arrow',\n",
       "     'description': 'Looks very flashy, but not that much better than a wooden one.',\n",
       "     'category': 'Weapons',\n",
       "     'Damage': 5,\n",
       "     'Value': 15},\n",
       "    {'id': 128,\n",
       "     'name': 'Woodland Arrow',\n",
       "     'description': 'A staple for any archer. This simple arrow is enough to get started.',\n",
       "     'category': 'Weapons',\n",
       "     'Damage': 2,\n",
       "     'Value': 11},\n",
       "    {'id': 117,\n",
       "     'name': 'Spent Gem',\n",
       "     'description': 'This gem has been drained of all its magic. A mage can restore it.',\n",
       "     'category': 'Magic',\n",
       "     'Damage': 4,\n",
       "     'Value': 10},\n",
       "    {'id': 3,\n",
       "     'name': 'Ancient Coin',\n",
       "     'description': 'Currency from an ancient civilisation, this belongs in a museum!',\n",
       "     'category': 'General',\n",
       "     'Value': 12},\n",
       "    {'id': 15,\n",
       "     'name': 'Bloodstone Ring',\n",
       "     'description': 'The bloodstone set in this ring grants the wearer healing magic.',\n",
       "     'category': 'Armour',\n",
       "     'Value': 19},\n",
       "    {'id': 80,\n",
       "     'name': 'Mysterious Key',\n",
       "     'description': 'What does this unlock? Better start trying it out!',\n",
       "     'category': 'General',\n",
       "     'Value': 2},\n",
       "    {'id': 44,\n",
       "     'name': 'Forest Shield',\n",
       "     'description': 'A fine shield crafted from the wood of an ancient tree.',\n",
       "     'category': 'Armour',\n",
       "     'Value': 18,\n",
       "     'AC': 2},\n",
       "    {'id': 52,\n",
       "     'name': 'Golden Key',\n",
       "     'description': 'A key as lovely as this must open the way to an equally lovely prize!',\n",
       "     'category': 'General',\n",
       "     'Value': 13},\n",
       "    {'id': 27,\n",
       "     'name': 'Demon Helm',\n",
       "     'description': 'A terrifying helmet forged from the skull of a mighty demon.',\n",
       "     'category': 'Armour',\n",
       "     'Value': 16},\n",
       "    {'id': 105,\n",
       "     'name': 'Silver Helm',\n",
       "     'description': \"A beautiful helmet mainly used for ceremonies. It's not really made for battle.\",\n",
       "     'category': 'Armour',\n",
       "     'Value': 20},\n",
       "    {'id': 104,\n",
       "     'name': 'Silver Coin',\n",
       "     'description': 'A shiny silver coin. Save up plenty of these for a shopping trip!',\n",
       "     'category': 'General',\n",
       "     'Value': 8},\n",
       "    {'id': 17,\n",
       "     'name': 'Blue Fish',\n",
       "     'description': \"Common in the local rivers, this fish's scales shimmer in the sunlight.\",\n",
       "     'category': 'Food',\n",
       "     'Value': 5,\n",
       "     'Mana': 17,\n",
       "     'Power': 13},\n",
       "    {'id': 31,\n",
       "     'name': 'Elven Ring',\n",
       "     'description': 'Forged by the forest elves, this ring grants the wearer extra stealth.',\n",
       "     'category': 'Armour',\n",
       "     'Value': 17},\n",
       "    {'id': 122,\n",
       "     'name': 'Training Sword',\n",
       "     'description': 'A small wooden sword used to train new soldiers.',\n",
       "     'category': 'Weapons',\n",
       "     'Damage': 5,\n",
       "     'Value': 14},\n",
       "    {'id': 35,\n",
       "     'name': 'Festive Bonbon',\n",
       "     'description': 'Ideal for those with a sweet tooth! This one tastes of spices.',\n",
       "     'category': 'Food',\n",
       "     'Value': 5}],\n",
       "   45),\n",
       "  'quantity': 1}]"
      ]
     },
     "execution_count": 37,
     "metadata": {},
     "output_type": "execute_result"
    }
   ],
   "source": [
    "player.get_inventory()"
   ]
  },
  {
   "cell_type": "code",
   "execution_count": null,
   "metadata": {},
   "outputs": [],
   "source": [
    "#def store_interaction():\n",
    "    shop, gold = generate_inventory()\n",
    "    print('Welcome to my shop adventurer!')\n",
    "    print('Please have a look at my wares:\\n')\n",
    "    print('If you wish to sell, I have', gold, 'gold on hand\\n')\n",
    "    \n",
    "    print('You have', player.get_gold(), 'Gold to spend\\n')\n",
    "\n",
    "    for item in shop:\n",
    "        print(item['name']) \n",
    "        print(item['description'])\n",
    "        print(item['Value'], 'Gold')\n",
    "        print('-----------------------------------')\n",
    "    # Add number to items 2 buy\n",
    "    \n",
    "\n",
    "\n",
    "        \n",
    "\n",
    "\n",
    "#store_interaction()"
   ]
  },
  {
   "cell_type": "code",
   "execution_count": null,
   "metadata": {},
   "outputs": [],
   "source": [
    "#def store():\n",
    "#    shop = generate_inventory()\n",
    "#    for item in shop['items']:\n",
    "#        name = item.get('name', '')\n",
    "#        if 'Pile' in name:\n",
    "#            shop.pop()\n",
    "            \n",
    "#    for item in shop:\n",
    "#        print(item['name']) \n",
    "#        print(item['description'])\n",
    "#        print(item['Value'], 'Gold')\n",
    "#        print('-----------------------------------')\n",
    "\n",
    "\n",
    "#store()\n",
    "\n",
    "#stuff = ['apple', 'cheeto', 'dog']\n",
    "#for index, stuff in enumerate(stuff, start= 1):\n",
    "    print(index,stuff)"
   ]
  },
  {
   "cell_type": "markdown",
   "metadata": {},
   "source": [
    "# Function to open backpack (changed to class attribute)"
   ]
  },
  {
   "cell_type": "code",
   "execution_count": null,
   "metadata": {},
   "outputs": [],
   "source": [
    "#def Backpack():\n",
    "    for item in gear:\n",
    "        for key, value in item.items():\n",
    "            if key != 'id':  # Exclude 'ID' key\n",
    "                print(f\"{key}: {value}\")\n",
    "        print('-----------------------------------')\n",
    "\n",
    "\n",
    "#Backpack()"
   ]
  },
  {
   "cell_type": "markdown",
   "metadata": {},
   "source": [
    "# Store interaction Version 2"
   ]
  },
  {
   "cell_type": "code",
   "execution_count": 24,
   "metadata": {},
   "outputs": [
    {
     "name": "stdout",
     "output_type": "stream",
     "text": [
      "Welcome to my shop, adventurer!\n",
      "Please have a look at my wares:\n",
      "\n",
      "If you wish to sell, I have 36 gold on hand.\n",
      "\n",
      "You have 50 Gold to spend.\n",
      "\n",
      "1. Blank Scroll\n",
      "Spare parchment, awaiting someone to use it for a spell.\n",
      "19 Gold\n",
      "-----------------------------------\n",
      "2. Woodland Bow\n",
      "A bow forged from ancient trees in the elven forest.\n",
      "10 Gold\n",
      "-----------------------------------\n",
      "3. Fire Staff\n",
      "Control fire magic with this mighty staff.\n",
      "13 Gold\n",
      "-----------------------------------\n",
      "4. Empty Flask\n",
      "A glass bottle used to store potions. This is the size for a large potion.\n",
      "4 Gold\n",
      "-----------------------------------\n",
      "5. Winter Shield\n",
      "Built by craftsmen in the most northern region, this shield repels all ice magic.\n",
      "17 Gold\n",
      "-----------------------------------\n",
      "6. Light Arrow\n",
      "A less potent version of the holy arrow. Effective against dark magic.\n",
      "15 Gold\n",
      "-----------------------------------\n",
      "7. Purple Candycane\n",
      "A sugary treat laced with a blackcurrant flavour.\n",
      "2 Gold\n",
      "-----------------------------------\n",
      "8. Holy Staff\n",
      "This staff gives control over powerful holy and healing magic.\n",
      "11 Gold\n",
      "-----------------------------------\n",
      "9. Mysterious Key\n",
      "What does this unlock? Better start trying it out!\n",
      "2 Gold\n",
      "-----------------------------------\n",
      "10. Blue Pearl\n",
      "The colour of this beautiful pearl reminds of the seas from whence it came.\n",
      "5 Gold\n",
      "-----------------------------------\n",
      "11. Fire Staff\n",
      "Control fire magic with this mighty staff.\n",
      "13 Gold\n",
      "-----------------------------------\n",
      "12. Sun Ring\n",
      "This special ring grants the wearer a defence boost during the day.\n",
      "17 Gold\n",
      "-----------------------------------\n",
      "13. Earthen Staff\n",
      "The staff from an Earth Wizard. Gives the user control of earth magic.\n",
      "11 Gold\n",
      "-----------------------------------\n",
      "14. Purple Candycane\n",
      "A sugary treat laced with a blackcurrant flavour.\n",
      "2 Gold\n",
      "-----------------------------------\n",
      "15. Thunder Gem\n",
      "A gem full of thunder magic. Has a storm raging in its centre.\n",
      "20 Gold\n",
      "-----------------------------------\n",
      "You bought 1 Blank Scroll(s) for 19 Gold.\n",
      "You leave the shop.\n"
     ]
    }
   ],
   "source": [
    "def store_interaction():\n",
    "    shop, shop_gold = generate_inventory()  \n",
    "    \n",
    "    print('Welcome to my shop, adventurer!')\n",
    "    print('Please have a look at my wares:\\n')\n",
    "    print(f'If you wish to sell, I have {shop_gold} gold on hand.\\n')\n",
    "    \n",
    "    # Display player's gold\n",
    "    print(f'You have {player._gold} Gold to spend.\\n')\n",
    "\n",
    "    # Display the shop items with numbers\n",
    "    for index, item in enumerate(shop, start=1):\n",
    "        print(f\"{index}. {item['name']}\")\n",
    "        print(item['description'])\n",
    "        print(f\"{item['Value']} Gold\")\n",
    "        print('-----------------------------------')\n",
    "    \n",
    "    # Player's gold (getting the player's gold)\n",
    "    player_gold = player.gold\n",
    "\n",
    "    # Purchase loop\n",
    "    while True:    \n",
    "        # Get the item choice from the player\n",
    "        choice = input(\"Enter the number of the item you wish to buy (or type 'exit' to leave): \")\n",
    "        \n",
    "        if choice.lower() == 'exit':\n",
    "            print(\"You leave the shop.\")\n",
    "            break\n",
    "        \n",
    "        # Validate input for item choice\n",
    "        if not choice.isdigit() or int(choice) < 1 or int(choice) > len(shop):\n",
    "            print(\"Invalid choice. Please choose a valid item number.\")\n",
    "            continue\n",
    "        \n",
    "        #input to index\n",
    "        item_index = int(choice) - 1\n",
    "        item_to_buy = shop[item_index]\n",
    "        \n",
    "        # Ask how many they want to buy\n",
    "        quantity = input(f\"How many {item_to_buy['name']}s do you want to buy? \")\n",
    "        \n",
    "        # Validate quantity input\n",
    "        if not quantity.isdigit() or int(quantity) < 1:\n",
    "            print(\"Please enter a valid quantity.\")\n",
    "            continue\n",
    "        \n",
    "        quantity = int(quantity)\n",
    "        total_cost = item_to_buy['Value'] * quantity\n",
    "        \n",
    "        # Check if player has enough gold\n",
    "        if player_gold >= total_cost:\n",
    "            print(f\"You bought {quantity} {item_to_buy['name']}(s) for {total_cost} Gold.\")\n",
    "            \n",
    "            # Add the correct quantity of the item to the player's inventory (gear)\n",
    "            for _ in range(quantity):\n",
    "                gear.append(item_to_buy.copy())  # Add a copy of the item to prevent shared references\n",
    "            \n",
    "            # Deduct gold from the player\n",
    "            player.gold = player_gold - total_cost\n",
    "\n",
    "            # Remove the bought item from the shop\n",
    "            del shop[item_index]\n",
    "            \n",
    "        else:\n",
    "            print(\"You don't have enough gold to buy that many.\")\n",
    "        \n",
    "        # If the shop is empty, end the interaction\n",
    "        if not shop:\n",
    "            print(\"The shop is now empty. You leave.\")\n",
    "            break\n",
    "\n",
    "store_interaction()\n"
   ]
  },
  {
   "cell_type": "code",
   "execution_count": 30,
   "metadata": {},
   "outputs": [
    {
     "name": "stdout",
     "output_type": "stream",
     "text": [
      "41\n"
     ]
    }
   ],
   "source": [
    "print(player.gold)\n"
   ]
  }
 ],
 "metadata": {
  "kernelspec": {
   "display_name": "ETE4990",
   "language": "python",
   "name": "python3"
  },
  "language_info": {
   "codemirror_mode": {
    "name": "ipython",
    "version": 3
   },
   "file_extension": ".py",
   "mimetype": "text/x-python",
   "name": "python",
   "nbconvert_exporter": "python",
   "pygments_lexer": "ipython3",
   "version": "3.13.1"
  }
 },
 "nbformat": 4,
 "nbformat_minor": 2
}
