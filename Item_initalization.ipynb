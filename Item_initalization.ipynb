{
 "cells": [
  {
   "cell_type": "markdown",
   "metadata": {},
   "source": [
    "## Import item list for game\n"
   ]
  },
  {
   "cell_type": "code",
   "execution_count": 25,
   "metadata": {},
   "outputs": [],
   "source": [
    "import json\n",
    "import random\n",
    "import stat_generator"
   ]
  },
  {
   "cell_type": "code",
   "execution_count": 26,
   "metadata": {},
   "outputs": [],
   "source": [
    "with open('ItemData.json', \"r\") as file:\n",
    "    itemdata = json.load(file)\n"
   ]
  },
  {
   "cell_type": "markdown",
   "metadata": {},
   "source": [
    "## Add damage number to items\n"
   ]
  },
  {
   "cell_type": "code",
   "execution_count": 27,
   "metadata": {},
   "outputs": [],
   "source": [
    "valid_types = {'Magic', 'Weapons'}\n",
    "\n",
    "for item in itemdata['items']:  #iterate through list of dictionaries\n",
    "# check if category has allowed values\n",
    "    if item.get('category') in valid_types:\n",
    "        #exclude arrows\n",
    "        if \"arrow\" in itemdata['items']:\n",
    "            continue\n",
    "        item['Damage'] = random.randint(1,5)\n"
   ]
  },
  {
   "cell_type": "markdown",
   "metadata": {},
   "source": [
    "# Add money values to items\n"
   ]
  },
  {
   "cell_type": "code",
   "execution_count": 28,
   "metadata": {},
   "outputs": [],
   "source": [
    "for item in itemdata['items']:\n",
    "    name = item.get('name', '')\n",
    "    category = item.get('category', '')\n",
    "    if 'Empty' in name:\n",
    "        item['Value'] = random.randint(1,5)\n",
    "    elif 'General' in category:\n",
    "        item['Value'] = random.randint(1,15)\n",
    "    elif 'Magic' in category:\n",
    "        item['Value'] = random.randint(10,20)\n",
    "    elif 'Weapon' in category:\n",
    "        item['Value'] = random.randint(10,20)\n",
    "    elif 'Food' in category:\n",
    "        item['Value'] = random.randint(1,5)\n",
    "    else: \n",
    "        item['Value'] = random.randint(15,20)"
   ]
  },
  {
   "cell_type": "markdown",
   "metadata": {},
   "source": [
    "## Add AC Values to armor\n"
   ]
  },
  {
   "cell_type": "code",
   "execution_count": 29,
   "metadata": {},
   "outputs": [],
   "source": [
    "valid_armor = {'Armour'}\n",
    "\n",
    "for item in itemdata['items']:\n",
    "        # Exclude items with \"ring\" in the name (case-insensitive)\n",
    "    if \"ring\" in item.get(\"name\", \"\").lower():\n",
    "        continue  \n",
    "    if \"helmet\" in item.get(\"description\", \"\").lower():\n",
    "        continue \n",
    "    \n",
    "    if item.get('category') in valid_armor:\n",
    "        item['AC'] = random.randint(10,16)\n"
   ]
  },
  {
   "cell_type": "markdown",
   "metadata": {},
   "source": [
    "## Add potion traits\n",
    "\n",
    "- Healing\n",
    "- Mana\n",
    "- General Power (damage boost)\n"
   ]
  },
  {
   "cell_type": "code",
   "execution_count": 30,
   "metadata": {},
   "outputs": [],
   "source": [
    "\n",
    "for item in itemdata['items']:   #Navigate items in each dictionary\n",
    "    name = item.get('name', '')\n",
    "\n",
    "    if \"Green\" in name:\n",
    "        if \"Large\" in name:\n",
    "            item[\"Mana\"] = random.randint(30, 50)  # Large Green Potion gets the most\n",
    "        elif \"Small\" in name:\n",
    "            item[\"Mana\"] = random.randint(5, 10)  # Small Green Potion gets the lowest \n",
    "        else:\n",
    "            item[\"Mana\"] = random.randint(10, 20)  # Default to Regular if no size isn't in name\n",
    "    elif \"Red\" in name:\n",
    "        if \"Large\" in name:\n",
    "            item[\"Health\"] = random.randint(20, 30)  \n",
    "        elif \"Small\" in name:\n",
    "            item[\"Health\"] = random.randint(5, 10)  \n",
    "        else:\n",
    "            item[\"Health\"] = random.randint(10, 20)\n",
    "    elif \"Pink\" in name:\n",
    "        if \"Large\" in name:\n",
    "            item[\"Health\"] = random.randint(15, 20)  \n",
    "        elif \"Small\" in name:\n",
    "            item[\"Health\"] = random.randint(1, 5)  \n",
    "        else:\n",
    "            item[\"Health\"] = random.randint(5, 10)\n",
    "    elif \"Black\" in name:\n",
    "        if \"Large\" in name:\n",
    "            item[\"Power\"] = random.randint(20, 30) \n",
    "        elif \"Small\" in name:\n",
    "            item[\"Power\"] = random.randint(5, 10)  \n",
    "        else:\n",
    "            item[\"Power\"] = random.randint(10, 20)\n",
    "    elif \"Blue\" in name:\n",
    "        if \"Large\" in name:\n",
    "            item[\"Mana\"] = random.randint(20, 30)\n",
    "            item[\"Power\"] = random.randint(20, 30)  \n",
    "        elif \"Small\" in name:\n",
    "            item[\"Mana\"] = random.randint(5, 10)\n",
    "            item[\"Power\"] = random.randint(5, 10)  \n",
    "        else:\n",
    "            item[\"Mana\"] = random.randint(10, 20)\n",
    "            item[\"Power\"] = random.randint(10, 20)\n",
    "    elif \"Orange\" in name:\n",
    "        if \"Large\" in name:\n",
    "            item[\"Mana\"] = random.randint(20, 30)\n",
    "            item[\"Power\"] = random.randint(20, 30)  \n",
    "        elif \"Small\" in name:\n",
    "            item[\"Mana\"] = random.randint(5, 10)\n",
    "            item[\"Power\"] = random.randint(5, 10)  \n",
    "        else:\n",
    "            item[\"Mana\"] = random.randint(10, 20)\n",
    "            item[\"Power\"] = random.randint(10, 20)\n"
   ]
  },
  {
   "cell_type": "markdown",
   "metadata": {},
   "source": [
    "# Generate inventory\n"
   ]
  },
  {
   "cell_type": "code",
   "execution_count": 31,
   "metadata": {},
   "outputs": [
    {
     "name": "stdout",
     "output_type": "stream",
     "text": [
      "{'id': 41, 'name': 'Fire Arrow', 'description': 'This flaming arrow will burn tragets on contact. Aim with care!', 'category': 'Weapons', 'Damage': 2, 'Value': 16}\n",
      "{'id': 4, 'name': 'Ancient Scroll', 'description': 'An ancient scroll full of incantations long thought lost.', 'category': 'Magic', 'Damage': 1, 'Value': 13}\n",
      "{'id': 30, 'name': 'Earthen Staff', 'description': 'The staff from an Earth Wizard. Gives the user control of earth magic.', 'category': 'Magic', 'Damage': 5, 'Value': 10}\n",
      "{'id': 120, 'name': 'Thunder Gem', 'description': 'A gem full of thunder magic. Has a storm raging in its centre.', 'category': 'Magic', 'Damage': 3, 'Value': 20}\n",
      "{'id': 65, 'name': 'Ice Gem', 'description': \"A cold gem with a blue hue. Used to boost one's ice magic.\", 'category': 'Magic', 'Damage': 5, 'Value': 17}\n",
      "{'id': 110, 'name': 'Small Blue Potion', 'description': 'This concoction restores mana and gives a boost of water magic. Small size.', 'category': 'Healing', 'Value': 16, 'Mana': 6, 'Power': 8}\n",
      "{'id': 118, 'name': 'Strawberry Bonbon', 'description': 'Ideal for those with a sweet tooth! This one tastes of strawberries.', 'category': 'Food', 'Value': 3}\n",
      "{'id': 46, 'name': 'Frozen Helmet', 'description': 'A sturdy helmet full of ice magic, this protects the wearer from extreme cold.', 'category': 'Armour', 'Value': 15}\n",
      "{'id': 33, 'name': 'Empty Flask', 'description': 'A glass bottle used to store potions. This is the size for a large potion.', 'category': 'Healing', 'Value': 3}\n",
      "{'id': 36, 'name': 'Festive Candycane', 'description': 'A sugary treat laced with a spicy flavour.', 'category': 'Food', 'Value': 2}\n",
      "{'id': 73, 'name': 'Large Red Potion', 'description': 'A vibrant red potion designed to restore health. Large size.', 'category': 'Healing', 'Value': 15, 'Health': 29}\n",
      "{'id': 104, 'name': 'Silver Coin', 'description': 'A shiny silver coin. Save up plenty of these for a shopping trip!', 'category': 'General', 'Value': 8}\n",
      "{'id': 111, 'name': 'Small Gift', 'description': \"A small box with a gift inside. Who's this for?\", 'category': 'General', 'Value': 13}\n",
      "{'id': 63, 'name': 'Ice Arrow', 'description': 'Less powerful than the Frost Arrow but can still cool targets.', 'category': 'Weapons', 'Damage': 3, 'Value': 16}\n",
      "{'id': 22, 'name': 'Bronze Ingot', 'description': 'A solid bronze bar. A blacksmith can use it for crafting.', 'category': 'General', 'Value': 14}\n",
      "22 Gold\n"
     ]
    }
   ],
   "source": [
    "def generate_inventory():\n",
    "    loot = []\n",
    "    gold = random.randint(20,50)\n",
    "    \n",
    "    # Generate 15 random items\n",
    "    for i in range(15):\n",
    "        item_id = random.randint(1, 130)  # Ensure the index is within bounds\n",
    "        item = itemdata['items'][item_id]\n",
    "        \n",
    "        # Add the item to the loot list (we'll add to the player's inventory later)\n",
    "        loot.append(item)\n",
    "    \n",
    "    return loot, gold\n",
    "\n",
    "   \n",
    "\n",
    "\n",
    "gear,gold = generate_inventory()\n",
    "\n",
    "for i in range(15):\n",
    "    print(gear[i])\n",
    "print( gold,'Gold')\n"
   ]
  },
  {
   "cell_type": "code",
   "execution_count": 9,
   "metadata": {},
   "outputs": [],
   "source": [
    "# List of items to be added to the inventory\n",
    "#new_items = [\n",
    " #   {'id': 73, 'name': 'Large Red Potion', 'description': 'A vibrant red potion designed to restore health. Large size.', 'category': 'Healing', 'Value': 15, 'Health': 23},\n",
    "  ## {'id': 1, 'name': 'Air Gem', 'description': 'A pale coloured gem brimming with air magic.', 'category': 'Magic', 'Damage': 5, 'Value': 15}\n",
    "#]\n",
    "\n",
    "# Adding the items to the inventory\n",
    "#player.add_to_inventory(new_items)\n",
    "\n",
    "# Adding the same item again to see how the quantity increases\n",
    "#new_items_duplicate = [\n",
    "#    {'id': 1, 'name': 'Air Gem', 'description': 'A pale coloured gem brimming with air magic.', 'category': 'Magic', 'Damage': 5, 'Value': 15}\n",
    "#]\n",
    "#player.add_to_inventory(new_items_duplicate)\n",
    "\n",
    "# Printing the player's inventory\n",
    "#player.get_inventory()"
   ]
  },
  {
   "cell_type": "code",
   "execution_count": null,
   "metadata": {},
   "outputs": [],
   "source": [
    "#def store_interaction():\n",
    "    shop, gold = generate_inventory()\n",
    "    print('Welcome to my shop adventurer!')\n",
    "    print('Please have a look at my wares:\\n')\n",
    "    print('If you wish to sell, I have', gold, 'gold on hand\\n')\n",
    "    \n",
    "    print('You have', player.get_gold(), 'Gold to spend\\n')\n",
    "\n",
    "    for item in shop:\n",
    "        print(item['name']) \n",
    "        print(item['description'])\n",
    "        print(item['Value'], 'Gold')\n",
    "        print('-----------------------------------')\n",
    "    # Add number to items 2 buy\n",
    "    \n",
    "\n",
    "\n",
    "        \n",
    "\n",
    "\n",
    "#store_interaction()"
   ]
  },
  {
   "cell_type": "code",
   "execution_count": null,
   "metadata": {},
   "outputs": [],
   "source": [
    "#def store():\n",
    "#    shop = generate_inventory()\n",
    "#    for item in shop['items']:\n",
    "#        name = item.get('name', '')\n",
    "#        if 'Pile' in name:\n",
    "#            shop.pop()\n",
    "            \n",
    "#    for item in shop:\n",
    "#        print(item['name']) \n",
    "#        print(item['description'])\n",
    "#        print(item['Value'], 'Gold')\n",
    "#        print('-----------------------------------')\n",
    "\n",
    "\n",
    "#store()\n",
    "\n",
    "#stuff = ['apple', 'cheeto', 'dog']\n",
    "#for index, stuff in enumerate(stuff, start= 1):\n",
    "    print(index,stuff)"
   ]
  },
  {
   "cell_type": "markdown",
   "metadata": {},
   "source": [
    "# Function to open backpack (changed to class attribute)"
   ]
  },
  {
   "cell_type": "code",
   "execution_count": null,
   "metadata": {},
   "outputs": [],
   "source": [
    "#def Backpack():\n",
    "    for item in gear:\n",
    "        for key, value in item.items():\n",
    "            if key != 'id':  # Exclude 'ID' key\n",
    "                print(f\"{key}: {value}\")\n",
    "        print('-----------------------------------')\n",
    "\n",
    "\n",
    "#Backpack()"
   ]
  },
  {
   "cell_type": "code",
   "execution_count": 47,
   "metadata": {},
   "outputs": [],
   "source": [
    "player = stat_generator.Player('Kallos', 'Paladin')"
   ]
  },
  {
   "cell_type": "code",
   "execution_count": 48,
   "metadata": {},
   "outputs": [
    {
     "name": "stdout",
     "output_type": "stream",
     "text": [
      "Name: Kallos\n",
      "Class: Paladin\n",
      "Strength: 8\n",
      "Dexterity: 15\n",
      "Constitution: 9\n",
      "Intelligence: 18\n",
      "Wisdom: 10\n",
      "Charisma: 16\n",
      "Hitpoints: 25\n",
      "Armor Class: 10\n",
      "Damage: 1\n",
      "Equipped Weapon: None\n",
      "Equipped Armor: None\n"
     ]
    }
   ],
   "source": [
    "player.display_stats()"
   ]
  },
  {
   "cell_type": "code",
   "execution_count": 49,
   "metadata": {},
   "outputs": [],
   "source": [
    "player.add_to_inventory(gear)"
   ]
  },
  {
   "cell_type": "code",
   "execution_count": 50,
   "metadata": {},
   "outputs": [
    {
     "name": "stdout",
     "output_type": "stream",
     "text": [
      "Inventory:\n",
      "Fire Arrow (x1)\n",
      "Ancient Scroll (x1)\n",
      "Earthen Staff (x1)\n",
      "Thunder Gem (x1)\n",
      "Ice Gem (x1)\n",
      "Small Blue Potion (x1)\n",
      "Strawberry Bonbon (x1)\n",
      "Frozen Helmet (x1)\n",
      "Empty Flask (x1)\n",
      "Festive Candycane (x1)\n",
      "Large Red Potion (x1)\n",
      "Silver Coin (x1)\n",
      "Small Gift (x1)\n",
      "Ice Arrow (x1)\n",
      "Bronze Ingot (x1)\n"
     ]
    }
   ],
   "source": [
    "player.display_inventory()"
   ]
  },
  {
   "cell_type": "markdown",
   "metadata": {},
   "source": [
    "# Store interaction Version 2"
   ]
  },
  {
   "cell_type": "code",
   "execution_count": 51,
   "metadata": {},
   "outputs": [
    {
     "name": "stdout",
     "output_type": "stream",
     "text": [
      "Welcome to my shop, adventurer!\n",
      "Please have a look at my wares:\n",
      "\n",
      "If you wish to sell, I have 28 gold on hand.\n",
      "\n",
      "You have 50 Gold to spend.\n",
      "\n",
      "1. Aqua Rod\n",
      "Command water magic with this beautiful wand.\n",
      "11 Gold\n",
      "-----------------------------------\n",
      "2. Blueberry Bonbon\n",
      "Ideal for those with a sweet tooth! This one tastes of blueberries.\n",
      "2 Gold\n",
      "-----------------------------------\n",
      "3. Frost Arrow\n",
      "Full of the strongest ice magic, this arrow will freeze whatever it touches. Handle with care.\n",
      "10 Gold\n",
      "-----------------------------------\n",
      "4. Worn Scroll\n",
      "You can feel the magic emanating from this scroll. But it's too faded to read.\n",
      "16 Gold\n",
      "-----------------------------------\n",
      "5. Large Red Potion\n",
      "A vibrant red potion designed to restore health. Large size.\n",
      "15 Gold\n",
      "-----------------------------------\n",
      "6. Knight's Helm\n",
      "A sturdy helmet favoured by the nation's knights.\n",
      "17 Gold\n",
      "-----------------------------------\n",
      "7. Holy Staff\n",
      "This staff gives control over powerful holy and healing magic.\n",
      "15 Gold\n",
      "-----------------------------------\n",
      "8. Bronze Ingot\n",
      "A solid bronze bar. A blacksmith can use it for crafting.\n",
      "14 Gold\n",
      "-----------------------------------\n",
      "9. Silver Ingot\n",
      "A solid bar of silver. Take this to a blacksmith to use it.\n",
      "12 Gold\n",
      "-----------------------------------\n",
      "10. Dark Gem\n",
      "Dark as the night sky, this gem glistens with evil magic.\n",
      "13 Gold\n",
      "-----------------------------------\n",
      "11. Small Purple Potion\n",
      "This concoction restores both health and mana. Small size.\n",
      "20 Gold\n",
      "-----------------------------------\n",
      "12. Fire Helm\n",
      "Imbued with fire magic, this helmet can withstand any heat.\n",
      "20 Gold\n",
      "-----------------------------------\n",
      "13. Rusty Key\n",
      "A very rusty old key. It'll be a miracle if it still unlocks anything.\n",
      "9 Gold\n",
      "-----------------------------------\n",
      "14. Red Fish\n",
      "This fish feeds on red algae, which gives it its unique colouring.\n",
      "2 Gold\n",
      "-----------------------------------\n",
      "15. Frost Arrow\n",
      "Full of the strongest ice magic, this arrow will freeze whatever it touches. Handle with care.\n",
      "10 Gold\n",
      "-----------------------------------\n",
      "\n",
      "Your current inventory:\n",
      "Inventory:\n",
      "Fire Arrow (x1)\n",
      "Ancient Scroll (x1)\n",
      "Earthen Staff (x1)\n",
      "Thunder Gem (x1)\n",
      "Ice Gem (x1)\n",
      "Small Blue Potion (x1)\n",
      "Strawberry Bonbon (x1)\n",
      "Frozen Helmet (x1)\n",
      "Empty Flask (x1)\n",
      "Festive Candycane (x1)\n",
      "Large Red Potion (x1)\n",
      "Silver Coin (x1)\n",
      "Small Gift (x1)\n",
      "Ice Arrow (x1)\n",
      "Bronze Ingot (x1)\n",
      "You bought 1 Aqua Rod(s) for 11 Gold.\n",
      "You don't have enough gold to buy that many.\n",
      "You leave the shop.\n"
     ]
    }
   ],
   "source": [
    "def store_interaction():\n",
    "    shop, shop_gold = generate_inventory()  \n",
    "    \n",
    "    print('Welcome to my shop, adventurer!')\n",
    "    print('Please have a look at my wares:\\n')\n",
    "    print(f'If you wish to sell, I have {shop_gold} gold on hand.\\n')\n",
    "    \n",
    "    # Display player's gold\n",
    "    print(f'You have {player._gold} Gold to spend.\\n')\n",
    "\n",
    "    # Display the shop items with numbers\n",
    "    for index, item in enumerate(shop, start=1):\n",
    "        print(f\"{index}. {item['name']}\")\n",
    "        print(item['description'])\n",
    "        print(f\"{item['Value']} Gold\")\n",
    "        print('-----------------------------------')\n",
    "    \n",
    "    # Display player inventory\n",
    "    print(\"\\nYour current inventory:\")\n",
    "    player.display_inventory()\n",
    "\n",
    "    # Purchase loop\n",
    "    while True:    \n",
    "        # Get the item choice from the player\n",
    "        choice = input(\"Enter the number of the item you wish to buy (or type 'exit' to leave): \")\n",
    "        \n",
    "        if choice.lower() == 'exit':\n",
    "            print(\"You leave the shop.\")\n",
    "            break\n",
    "        \n",
    "        # Validate input for item choice\n",
    "        if not choice.isdigit() or int(choice) < 1 or int(choice) > len(shop):\n",
    "            print(\"Invalid choice. Please choose a valid item number.\")\n",
    "            continue\n",
    "        \n",
    "        # Input to index\n",
    "        item_index = int(choice) - 1\n",
    "        item_to_buy = shop[item_index]\n",
    "        \n",
    "        # Ask how many they want to buy\n",
    "        quantity = input(f\"How many {item_to_buy['name']}s do you want to buy? \")\n",
    "        \n",
    "        # Validate quantity input\n",
    "        if not quantity.isdigit() or int(quantity) < 1:\n",
    "            print(\"Please enter a valid quantity.\")\n",
    "            continue\n",
    "        \n",
    "        quantity = int(quantity)\n",
    "        total_cost = item_to_buy['Value'] * quantity\n",
    "        \n",
    "        # Check if player has enough gold\n",
    "        if player._gold >= total_cost:\n",
    "            print(f\"You bought {quantity} {item_to_buy['name']}(s) for {total_cost} Gold.\")\n",
    "            \n",
    "            # Add the correct quantity of the item to the player's inventory (gear)\n",
    "            for _ in range(quantity):\n",
    "                player.inventory.add_item(item_to_buy['name'], quantity)\n",
    "            \n",
    "            # Deduct gold from the player\n",
    "            player._gold -= total_cost\n",
    "\n",
    "            # Remove the bought item from the shop\n",
    "            del shop[item_index]\n",
    "            \n",
    "        else:\n",
    "            print(\"You don't have enough gold to buy that many.\")\n",
    "        \n",
    "        # If the shop is empty, end the interaction\n",
    "        if not shop:\n",
    "            print(\"The shop is now empty. You leave.\")\n",
    "            break\n",
    "\n",
    "store_interaction()\n"
   ]
  },
  {
   "cell_type": "code",
   "execution_count": 52,
   "metadata": {},
   "outputs": [
    {
     "name": "stdout",
     "output_type": "stream",
     "text": [
      "Inventory:\n",
      "Fire Arrow (x1)\n",
      "Ancient Scroll (x1)\n",
      "Earthen Staff (x1)\n",
      "Thunder Gem (x1)\n",
      "Ice Gem (x1)\n",
      "Small Blue Potion (x1)\n",
      "Strawberry Bonbon (x1)\n",
      "Frozen Helmet (x1)\n",
      "Empty Flask (x1)\n",
      "Festive Candycane (x1)\n",
      "Large Red Potion (x1)\n",
      "Silver Coin (x1)\n",
      "Small Gift (x1)\n",
      "Ice Arrow (x1)\n",
      "Bronze Ingot (x1)\n",
      "Aqua Rod (x1)\n"
     ]
    }
   ],
   "source": [
    "\n",
    "player.display_inventory()"
   ]
  },
  {
   "cell_type": "markdown",
   "metadata": {},
   "source": [
    "# Equip items"
   ]
  },
  {
   "cell_type": "code",
   "execution_count": 53,
   "metadata": {},
   "outputs": [
    {
     "name": "stdout",
     "output_type": "stream",
     "text": [
      "Name: Kallos\n",
      "Class: Paladin\n",
      "Strength: 8\n",
      "Dexterity: 15\n",
      "Constitution: 9\n",
      "Intelligence: 18\n",
      "Wisdom: 10\n",
      "Charisma: 16\n",
      "Hitpoints: 25\n",
      "Armor Class: 10\n",
      "Damage: 1\n",
      "Equipped Weapon: None\n",
      "Equipped Armor: None\n"
     ]
    }
   ],
   "source": [
    "player.display_stats()"
   ]
  },
  {
   "cell_type": "code",
   "execution_count": 58,
   "metadata": {},
   "outputs": [
    {
     "name": "stdout",
     "output_type": "stream",
     "text": [
      "Inventory:\n",
      "Fire Arrow (x1)\n",
      "Ancient Scroll (x1)\n",
      "Earthen Staff (x1)\n",
      "Thunder Gem (x1)\n",
      "Ice Gem (x1)\n",
      "Small Blue Potion (x1)\n",
      "Strawberry Bonbon (x1)\n",
      "Frozen Helmet (x1)\n",
      "Empty Flask (x1)\n",
      "Festive Candycane (x1)\n",
      "Large Red Potion (x1)\n",
      "Silver Coin (x1)\n",
      "Small Gift (x1)\n",
      "Ice Arrow (x1)\n",
      "Bronze Ingot (x1)\n",
      "Aqua Rod (x1)\n"
     ]
    }
   ],
   "source": [
    "player.display_inventory()"
   ]
  },
  {
   "cell_type": "code",
   "execution_count": 56,
   "metadata": {},
   "outputs": [],
   "source": [
    "def equip_from_inventory(player):\n",
    "    # Separate weapons and armor from the inventory\n",
    "    weapons = [item for item in player.inventory.items if \"Damage\" in item]\n",
    "    armor = [item for item in player.inventory.items if \"AC\" in item]\n",
    "\n",
    "    # Display available weapons\n",
    "    print(\"Weapons available to equip:\")\n",
    "    for idx, weapon in enumerate(weapons, 1):\n",
    "        print(f\"{idx}. {weapon['name']} (Damage: {weapon['Damage']})\")\n",
    "\n",
    "    # Display available armor\n",
    "    print(\"\\nArmor available to equip:\")\n",
    "    for idx, arm in enumerate(armor, 1):\n",
    "        print(f\"{idx}. {arm['name']} (AC: {arm['AC']})\")\n",
    "    \n",
    "    # Ask the player to choose an item to equip\n",
    "    item_type = input(\"\\nWhat would you like to equip? (weapon/armor): \").strip().lower()\n",
    "\n",
    "    if item_type == \"weapon\":\n",
    "        # Choose a weapon\n",
    "        choice = input(f\"Enter the number of the weapon you want to equip (1-{len(weapons)}): \").strip()\n",
    "        if choice.isdigit() and 1 <= int(choice) <= len(weapons):\n",
    "            selected_weapon = weapons[int(choice) - 1]\n",
    "            player.equipped_weapon = selected_weapon  # Equip weapon\n",
    "            print(f\"You have equipped {selected_weapon['name']} with Damage {selected_weapon['Damage']}!\")\n",
    "            # Update the damage value, assuming your player has a damage attribute.\n",
    "            player.damage += selected_weapon['Damage']\n",
    "        else:\n",
    "            print(\"Invalid selection, no weapon equipped.\")\n",
    "\n",
    "    elif item_type == \"armor\":\n",
    "        # Choose armor\n",
    "        choice = input(f\"Enter the number of the armor you want to equip (1-{len(armor)}): \").strip()\n",
    "        if choice.isdigit() and 1 <= int(choice) <= len(armor):\n",
    "            selected_armor = armor[int(choice) - 1]\n",
    "            player.equipped_armor = selected_armor  # Equip armor\n",
    "            print(f\"You have equipped {selected_armor['name']} with AC {selected_armor['AC']}!\")\n",
    "            # Update the armor class value, assuming your player has an ac attribute.\n",
    "            player.ac += selected_armor['AC']\n",
    "        else:\n",
    "            print(\"Invalid selection, no armor equipped.\")\n",
    "\n",
    "    else:\n",
    "        print(\"Invalid item type. Please choose 'weapon' or 'armor'.\")\n"
   ]
  },
  {
   "cell_type": "code",
   "execution_count": null,
   "metadata": {},
   "outputs": [],
   "source": [
    "player = stat_generator.Player('Kallos', 'Paladin')"
   ]
  },
  {
   "cell_type": "code",
   "execution_count": 57,
   "metadata": {},
   "outputs": [
    {
     "name": "stdout",
     "output_type": "stream",
     "text": [
      "Weapons available to equip:\n",
      "\n",
      "Armor available to equip:\n",
      "Invalid selection, no weapon equipped.\n",
      "Equipped Weapon: None\n",
      "Equipped Armor: None\n",
      "Damage: 1\n",
      "Armor Class: 10\n"
     ]
    }
   ],
   "source": [
    "\n",
    "\n",
    "# Equip an item from inventory\n",
    "equip_from_inventory(player)\n",
    "\n",
    "# Check the player's stats after equipping\n",
    "print(f\"Equipped Weapon: {player.equipped_weapon['name'] if player.equipped_weapon else 'None'}\")\n",
    "print(f\"Equipped Armor: {player.equipped_armor['name'] if player.equipped_armor else 'None'}\")\n",
    "print(f\"Damage: {player.base_damage}\")\n",
    "print(f\"Armor Class: {player.base_AC}\")"
   ]
  },
  {
   "cell_type": "code",
   "execution_count": 64,
   "metadata": {},
   "outputs": [],
   "source": [
    "def equip_from_inventory(player):\n",
    "    weapons = []\n",
    "    armor = []\n",
    "\n",
    "    # Find full item data based on stored inventory names\n",
    "    for item in player.inventory.items:\n",
    "        full_item = next((i for i in itemdata['items'] if i.get(\"name\") == item[\"name\"]), None)\n",
    "        if full_item:\n",
    "            if \"Damage\" in full_item:\n",
    "                weapons.append(full_item)\n",
    "            elif \"AC\" in full_item:\n",
    "                armor.append(full_item)\n",
    "\n",
    "    # Display available weapons\n",
    "    print(\"Weapons available to equip:\")\n",
    "    if weapons:\n",
    "        for idx, weapon in enumerate(weapons, 1):\n",
    "            print(f\"{idx}. {weapon['name']} (Damage: {weapon['Damage']})\")\n",
    "    else:\n",
    "        print(\"No weapons available.\")\n",
    "\n",
    "    # Display available armor\n",
    "    print(\"\\nArmor available to equip:\")\n",
    "    if armor:\n",
    "        for idx, arm in enumerate(armor, 1):\n",
    "            print(f\"{idx}. {arm['name']} (AC: {arm['AC']})\")\n",
    "    else:\n",
    "        print(\"No armor available.\")\n",
    "\n",
    "    # Ask the player to equip an item\n",
    "    item_type = input(\"\\nWhat would you like to equip? (weapon/armor): \").strip().lower()\n",
    "    \n",
    "    if item_type == \"weapon\" and weapons:\n",
    "        choice = input(f\"Enter the number of the weapon you want to equip (1-{len(weapons)}): \").strip()\n",
    "        if choice.isdigit() and 1 <= int(choice) <= len(weapons):\n",
    "            selected_weapon = weapons[int(choice) - 1]\n",
    "            player.equipped_weapon = selected_weapon  # Equip the weapon\n",
    "            print(f\"You have equipped {selected_weapon['name']} (Damage: {selected_weapon['Damage']})!\")\n",
    "        else:\n",
    "            print(\"Invalid selection, no weapon equipped.\")\n",
    "    \n",
    "    elif item_type == \"armor\" and armor:\n",
    "        choice = input(f\"Enter the number of the armor you want to equip (1-{len(armor)}): \").strip()\n",
    "        if choice.isdigit() and 1 <= int(choice) <= len(armor):\n",
    "            selected_armor = armor[int(choice) - 1]\n",
    "            player.equipped_armor = selected_armor  # Equip the armor\n",
    "            print(f\"You have equipped {selected_armor['name']} (AC: {selected_armor['AC']})!\")\n",
    "            player.ac += selected_armor['AC']  # AC should exist on Player\n",
    "        else:\n",
    "            print(\"Invalid selection, no armor equipped.\")\n",
    "    \n",
    "    else:\n",
    "        print(\"Invalid item type or no items available.\")\n",
    "\n",
    "\n"
   ]
  },
  {
   "cell_type": "code",
   "execution_count": 65,
   "metadata": {},
   "outputs": [
    {
     "name": "stdout",
     "output_type": "stream",
     "text": [
      "Weapons available to equip:\n",
      "1. Fire Arrow (Damage: 2)\n",
      "2. Ancient Scroll (Damage: 1)\n",
      "3. Earthen Staff (Damage: 5)\n",
      "4. Thunder Gem (Damage: 3)\n",
      "5. Ice Gem (Damage: 5)\n",
      "6. Ice Arrow (Damage: 3)\n",
      "7. Aqua Rod (Damage: 3)\n",
      "\n",
      "Armor available to equip:\n",
      "No armor available.\n",
      "You have equipped Earthen Staff (Damage: 5)!\n"
     ]
    }
   ],
   "source": [
    "equip_from_inventory(player)"
   ]
  },
  {
   "cell_type": "code",
   "execution_count": 67,
   "metadata": {},
   "outputs": [
    {
     "name": "stdout",
     "output_type": "stream",
     "text": [
      "Name: Kallos\n",
      "Class: Paladin\n",
      "Strength: 8\n",
      "Dexterity: 15\n",
      "Constitution: 9\n",
      "Intelligence: 18\n",
      "Wisdom: 10\n",
      "Charisma: 16\n",
      "Hitpoints: 25\n",
      "Armor Class: 10\n",
      "Damage: 6\n",
      "Equipped Weapon: Earthen Staff\n",
      "Equipped Armor: None\n"
     ]
    }
   ],
   "source": [
    "player.display_stats()\n"
   ]
  }
 ],
 "metadata": {
  "kernelspec": {
   "display_name": "ETE4990",
   "language": "python",
   "name": "python3"
  },
  "language_info": {
   "codemirror_mode": {
    "name": "ipython",
    "version": 3
   },
   "file_extension": ".py",
   "mimetype": "text/x-python",
   "name": "python",
   "nbconvert_exporter": "python",
   "pygments_lexer": "ipython3",
   "version": "3.13.1"
  }
 },
 "nbformat": 4,
 "nbformat_minor": 2
}
