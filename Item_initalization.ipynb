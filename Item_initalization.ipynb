{
 "cells": [
  {
   "cell_type": "markdown",
   "metadata": {},
   "source": [
    "## Import item list for game\n"
   ]
  },
  {
   "cell_type": "code",
   "execution_count": null,
   "metadata": {},
   "outputs": [],
   "source": [
    "import json\n",
    "import random"
   ]
  },
  {
   "cell_type": "code",
   "execution_count": 1,
   "metadata": {},
   "outputs": [
    {
     "ename": "NameError",
     "evalue": "name 'json' is not defined",
     "output_type": "error",
     "traceback": [
      "\u001b[1;31m---------------------------------------------------------------------------\u001b[0m",
      "\u001b[1;31mNameError\u001b[0m                                 Traceback (most recent call last)",
      "Cell \u001b[1;32mIn[1], line 2\u001b[0m\n\u001b[0;32m      1\u001b[0m \u001b[38;5;28;01mwith\u001b[39;00m \u001b[38;5;28mopen\u001b[39m(\u001b[38;5;124m'\u001b[39m\u001b[38;5;124mItemData.json\u001b[39m\u001b[38;5;124m'\u001b[39m, \u001b[38;5;124m\"\u001b[39m\u001b[38;5;124mr\u001b[39m\u001b[38;5;124m\"\u001b[39m) \u001b[38;5;28;01mas\u001b[39;00m file:\n\u001b[1;32m----> 2\u001b[0m     itemdata \u001b[38;5;241m=\u001b[39m \u001b[43mjson\u001b[49m\u001b[38;5;241m.\u001b[39mload(file)\n",
      "\u001b[1;31mNameError\u001b[0m: name 'json' is not defined"
     ]
    }
   ],
   "source": [
    "with open('ItemData.json', \"r\") as file:\n",
    "    itemdata = json.load(file)\n"
   ]
  },
  {
   "cell_type": "markdown",
   "metadata": {},
   "source": [
    "## Add damage number to items\n"
   ]
  },
  {
   "cell_type": "code",
   "execution_count": null,
   "metadata": {},
   "outputs": [],
   "source": [
    "valid_types = {'Magic', 'Weapons'}\n",
    "\n",
    "for item in itemdata['items']:  #iterate through list of dictionaries\n",
    "# check if category has allowed values\n",
    "    if item.get('category') in valid_types:\n",
    "        #exclude arrows\n",
    "        if \"arrow\" in itemdata['items']:\n",
    "            continue\n",
    "        item['Damage'] = random.randint(1,5)\n"
   ]
  },
  {
   "cell_type": "markdown",
   "metadata": {},
   "source": [
    "# Add money values to items\n"
   ]
  },
  {
   "cell_type": "code",
   "execution_count": null,
   "metadata": {},
   "outputs": [],
   "source": [
    "for item in itemdata['items']:\n",
    "    name = item.get('name', '')\n",
    "    category = item.get('category', '')\n",
    "    if 'Empty' in name:\n",
    "        item['Value'] = random.randint(1,5)\n",
    "    elif 'General' in category:\n",
    "        item['Value'] = random.randint(1,15)\n",
    "    elif 'Magic' in category:\n",
    "        item['Value'] = random.randint(10,20)\n",
    "    elif 'Weapon' in category:\n",
    "        item['Value'] = random.randint(10,20)\n",
    "    elif 'Food' in category:\n",
    "        item['Value'] = random.randint(1,5)\n",
    "    else: \n",
    "        item['Value'] = random.randint(15,20)"
   ]
  },
  {
   "cell_type": "markdown",
   "metadata": {},
   "source": [
    "## Add AC Values to armor\n"
   ]
  },
  {
   "cell_type": "code",
   "execution_count": null,
   "metadata": {},
   "outputs": [],
   "source": [
    "valid_armor = {'Armour'}\n",
    "\n",
    "for item in itemdata['items']:\n",
    "        # Exclude items with \"ring\" in the name (case-insensitive)\n",
    "    if \"ring\" in item.get(\"name\", \"\").lower():\n",
    "        continue  \n",
    "    if \"helmet\" in item.get(\"description\", \"\").lower():\n",
    "        continue \n",
    "    \n",
    "    if item.get('category') in valid_armor:\n",
    "        item['AC'] = random.randint(1,3)\n"
   ]
  },
  {
   "cell_type": "markdown",
   "metadata": {},
   "source": [
    "## Add potion traits\n",
    "\n",
    "- Healing\n",
    "- Mana\n",
    "- General Power (damage boost)\n"
   ]
  },
  {
   "cell_type": "code",
   "execution_count": null,
   "metadata": {},
   "outputs": [],
   "source": [
    "\n",
    "for item in itemdata['items']:   #Navigate items in each dictionary\n",
    "    name = item.get('name', '')\n",
    "\n",
    "    if \"Green\" in name:\n",
    "        if \"Large\" in name:\n",
    "            item[\"Mana\"] = random.randint(30, 50)  # Large Green Potion gets the most\n",
    "        elif \"Small\" in name:\n",
    "            item[\"Mana\"] = random.randint(5, 10)  # Small Green Potion gets the lowest \n",
    "        else:\n",
    "            item[\"Mana\"] = random.randint(10, 20)  # Default to Regular if no size isn't in name\n",
    "    elif \"Red\" in name:\n",
    "        if \"Large\" in name:\n",
    "            item[\"Health\"] = random.randint(20, 30)  \n",
    "        elif \"Small\" in name:\n",
    "            item[\"Health\"] = random.randint(5, 10)  \n",
    "        else:\n",
    "            item[\"Health\"] = random.randint(10, 20)\n",
    "    elif \"Pink\" in name:\n",
    "        if \"Large\" in name:\n",
    "            item[\"Health\"] = random.randint(15, 20)  \n",
    "        elif \"Small\" in name:\n",
    "            item[\"Health\"] = random.randint(1, 5)  \n",
    "        else:\n",
    "            item[\"Health\"] = random.randint(5, 10)\n",
    "    elif \"Black\" in name:\n",
    "        if \"Large\" in name:\n",
    "            item[\"Power\"] = random.randint(20, 30) \n",
    "        elif \"Small\" in name:\n",
    "            item[\"Power\"] = random.randint(5, 10)  \n",
    "        else:\n",
    "            item[\"Power\"] = random.randint(10, 20)\n",
    "    elif \"Blue\" in name:\n",
    "        if \"Large\" in name:\n",
    "            item[\"Mana\"] = random.randint(20, 30)\n",
    "            item[\"Power\"] = random.randint(20, 30)  \n",
    "        elif \"Small\" in name:\n",
    "            item[\"Mana\"] = random.randint(5, 10)\n",
    "            item[\"Power\"] = random.randint(5, 10)  \n",
    "        else:\n",
    "            item[\"Mana\"] = random.randint(10, 20)\n",
    "            item[\"Power\"] = random.randint(10, 20)\n",
    "    elif \"Orange\" in name:\n",
    "        if \"Large\" in name:\n",
    "            item[\"Mana\"] = random.randint(20, 30)\n",
    "            item[\"Power\"] = random.randint(20, 30)  \n",
    "        elif \"Small\" in name:\n",
    "            item[\"Mana\"] = random.randint(5, 10)\n",
    "            item[\"Power\"] = random.randint(5, 10)  \n",
    "        else:\n",
    "            item[\"Mana\"] = random.randint(10, 20)\n",
    "            item[\"Power\"] = random.randint(10, 20)\n"
   ]
  },
  {
   "cell_type": "markdown",
   "metadata": {},
   "source": [
    "# Generate inventory\n"
   ]
  },
  {
   "cell_type": "code",
   "execution_count": null,
   "metadata": {},
   "outputs": [
    {
     "name": "stdout",
     "output_type": "stream",
     "text": [
      "{'id': 57, 'name': \"Hero's Sword\", 'description': 'A mighty sword favoured by heroes the world over.', 'category': 'Weapons', 'Damage': 1, 'Value': 18}\n",
      "{'id': 72, 'name': 'Large Purple Potion', 'description': 'This concoction restores both health and mana. Large size.', 'category': 'Healing', 'Value': 19}\n",
      "{'id': 4, 'name': 'Ancient Scroll', 'description': 'An ancient scroll full of incantations long thought lost.', 'category': 'Magic', 'Damage': 1, 'Value': 16}\n",
      "{'id': 79, 'name': 'Moon Ring', 'description': 'A moonstone ring that offers weak protection against magic attacks.', 'category': 'Armour', 'Value': 18}\n",
      "{'id': 99, 'name': 'Rusted Ingot', 'description': 'Rusted beyond recognition. A blacksmith can clean it up for you.', 'category': 'General', 'Value': 14}\n",
      "{'id': 49, 'name': 'Golden Bow', 'description': 'Made of the finest gold, this bow is the definition of style over substance.', 'category': 'Weapons', 'Damage': 1, 'Value': 11}\n",
      "{'id': 74, 'name': 'Lemon Bonbon', 'description': 'Ideal for those with a sweet tooth! This one tastes of lemon.', 'category': 'Food', 'Value': 2}\n",
      "{'id': 95, 'name': 'Red Pearl', 'description': 'An unusual pearl with a glimmering red colour.', 'category': 'General', 'Value': 11, 'Health': 18}\n",
      "{'id': 109, 'name': 'Small Black Potion', 'description': 'It says it can heal, but looks a bit suspicious. Small Size.', 'category': 'Healing', 'Value': 16, 'Power': 5}\n",
      "{'id': 89, 'name': 'Prized Necklace', 'description': 'An old friend gave you this a long time ago. Keep it safe.', 'category': 'General', 'Value': 1}\n",
      "{'id': 105, 'name': 'Silver Helm', 'description': \"A beautiful helmet mainly used for ceremonies. It's not really made for battle.\", 'category': 'Armour', 'Value': 20}\n",
      "{'id': 9, 'name': 'Black Potion', 'description': 'It says it can heal, but looks a bit suspicious. Medium Size.', 'category': 'Healing', 'Value': 16, 'Power': 20}\n",
      "{'id': 110, 'name': 'Small Blue Potion', 'description': 'This concoction restores mana and gives a boost of water magic. Small size.', 'category': 'Healing', 'Value': 16, 'Mana': 5, 'Power': 7}\n",
      "{'id': 126, 'name': 'Wooden Shield', 'description': 'A basic wooden shield used by newly recruited soldiers in their training.', 'category': 'Armour', 'Value': 15, 'AC': 3}\n",
      "{'id': 45, 'name': 'Frost Arrow', 'description': 'Full of the strongest ice magic, this arrow will freeze whatever it touches. Handle with care.', 'category': 'Weapons', 'Damage': 5, 'Value': 13}\n"
     ]
    }
   ],
   "source": [
    "def generate_inventory():\n",
    "    loot = []\n",
    "    for i in range(15):\n",
    "        item_id = random.randint(1,131)\n",
    "        loot.append(itemdata['items'][item_id]) \n",
    "    return loot\n",
    "\n",
    "\n",
    "gear = generate_inventory()\n",
    "\n",
    "for item in gear:\n",
    "    print(item)\n"
   ]
  },
  {
   "cell_type": "code",
   "execution_count": null,
   "metadata": {},
   "outputs": [
    {
     "name": "stdout",
     "output_type": "stream",
     "text": [
      "Small Blue Potion\n",
      "This concoction restores mana and gives a boost of water magic. Small size.\n",
      "16 Gold\n",
      "-----------------------------------\n",
      "Festive Candycane\n",
      "A sugary treat laced with a spicy flavour.\n",
      "2 Gold\n",
      "-----------------------------------\n",
      "Fire Ring\n",
      "Forged in the fires of a volcano, this ring allows the wearer to walk on lava.\n",
      "16 Gold\n",
      "-----------------------------------\n",
      "Dark Sword\n",
      "Forged for a demon king, this sword burns the souls of its enemies.\n",
      "17 Gold\n",
      "-----------------------------------\n",
      "Black Pearl\n",
      "A dark pearl which shimmers in the light.\n",
      "2 Gold\n",
      "-----------------------------------\n",
      "Festive Candycane\n",
      "A sugary treat laced with a spicy flavour.\n",
      "2 Gold\n",
      "-----------------------------------\n",
      "Fire Staff\n",
      "Control fire magic with this mighty staff.\n",
      "20 Gold\n",
      "-----------------------------------\n",
      "Ice Bow\n",
      "A fine bow imbued with ice magic. Best paired with ice or frost arrows.\n",
      "11 Gold\n",
      "-----------------------------------\n",
      "Golden Arrow\n",
      "Looks very flashy, but not that much better than a wooden one.\n",
      "15 Gold\n",
      "-----------------------------------\n",
      "Alchemist's Scroll\n",
      "Contains scribblings about turning lead to gold or some such nonsense.\n",
      "10 Gold\n",
      "-----------------------------------\n",
      "Holy Staff\n",
      "This staff gives control over powerful holy and healing magic.\n",
      "18 Gold\n",
      "-----------------------------------\n",
      "Fire Staff\n",
      "Control fire magic with this mighty staff.\n",
      "20 Gold\n",
      "-----------------------------------\n",
      "Blood Buckler\n",
      "The more foes this shield's owner slays, the strong it becomes.\n",
      "16 Gold\n",
      "-----------------------------------\n",
      "Rusted Ingot\n",
      "Rusted beyond recognition. A blacksmith can clean it up for you.\n",
      "14 Gold\n",
      "-----------------------------------\n"
     ]
    }
   ],
   "source": [
    "def store():\n",
    "    shop = generate_inventory()\n",
    "    for item in shop:\n",
    "        print(item['name']) \n",
    "        print(item['description'])\n",
    "        print(item['Value'], 'Gold')\n",
    "        print('-----------------------------------')\n",
    "\n",
    "store()"
   ]
  },
  {
   "cell_type": "code",
   "execution_count": null,
   "metadata": {},
   "outputs": [],
   "source": [
    "#def store():\n",
    "#    shop = generate_inventory()\n",
    "#    for item in shop['items']:\n",
    "#        name = item.get('name', '')\n",
    "#        if 'Pile' in name:\n",
    "#            shop.pop()\n",
    "            \n",
    "#    for item in shop:\n",
    "#        print(item['name']) \n",
    "#        print(item['description'])\n",
    "#        print(item['Value'], 'Gold')\n",
    "#        print('-----------------------------------')\n",
    "\n",
    "\n",
    "#store()"
   ]
  },
  {
   "cell_type": "markdown",
   "metadata": {},
   "source": [
    "# Function to open backpack"
   ]
  },
  {
   "cell_type": "code",
   "execution_count": null,
   "metadata": {},
   "outputs": [
    {
     "name": "stdout",
     "output_type": "stream",
     "text": [
      "name: Hero's Sword\n",
      "description: A mighty sword favoured by heroes the world over.\n",
      "category: Weapons\n",
      "Damage: 1\n",
      "Value: 18\n",
      "-----------------------------------\n",
      "name: Large Purple Potion\n",
      "description: This concoction restores both health and mana. Large size.\n",
      "category: Healing\n",
      "Value: 19\n",
      "-----------------------------------\n",
      "name: Ancient Scroll\n",
      "description: An ancient scroll full of incantations long thought lost.\n",
      "category: Magic\n",
      "Damage: 1\n",
      "Value: 16\n",
      "-----------------------------------\n",
      "name: Moon Ring\n",
      "description: A moonstone ring that offers weak protection against magic attacks.\n",
      "category: Armour\n",
      "Value: 18\n",
      "-----------------------------------\n",
      "name: Rusted Ingot\n",
      "description: Rusted beyond recognition. A blacksmith can clean it up for you.\n",
      "category: General\n",
      "Value: 14\n",
      "-----------------------------------\n",
      "name: Golden Bow\n",
      "description: Made of the finest gold, this bow is the definition of style over substance.\n",
      "category: Weapons\n",
      "Damage: 1\n",
      "Value: 11\n",
      "-----------------------------------\n",
      "name: Lemon Bonbon\n",
      "description: Ideal for those with a sweet tooth! This one tastes of lemon.\n",
      "category: Food\n",
      "Value: 2\n",
      "-----------------------------------\n",
      "name: Red Pearl\n",
      "description: An unusual pearl with a glimmering red colour.\n",
      "category: General\n",
      "Value: 11\n",
      "Health: 18\n",
      "-----------------------------------\n",
      "name: Small Black Potion\n",
      "description: It says it can heal, but looks a bit suspicious. Small Size.\n",
      "category: Healing\n",
      "Value: 16\n",
      "Power: 5\n",
      "-----------------------------------\n",
      "name: Prized Necklace\n",
      "description: An old friend gave you this a long time ago. Keep it safe.\n",
      "category: General\n",
      "Value: 1\n",
      "-----------------------------------\n",
      "name: Silver Helm\n",
      "description: A beautiful helmet mainly used for ceremonies. It's not really made for battle.\n",
      "category: Armour\n",
      "Value: 20\n",
      "-----------------------------------\n",
      "name: Black Potion\n",
      "description: It says it can heal, but looks a bit suspicious. Medium Size.\n",
      "category: Healing\n",
      "Value: 16\n",
      "Power: 20\n",
      "-----------------------------------\n",
      "name: Small Blue Potion\n",
      "description: This concoction restores mana and gives a boost of water magic. Small size.\n",
      "category: Healing\n",
      "Value: 16\n",
      "Mana: 5\n",
      "Power: 7\n",
      "-----------------------------------\n",
      "name: Wooden Shield\n",
      "description: A basic wooden shield used by newly recruited soldiers in their training.\n",
      "category: Armour\n",
      "Value: 15\n",
      "AC: 3\n",
      "-----------------------------------\n",
      "name: Frost Arrow\n",
      "description: Full of the strongest ice magic, this arrow will freeze whatever it touches. Handle with care.\n",
      "category: Weapons\n",
      "Damage: 5\n",
      "Value: 13\n",
      "-----------------------------------\n"
     ]
    }
   ],
   "source": [
    "def Backpack():\n",
    "    for item in gear:\n",
    "        for key, value in item.items():\n",
    "            if key != 'id':  # Exclude 'ID' key\n",
    "                print(f\"{key}: {value}\")\n",
    "        print('-----------------------------------')\n",
    "\n",
    "\n",
    "Backpack()"
   ]
  }
 ],
 "metadata": {
  "kernelspec": {
   "display_name": "ETE4990",
   "language": "python",
   "name": "python3"
  },
  "language_info": {
   "codemirror_mode": {
    "name": "ipython",
    "version": 3
   },
   "file_extension": ".py",
   "mimetype": "text/x-python",
   "name": "python",
   "nbconvert_exporter": "python",
   "pygments_lexer": "ipython3",
   "version": "3.13.1"
  }
 },
 "nbformat": 4,
 "nbformat_minor": 2
}
