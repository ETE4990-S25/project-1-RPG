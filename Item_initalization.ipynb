{
 "cells": [
  {
   "cell_type": "markdown",
   "metadata": {},
   "source": [
    "## Import item list for game\n"
   ]
  },
  {
   "cell_type": "code",
   "execution_count": 2,
   "metadata": {},
   "outputs": [],
   "source": [
    "import json\n",
    "import random"
   ]
  },
  {
   "cell_type": "code",
   "execution_count": 3,
   "metadata": {},
   "outputs": [],
   "source": [
    "with open('ItemData.json', \"r\") as file:\n",
    "    itemdata = json.load(file)\n"
   ]
  },
  {
   "cell_type": "markdown",
   "metadata": {},
   "source": [
    "## Add damage number to items\n"
   ]
  },
  {
   "cell_type": "code",
   "execution_count": 4,
   "metadata": {},
   "outputs": [],
   "source": [
    "valid_types = {'Magic', 'Weapons'}\n",
    "\n",
    "for item in itemdata['items']:  #iterate through list of dictionaries\n",
    "# check if category has allowed values\n",
    "    if item.get('category') in valid_types:\n",
    "        #exclude arrows\n",
    "        if \"arrow\" in itemdata['items']:\n",
    "            continue\n",
    "        item['Damage'] = random.randint(1,5)\n"
   ]
  },
  {
   "cell_type": "markdown",
   "metadata": {},
   "source": [
    "# Add money values to items\n"
   ]
  },
  {
   "cell_type": "code",
   "execution_count": 5,
   "metadata": {},
   "outputs": [],
   "source": [
    "for item in itemdata['items']:\n",
    "    name = item.get('name', '')\n",
    "    category = item.get('category', '')\n",
    "    if 'Empty' in name:\n",
    "        item['Value'] = random.randint(1,5)\n",
    "    elif 'General' in category:\n",
    "        item['Value'] = random.randint(1,15)\n",
    "    elif 'Magic' in category:\n",
    "        item['Value'] = random.randint(10,20)\n",
    "    elif 'Weapon' in category:\n",
    "        item['Value'] = random.randint(10,20)\n",
    "    elif 'Food' in category:\n",
    "        item['Value'] = random.randint(1,5)\n",
    "    else: \n",
    "        item['Value'] = random.randint(15,20)"
   ]
  },
  {
   "cell_type": "markdown",
   "metadata": {},
   "source": [
    "## Add AC Values to armor\n"
   ]
  },
  {
   "cell_type": "code",
   "execution_count": 6,
   "metadata": {},
   "outputs": [],
   "source": [
    "valid_armor = {'Armour'}\n",
    "\n",
    "for item in itemdata['items']:\n",
    "        # Exclude items with \"ring\" in the name (case-insensitive)\n",
    "    if \"ring\" in item.get(\"name\", \"\").lower():\n",
    "        continue  \n",
    "    if \"helmet\" in item.get(\"description\", \"\").lower():\n",
    "        continue \n",
    "    \n",
    "    if item.get('category') in valid_armor:\n",
    "        item['AC'] = random.randint(1,3)\n"
   ]
  },
  {
   "cell_type": "markdown",
   "metadata": {},
   "source": [
    "## Add potion traits\n",
    "\n",
    "- Healing\n",
    "- Mana\n",
    "- General Power (damage boost)\n"
   ]
  },
  {
   "cell_type": "code",
   "execution_count": 7,
   "metadata": {},
   "outputs": [],
   "source": [
    "\n",
    "for item in itemdata['items']:   #Navigate items in each dictionary\n",
    "    name = item.get('name', '')\n",
    "\n",
    "    if \"Green\" in name:\n",
    "        if \"Large\" in name:\n",
    "            item[\"Mana\"] = random.randint(30, 50)  # Large Green Potion gets the most\n",
    "        elif \"Small\" in name:\n",
    "            item[\"Mana\"] = random.randint(5, 10)  # Small Green Potion gets the lowest \n",
    "        else:\n",
    "            item[\"Mana\"] = random.randint(10, 20)  # Default to Regular if no size isn't in name\n",
    "    elif \"Red\" in name:\n",
    "        if \"Large\" in name:\n",
    "            item[\"Health\"] = random.randint(20, 30)  \n",
    "        elif \"Small\" in name:\n",
    "            item[\"Health\"] = random.randint(5, 10)  \n",
    "        else:\n",
    "            item[\"Health\"] = random.randint(10, 20)\n",
    "    elif \"Pink\" in name:\n",
    "        if \"Large\" in name:\n",
    "            item[\"Health\"] = random.randint(15, 20)  \n",
    "        elif \"Small\" in name:\n",
    "            item[\"Health\"] = random.randint(1, 5)  \n",
    "        else:\n",
    "            item[\"Health\"] = random.randint(5, 10)\n",
    "    elif \"Black\" in name:\n",
    "        if \"Large\" in name:\n",
    "            item[\"Power\"] = random.randint(20, 30) \n",
    "        elif \"Small\" in name:\n",
    "            item[\"Power\"] = random.randint(5, 10)  \n",
    "        else:\n",
    "            item[\"Power\"] = random.randint(10, 20)\n",
    "    elif \"Blue\" in name:\n",
    "        if \"Large\" in name:\n",
    "            item[\"Mana\"] = random.randint(20, 30)\n",
    "            item[\"Power\"] = random.randint(20, 30)  \n",
    "        elif \"Small\" in name:\n",
    "            item[\"Mana\"] = random.randint(5, 10)\n",
    "            item[\"Power\"] = random.randint(5, 10)  \n",
    "        else:\n",
    "            item[\"Mana\"] = random.randint(10, 20)\n",
    "            item[\"Power\"] = random.randint(10, 20)\n",
    "    elif \"Orange\" in name:\n",
    "        if \"Large\" in name:\n",
    "            item[\"Mana\"] = random.randint(20, 30)\n",
    "            item[\"Power\"] = random.randint(20, 30)  \n",
    "        elif \"Small\" in name:\n",
    "            item[\"Mana\"] = random.randint(5, 10)\n",
    "            item[\"Power\"] = random.randint(5, 10)  \n",
    "        else:\n",
    "            item[\"Mana\"] = random.randint(10, 20)\n",
    "            item[\"Power\"] = random.randint(10, 20)\n"
   ]
  },
  {
   "cell_type": "markdown",
   "metadata": {},
   "source": [
    "# Generate inventory\n"
   ]
  },
  {
   "cell_type": "code",
   "execution_count": 8,
   "metadata": {},
   "outputs": [
    {
     "name": "stdout",
     "output_type": "stream",
     "text": [
      "{'id': 36, 'name': 'Festive Candycane', 'description': 'A sugary treat laced with a spicy flavour.', 'category': 'Food', 'Value': 5}\n",
      "{'id': 36, 'name': 'Festive Candycane', 'description': 'A sugary treat laced with a spicy flavour.', 'category': 'Food', 'Value': 5}\n",
      "{'id': 28, 'name': 'Demon Shield', 'description': \"A shield emblazoned with a demon's skull. Horrific, yet practical.\", 'category': 'Armour', 'Value': 16, 'AC': 1}\n",
      "{'id': 62, 'name': 'Holy Staff', 'description': 'This staff gives control over powerful holy and healing magic.', 'category': 'Magic', 'Damage': 4, 'Value': 12}\n",
      "{'id': 34, 'name': 'Empty Vial', 'description': 'A glass bottle used to store potions. This is the size for a small potion.', 'category': 'Healing', 'Value': 2}\n",
      "{'id': 129, 'name': 'Woodland Bow', 'description': 'A bow forged from ancient trees in the elven forest.', 'category': 'Weapons', 'Damage': 5, 'Value': 16}\n",
      "{'id': 52, 'name': 'Golden Key', 'description': 'A key as lovely as this must open the way to an equally lovely prize!', 'category': 'General', 'Value': 13}\n",
      "{'id': 79, 'name': 'Moon Ring', 'description': 'A moonstone ring that offers weak protection against magic attacks.', 'category': 'Armour', 'Value': 18}\n",
      "{'id': 82, 'name': 'Orange Candycane', 'description': 'A sugary treat laced with an orange flavour.', 'category': 'Food', 'Value': 3, 'Mana': 15, 'Power': 20}\n",
      "{'id': 12, 'name': 'Blaze Arrow', 'description': 'A more powerful arrow than the Fire Arrow. Sure to burn your target to ash.', 'category': 'Weapons', 'Damage': 1, 'Value': 17}\n",
      "{'id': 124, 'name': 'Winter Shield', 'description': 'Built by craftsmen in the most northern region, this shield repels all ice magic.', 'category': 'Armour', 'Value': 18, 'AC': 1}\n",
      "{'id': 67, 'name': 'Large Black Potion', 'description': 'It says it can heal, but looks a bit suspicious. Large Size.', 'category': 'Healing', 'Value': 15, 'Power': 28}\n",
      "{'id': 65, 'name': 'Ice Gem', 'description': \"A cold gem with a blue hue. Used to boost one's ice magic.\", 'category': 'Magic', 'Damage': 4, 'Value': 12}\n",
      "{'id': 40, 'name': 'Fire Staff', 'description': 'Control fire magic with this mighty staff.', 'category': 'Magic', 'Damage': 5, 'Value': 14}\n",
      "{'id': 118, 'name': 'Strawberry Bonbon', 'description': 'Ideal for those with a sweet tooth! This one tastes of strawberries.', 'category': 'Food', 'Value': 5}\n"
     ]
    }
   ],
   "source": [
    "def generate_inventory():\n",
    "    loot = []\n",
    "    for i in range(15):\n",
    "        item_id = random.randint(1,131)\n",
    "        loot.append(itemdata['items'][item_id]) \n",
    "    return loot\n",
    "\n",
    "\n",
    "gear = generate_inventory()\n",
    "\n",
    "for item in gear:\n",
    "    print(item)\n"
   ]
  },
  {
   "cell_type": "code",
   "execution_count": 9,
   "metadata": {},
   "outputs": [
    {
     "name": "stdout",
     "output_type": "stream",
     "text": [
      "Blue Potion\n",
      "This concoction restores mana and gives a boost of water magic. Medium size.\n",
      "17 Gold\n",
      "-----------------------------------\n",
      "Earth Gem\n",
      "This brown coloured gem contains an abundance of earth magic.\n",
      "10 Gold\n",
      "-----------------------------------\n",
      "Small Purple Potion\n",
      "This concoction restores both health and mana. Small size.\n",
      "18 Gold\n",
      "-----------------------------------\n",
      "Blank Scroll\n",
      "Spare parchment, awaiting someone to use it for a spell.\n",
      "15 Gold\n",
      "-----------------------------------\n",
      "Thunder Staff\n",
      "This staff allows the user to control violent storms using thunder magic.\n",
      "20 Gold\n",
      "-----------------------------------\n",
      "White Fish\n",
      "A large fish which is highly sought after due to its delicious flavour.\n",
      "5 Gold\n",
      "-----------------------------------\n",
      "Prized Necklace\n",
      "An old friend gave you this a long time ago. Keep it safe.\n",
      "14 Gold\n",
      "-----------------------------------\n",
      "Pink Candycane\n",
      "A sugary treat laced with a raspberry flavour.\n",
      "2 Gold\n",
      "-----------------------------------\n",
      "Blue Fish\n",
      "Common in the local rivers, this fish's scales shimmer in the sunlight.\n",
      "3 Gold\n",
      "-----------------------------------\n",
      "Moon Ring\n",
      "A moonstone ring that offers weak protection against magic attacks.\n",
      "18 Gold\n",
      "-----------------------------------\n",
      "Small Blue Potion\n",
      "This concoction restores mana and gives a boost of water magic. Small size.\n",
      "19 Gold\n",
      "-----------------------------------\n",
      "Golden Arrow\n",
      "Looks very flashy, but not that much better than a wooden one.\n",
      "15 Gold\n",
      "-----------------------------------\n",
      "Red Potion\n",
      "A vibrant red potion designed to restore health. Medium size.\n",
      "20 Gold\n",
      "-----------------------------------\n",
      "Moon Ring\n",
      "A moonstone ring that offers weak protection against magic attacks.\n",
      "18 Gold\n",
      "-----------------------------------\n",
      "Mysterious Key\n",
      "What does this unlock? Better start trying it out!\n",
      "4 Gold\n",
      "-----------------------------------\n"
     ]
    }
   ],
   "source": [
    "def store():\n",
    "    shop = generate_inventory()\n",
    "    for item in shop:\n",
    "        print(item['name']) \n",
    "        print(item['description'])\n",
    "        print(item['Value'], 'Gold')\n",
    "        print('-----------------------------------')\n",
    "\n",
    "store()"
   ]
  },
  {
   "cell_type": "code",
   "execution_count": 10,
   "metadata": {},
   "outputs": [],
   "source": [
    "#def store():\n",
    "#    shop = generate_inventory()\n",
    "#    for item in shop['items']:\n",
    "#        name = item.get('name', '')\n",
    "#        if 'Pile' in name:\n",
    "#            shop.pop()\n",
    "            \n",
    "#    for item in shop:\n",
    "#        print(item['name']) \n",
    "#        print(item['description'])\n",
    "#        print(item['Value'], 'Gold')\n",
    "#        print('-----------------------------------')\n",
    "\n",
    "\n",
    "#store()"
   ]
  },
  {
   "cell_type": "markdown",
   "metadata": {},
   "source": [
    "# Function to open backpack"
   ]
  },
  {
   "cell_type": "code",
   "execution_count": 11,
   "metadata": {},
   "outputs": [
    {
     "name": "stdout",
     "output_type": "stream",
     "text": [
      "name: Festive Candycane\n",
      "description: A sugary treat laced with a spicy flavour.\n",
      "category: Food\n",
      "Value: 5\n",
      "-----------------------------------\n",
      "name: Festive Candycane\n",
      "description: A sugary treat laced with a spicy flavour.\n",
      "category: Food\n",
      "Value: 5\n",
      "-----------------------------------\n",
      "name: Demon Shield\n",
      "description: A shield emblazoned with a demon's skull. Horrific, yet practical.\n",
      "category: Armour\n",
      "Value: 16\n",
      "AC: 1\n",
      "-----------------------------------\n",
      "name: Holy Staff\n",
      "description: This staff gives control over powerful holy and healing magic.\n",
      "category: Magic\n",
      "Damage: 4\n",
      "Value: 12\n",
      "-----------------------------------\n",
      "name: Empty Vial\n",
      "description: A glass bottle used to store potions. This is the size for a small potion.\n",
      "category: Healing\n",
      "Value: 2\n",
      "-----------------------------------\n",
      "name: Woodland Bow\n",
      "description: A bow forged from ancient trees in the elven forest.\n",
      "category: Weapons\n",
      "Damage: 5\n",
      "Value: 16\n",
      "-----------------------------------\n",
      "name: Golden Key\n",
      "description: A key as lovely as this must open the way to an equally lovely prize!\n",
      "category: General\n",
      "Value: 13\n",
      "-----------------------------------\n",
      "name: Moon Ring\n",
      "description: A moonstone ring that offers weak protection against magic attacks.\n",
      "category: Armour\n",
      "Value: 18\n",
      "-----------------------------------\n",
      "name: Orange Candycane\n",
      "description: A sugary treat laced with an orange flavour.\n",
      "category: Food\n",
      "Value: 3\n",
      "Mana: 15\n",
      "Power: 20\n",
      "-----------------------------------\n",
      "name: Blaze Arrow\n",
      "description: A more powerful arrow than the Fire Arrow. Sure to burn your target to ash.\n",
      "category: Weapons\n",
      "Damage: 1\n",
      "Value: 17\n",
      "-----------------------------------\n",
      "name: Winter Shield\n",
      "description: Built by craftsmen in the most northern region, this shield repels all ice magic.\n",
      "category: Armour\n",
      "Value: 18\n",
      "AC: 1\n",
      "-----------------------------------\n",
      "name: Large Black Potion\n",
      "description: It says it can heal, but looks a bit suspicious. Large Size.\n",
      "category: Healing\n",
      "Value: 15\n",
      "Power: 28\n",
      "-----------------------------------\n",
      "name: Ice Gem\n",
      "description: A cold gem with a blue hue. Used to boost one's ice magic.\n",
      "category: Magic\n",
      "Damage: 4\n",
      "Value: 12\n",
      "-----------------------------------\n",
      "name: Fire Staff\n",
      "description: Control fire magic with this mighty staff.\n",
      "category: Magic\n",
      "Damage: 5\n",
      "Value: 14\n",
      "-----------------------------------\n",
      "name: Strawberry Bonbon\n",
      "description: Ideal for those with a sweet tooth! This one tastes of strawberries.\n",
      "category: Food\n",
      "Value: 5\n",
      "-----------------------------------\n"
     ]
    }
   ],
   "source": [
    "def Backpack():\n",
    "    for item in gear:\n",
    "        for key, value in item.items():\n",
    "            if key != 'id':  # Exclude 'ID' key\n",
    "                print(f\"{key}: {value}\")\n",
    "        print('-----------------------------------')\n",
    "\n",
    "\n",
    "Backpack()"
   ]
  }
 ],
 "metadata": {
  "kernelspec": {
   "display_name": "ETE4990",
   "language": "python",
   "name": "python3"
  },
  "language_info": {
   "codemirror_mode": {
    "name": "ipython",
    "version": 3
   },
   "file_extension": ".py",
   "mimetype": "text/x-python",
   "name": "python",
   "nbconvert_exporter": "python",
   "pygments_lexer": "ipython3",
   "version": "3.13.1"
  }
 },
 "nbformat": 4,
 "nbformat_minor": 2
}
