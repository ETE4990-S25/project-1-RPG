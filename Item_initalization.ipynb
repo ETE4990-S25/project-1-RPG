{
 "cells": [
  {
   "cell_type": "markdown",
   "metadata": {},
   "source": [
    "## Import item list for game\n"
   ]
  },
  {
   "cell_type": "code",
   "execution_count": 2,
   "metadata": {},
   "outputs": [],
   "source": [
    "import json\n",
    "import random\n",
    "import stat_generator"
   ]
  },
  {
   "cell_type": "code",
   "execution_count": 15,
   "metadata": {},
   "outputs": [],
   "source": [
    "with open('ItemData.json', \"r\") as file:\n",
    "    itemdata = json.load(file)\n"
   ]
  },
  {
   "cell_type": "markdown",
   "metadata": {},
   "source": [
    "## Add damage number to items\n"
   ]
  },
  {
   "cell_type": "code",
   "execution_count": 16,
   "metadata": {},
   "outputs": [],
   "source": [
    "valid_types = {'Magic', 'Weapons'}\n",
    "\n",
    "for item in itemdata['items']:  #iterate through list of dictionaries\n",
    "# check if category has allowed values\n",
    "    if item.get('category') in valid_types:\n",
    "        #exclude arrows\n",
    "        if \"arrow\" in itemdata['items']:\n",
    "            continue\n",
    "        item['Damage'] = random.randint(1,5)\n"
   ]
  },
  {
   "cell_type": "markdown",
   "metadata": {},
   "source": [
    "# Add money values to items\n"
   ]
  },
  {
   "cell_type": "code",
   "execution_count": 17,
   "metadata": {},
   "outputs": [],
   "source": [
    "for item in itemdata['items']:\n",
    "    name = item.get('name', '')\n",
    "    category = item.get('category', '')\n",
    "    if 'Empty' in name:\n",
    "        item['Value'] = random.randint(1,5)\n",
    "    elif 'General' in category:\n",
    "        item['Value'] = random.randint(1,15)\n",
    "    elif 'Magic' in category:\n",
    "        item['Value'] = random.randint(10,20)\n",
    "    elif 'Weapon' in category:\n",
    "        item['Value'] = random.randint(10,20)\n",
    "    elif 'Food' in category:\n",
    "        item['Value'] = random.randint(1,5)\n",
    "    else: \n",
    "        item['Value'] = random.randint(15,20)"
   ]
  },
  {
   "cell_type": "markdown",
   "metadata": {},
   "source": [
    "## Add AC Values to armor\n"
   ]
  },
  {
   "cell_type": "code",
   "execution_count": 18,
   "metadata": {},
   "outputs": [],
   "source": [
    "valid_armor = {'Armour'}\n",
    "\n",
    "for item in itemdata['items']:\n",
    "        # Exclude items with \"ring\" in the name (case-insensitive)\n",
    "    if \"ring\" in item.get(\"name\", \"\").lower():\n",
    "        continue  \n",
    "    if \"helmet\" in item.get(\"description\", \"\").lower():\n",
    "        continue \n",
    "    \n",
    "    if item.get('category') in valid_armor:\n",
    "        item['AC'] = random.randint(10,16)\n"
   ]
  },
  {
   "cell_type": "markdown",
   "metadata": {},
   "source": [
    "## Add potion traits\n",
    "\n",
    "- Healing\n",
    "- Mana\n",
    "- General Power (damage boost)\n"
   ]
  },
  {
   "cell_type": "code",
   "execution_count": 19,
   "metadata": {},
   "outputs": [],
   "source": [
    "\n",
    "for item in itemdata['items']:   #Navigate items in each dictionary\n",
    "    name = item.get('name', '')\n",
    "\n",
    "    if \"Green\" in name:\n",
    "        if \"Large\" in name:\n",
    "            item[\"Mana\"] = random.randint(30, 50)  # Large Green Potion gets the most\n",
    "        elif \"Small\" in name:\n",
    "            item[\"Mana\"] = random.randint(5, 10)  # Small Green Potion gets the lowest \n",
    "        else:\n",
    "            item[\"Mana\"] = random.randint(10, 20)  # Default to Regular if no size isn't in name\n",
    "    elif \"Red\" in name:\n",
    "        if \"Large\" in name:\n",
    "            item[\"Health\"] = random.randint(20, 30)  \n",
    "        elif \"Small\" in name:\n",
    "            item[\"Health\"] = random.randint(5, 10)  \n",
    "        else:\n",
    "            item[\"Health\"] = random.randint(10, 20)\n",
    "    elif \"Pink\" in name:\n",
    "        if \"Large\" in name:\n",
    "            item[\"Health\"] = random.randint(15, 20)  \n",
    "        elif \"Small\" in name:\n",
    "            item[\"Health\"] = random.randint(1, 5)  \n",
    "        else:\n",
    "            item[\"Health\"] = random.randint(5, 10)\n",
    "    elif \"Black\" in name:\n",
    "        if \"Large\" in name:\n",
    "            item[\"Power\"] = random.randint(20, 30) \n",
    "        elif \"Small\" in name:\n",
    "            item[\"Power\"] = random.randint(5, 10)  \n",
    "        else:\n",
    "            item[\"Power\"] = random.randint(10, 20)\n",
    "    elif \"Blue\" in name:\n",
    "        if \"Large\" in name:\n",
    "            item[\"Mana\"] = random.randint(20, 30)\n",
    "            item[\"Power\"] = random.randint(20, 30)  \n",
    "        elif \"Small\" in name:\n",
    "            item[\"Mana\"] = random.randint(5, 10)\n",
    "            item[\"Power\"] = random.randint(5, 10)  \n",
    "        else:\n",
    "            item[\"Mana\"] = random.randint(10, 20)\n",
    "            item[\"Power\"] = random.randint(10, 20)\n",
    "    elif \"Orange\" in name:\n",
    "        if \"Large\" in name:\n",
    "            item[\"Mana\"] = random.randint(20, 30)\n",
    "            item[\"Power\"] = random.randint(20, 30)  \n",
    "        elif \"Small\" in name:\n",
    "            item[\"Mana\"] = random.randint(5, 10)\n",
    "            item[\"Power\"] = random.randint(5, 10)  \n",
    "        else:\n",
    "            item[\"Mana\"] = random.randint(10, 20)\n",
    "            item[\"Power\"] = random.randint(10, 20)\n"
   ]
  },
  {
   "cell_type": "markdown",
   "metadata": {},
   "source": [
    "# Generate inventory\n"
   ]
  },
  {
   "cell_type": "code",
   "execution_count": 20,
   "metadata": {},
   "outputs": [
    {
     "name": "stdout",
     "output_type": "stream",
     "text": [
      "{'id': 19, 'name': 'Blue Potion', 'description': 'This concoction restores mana and gives a boost of water magic. Medium size.', 'category': 'Healing', 'Value': 16, 'Mana': 19, 'Power': 17}\n",
      "{'id': 3, 'name': 'Ancient Coin', 'description': 'Currency from an ancient civilisation, this belongs in a museum!', 'category': 'General', 'Value': 6}\n",
      "{'id': 1, 'name': 'Air Gem', 'description': 'A pale coloured gem brimming with air magic.', 'category': 'Magic', 'Damage': 5, 'Value': 10}\n",
      "{'id': 130, 'name': 'Worn Scroll', 'description': \"You can feel the magic emanating from this scroll. But it's too faded to read.\", 'category': 'Magic', 'Damage': 3, 'Value': 11}\n",
      "{'id': 19, 'name': 'Blue Potion', 'description': 'This concoction restores mana and gives a boost of water magic. Medium size.', 'category': 'Healing', 'Value': 16, 'Mana': 19, 'Power': 17}\n",
      "{'id': 18, 'name': 'Blue Pearl', 'description': 'The colour of this beautiful pearl reminds of the seas from whence it came.', 'category': 'General', 'Value': 14, 'Mana': 19, 'Power': 10}\n",
      "{'id': 12, 'name': 'Blaze Arrow', 'description': 'A more powerful arrow than the Fire Arrow. Sure to burn your target to ash.', 'category': 'Weapons', 'Damage': 2, 'Value': 11}\n",
      "{'id': 123, 'name': 'White Fish', 'description': 'A large fish which is highly sought after due to its delicious flavour.', 'category': 'Food', 'Value': 2}\n",
      "{'id': 74, 'name': 'Lemon Bonbon', 'description': 'Ideal for those with a sweet tooth! This one tastes of lemon.', 'category': 'Food', 'Value': 2}\n",
      "{'id': 28, 'name': 'Demon Shield', 'description': \"A shield emblazoned with a demon's skull. Horrific, yet practical.\", 'category': 'Armour', 'Value': 19, 'AC': 13}\n",
      "{'id': 9, 'name': 'Black Potion', 'description': 'It says it can heal, but looks a bit suspicious. Medium Size.', 'category': 'Healing', 'Value': 18, 'Power': 17}\n",
      "{'id': 62, 'name': 'Holy Staff', 'description': 'This staff gives control over powerful holy and healing magic.', 'category': 'Magic', 'Damage': 3, 'Value': 11}\n",
      "{'id': 11, 'name': 'Blank Scroll', 'description': 'Spare parchment, awaiting someone to use it for a spell.', 'category': 'Magic', 'Damage': 2, 'Value': 14}\n",
      "{'id': 128, 'name': 'Woodland Arrow', 'description': 'A staple for any archer. This simple arrow is enough to get started.', 'category': 'Weapons', 'Damage': 4, 'Value': 15}\n",
      "{'id': 45, 'name': 'Frost Arrow', 'description': 'Full of the strongest ice magic, this arrow will freeze whatever it touches. Handle with care.', 'category': 'Weapons', 'Damage': 1, 'Value': 16}\n",
      "27 Gold\n"
     ]
    }
   ],
   "source": [
    "def generate_inventory():\n",
    "    loot = []\n",
    "    gold = random.randint(20,50)\n",
    "    \n",
    "    # Generate 15 random items\n",
    "    for i in range(15):\n",
    "        item_id = random.randint(1, 130)  # Ensure the index is within bounds\n",
    "        item = itemdata['items'][item_id]\n",
    "        \n",
    "        # Add the item to the loot list (we'll add to the player's inventory later)\n",
    "        loot.append(item)\n",
    "    \n",
    "    return loot, gold\n",
    "\n",
    "   \n",
    "\n",
    "\n",
    "gear,gold = generate_inventory()\n",
    "\n",
    "for i in range(15):\n",
    "    print(gear[i])\n",
    "print( gold,'Gold')\n"
   ]
  },
  {
   "cell_type": "code",
   "execution_count": 9,
   "metadata": {},
   "outputs": [],
   "source": [
    "# List of items to be added to the inventory\n",
    "#new_items = [\n",
    " #   {'id': 73, 'name': 'Large Red Potion', 'description': 'A vibrant red potion designed to restore health. Large size.', 'category': 'Healing', 'Value': 15, 'Health': 23},\n",
    "  ## {'id': 1, 'name': 'Air Gem', 'description': 'A pale coloured gem brimming with air magic.', 'category': 'Magic', 'Damage': 5, 'Value': 15}\n",
    "#]\n",
    "\n",
    "# Adding the items to the inventory\n",
    "#player.add_to_inventory(new_items)\n",
    "\n",
    "# Adding the same item again to see how the quantity increases\n",
    "#new_items_duplicate = [\n",
    "#    {'id': 1, 'name': 'Air Gem', 'description': 'A pale coloured gem brimming with air magic.', 'category': 'Magic', 'Damage': 5, 'Value': 15}\n",
    "#]\n",
    "#player.add_to_inventory(new_items_duplicate)\n",
    "\n",
    "# Printing the player's inventory\n",
    "#player.get_inventory()"
   ]
  },
  {
   "cell_type": "code",
   "execution_count": 10,
   "metadata": {},
   "outputs": [
    {
     "ename": "IndentationError",
     "evalue": "unexpected indent (3157010865.py, line 2)",
     "output_type": "error",
     "traceback": [
      "\u001b[1;36m  Cell \u001b[1;32mIn[10], line 2\u001b[1;36m\u001b[0m\n\u001b[1;33m    shop, gold = generate_inventory()\u001b[0m\n\u001b[1;37m    ^\u001b[0m\n\u001b[1;31mIndentationError\u001b[0m\u001b[1;31m:\u001b[0m unexpected indent\n"
     ]
    }
   ],
   "source": [
    "#def store_interaction():\n",
    "    shop, gold = generate_inventory()\n",
    "    print('Welcome to my shop adventurer!')\n",
    "    print('Please have a look at my wares:\\n')\n",
    "    print('If you wish to sell, I have', gold, 'gold on hand\\n')\n",
    "    \n",
    "    print('You have', player.get_gold(), 'Gold to spend\\n')\n",
    "\n",
    "    for item in shop:\n",
    "        print(item['name']) \n",
    "        print(item['description'])\n",
    "        print(item['Value'], 'Gold')\n",
    "        print('-----------------------------------')\n",
    "    # Add number to items 2 buy\n",
    "    \n",
    "\n",
    "\n",
    "        \n",
    "\n",
    "\n",
    "#store_interaction()"
   ]
  },
  {
   "cell_type": "code",
   "execution_count": null,
   "metadata": {},
   "outputs": [],
   "source": [
    "#def store():\n",
    "#    shop = generate_inventory()\n",
    "#    for item in shop['items']:\n",
    "#        name = item.get('name', '')\n",
    "#        if 'Pile' in name:\n",
    "#            shop.pop()\n",
    "            \n",
    "#    for item in shop:\n",
    "#        print(item['name']) \n",
    "#        print(item['description'])\n",
    "#        print(item['Value'], 'Gold')\n",
    "#        print('-----------------------------------')\n",
    "\n",
    "\n",
    "#store()\n",
    "\n",
    "#stuff = ['apple', 'cheeto', 'dog']\n",
    "#for index, stuff in enumerate(stuff, start= 1):\n",
    "    print(index,stuff)"
   ]
  },
  {
   "cell_type": "markdown",
   "metadata": {},
   "source": [
    "# Function to open backpack (changed to class attribute)"
   ]
  },
  {
   "cell_type": "code",
   "execution_count": null,
   "metadata": {},
   "outputs": [],
   "source": [
    "#def Backpack():\n",
    "    for item in gear:\n",
    "        for key, value in item.items():\n",
    "            if key != 'id':  # Exclude 'ID' key\n",
    "                print(f\"{key}: {value}\")\n",
    "        print('-----------------------------------')\n",
    "\n",
    "\n",
    "#Backpack()"
   ]
  },
  {
   "cell_type": "code",
   "execution_count": 22,
   "metadata": {},
   "outputs": [],
   "source": [
    "player = stat_generator.Player('Kallos', 'Paladin')"
   ]
  },
  {
   "cell_type": "code",
   "execution_count": 23,
   "metadata": {},
   "outputs": [
    {
     "name": "stdout",
     "output_type": "stream",
     "text": [
      "Name: Kallos\n",
      "Class: Paladin\n",
      "Strength: 12\n",
      "Dexterity: 12\n",
      "Constitution: 14\n",
      "Intelligence: 3\n",
      "Wisdom: 10\n",
      "Charisma: 14\n",
      "Hitpoints: 46\n",
      "Armor Class: 10\n",
      "Damage: 1\n",
      "Equipped Weapon: None\n",
      "Equipped Armor: None\n"
     ]
    }
   ],
   "source": [
    "player.display_stats()"
   ]
  },
  {
   "cell_type": "markdown",
   "metadata": {},
   "source": [
    "# Store interaction Version 2"
   ]
  },
  {
   "cell_type": "code",
   "execution_count": 24,
   "metadata": {},
   "outputs": [
    {
     "name": "stdout",
     "output_type": "stream",
     "text": [
      "Welcome to my shop, adventurer!\n",
      "Please have a look at my wares:\n",
      "\n",
      "If you wish to sell, I have 35 gold on hand.\n",
      "\n"
     ]
    },
    {
     "ename": "TypeError",
     "evalue": "Player.gold() missing 1 required positional argument: 'amount'",
     "output_type": "error",
     "traceback": [
      "\u001b[1;31m---------------------------------------------------------------------------\u001b[0m",
      "\u001b[1;31mTypeError\u001b[0m                                 Traceback (most recent call last)",
      "Cell \u001b[1;32mIn[24], line 73\u001b[0m\n\u001b[0;32m     70\u001b[0m             \u001b[38;5;28mprint\u001b[39m(\u001b[38;5;124m\"\u001b[39m\u001b[38;5;124mThe shop is now empty. You leave.\u001b[39m\u001b[38;5;124m\"\u001b[39m)\n\u001b[0;32m     71\u001b[0m             \u001b[38;5;28;01mbreak\u001b[39;00m\n\u001b[1;32m---> 73\u001b[0m \u001b[43mstore_interaction\u001b[49m\u001b[43m(\u001b[49m\u001b[43m)\u001b[49m\n",
      "Cell \u001b[1;32mIn[24], line 9\u001b[0m, in \u001b[0;36mstore_interaction\u001b[1;34m()\u001b[0m\n\u001b[0;32m      6\u001b[0m \u001b[38;5;28mprint\u001b[39m(\u001b[38;5;124mf\u001b[39m\u001b[38;5;124m'\u001b[39m\u001b[38;5;124mIf you wish to sell, I have \u001b[39m\u001b[38;5;132;01m{\u001b[39;00mshop_gold\u001b[38;5;132;01m}\u001b[39;00m\u001b[38;5;124m gold on hand.\u001b[39m\u001b[38;5;130;01m\\n\u001b[39;00m\u001b[38;5;124m'\u001b[39m)\n\u001b[0;32m      8\u001b[0m \u001b[38;5;66;03m# Display player's gold\u001b[39;00m\n\u001b[1;32m----> 9\u001b[0m \u001b[38;5;28mprint\u001b[39m(\u001b[38;5;124mf\u001b[39m\u001b[38;5;124m'\u001b[39m\u001b[38;5;124mYou have \u001b[39m\u001b[38;5;132;01m{\u001b[39;00m\u001b[43mplayer\u001b[49m\u001b[38;5;241;43m.\u001b[39;49m\u001b[43mgold\u001b[49m\u001b[38;5;132;01m}\u001b[39;00m\u001b[38;5;124m Gold to spend.\u001b[39m\u001b[38;5;130;01m\\n\u001b[39;00m\u001b[38;5;124m'\u001b[39m)\n\u001b[0;32m     11\u001b[0m \u001b[38;5;66;03m# Display the shop items with numbers\u001b[39;00m\n\u001b[0;32m     12\u001b[0m \u001b[38;5;28;01mfor\u001b[39;00m index, item \u001b[38;5;129;01min\u001b[39;00m \u001b[38;5;28menumerate\u001b[39m(shop, start\u001b[38;5;241m=\u001b[39m\u001b[38;5;241m1\u001b[39m):\n",
      "\u001b[1;31mTypeError\u001b[0m: Player.gold() missing 1 required positional argument: 'amount'"
     ]
    }
   ],
   "source": [
    "def store_interaction():\n",
    "    shop, shop_gold = generate_inventory()  \n",
    "    \n",
    "    print('Welcome to my shop, adventurer!')\n",
    "    print('Please have a look at my wares:\\n')\n",
    "    print(f'If you wish to sell, I have {shop_gold} gold on hand.\\n')\n",
    "    \n",
    "    # Display player's gold\n",
    "    print(f'You have {player.gold} Gold to spend.\\n')\n",
    "\n",
    "    # Display the shop items with numbers\n",
    "    for index, item in enumerate(shop, start=1):\n",
    "        print(f\"{index}. {item['name']}\")\n",
    "        print(item['description'])\n",
    "        print(f\"{item['Value']} Gold\")\n",
    "        print('-----------------------------------')\n",
    "    \n",
    "    # Display player inventory\n",
    "    print(\"\\nYour current inventory:\")\n",
    "    player.display_inventory()\n",
    "\n",
    "    # Purchase loop\n",
    "    while True:    \n",
    "        # Get the item choice from the player\n",
    "        choice = input(\"Enter the number of the item you wish to buy (or type 'exit' to leave): \")\n",
    "        \n",
    "        if choice.lower() == 'exit':\n",
    "            print(\"You leave the shop.\")\n",
    "            break\n",
    "        \n",
    "        # Validate input for item choice\n",
    "        if not choice.isdigit() or int(choice) < 1 or int(choice) > len(shop):\n",
    "            print(\"Invalid choice. Please choose a valid item number.\")\n",
    "            continue\n",
    "        \n",
    "        # Input to index\n",
    "        item_index = int(choice) - 1\n",
    "        item_to_buy = shop[item_index]\n",
    "        \n",
    "        # Ask how many they want to buy\n",
    "        quantity = input(f\"How many {item_to_buy['name']}s do you want to buy? \")\n",
    "        \n",
    "        # Validate quantity input\n",
    "        if not quantity.isdigit() or int(quantity) < 1:\n",
    "            print(\"Please enter a valid quantity.\")\n",
    "            continue\n",
    "        \n",
    "        quantity = int(quantity)\n",
    "        total_cost = item_to_buy['Value'] * quantity\n",
    "        \n",
    "        # Check if player has enough gold\n",
    "        if player.gold >= total_cost:\n",
    "            print(f\"You bought {quantity} {item_to_buy['name']}(s) for {total_cost} Gold.\")\n",
    "            \n",
    "            # Add the correct quantity of the item to the player's inventory (gear)\n",
    "            for _ in range(quantity):\n",
    "                player.inventory.add_item(item_to_buy['name'], quantity)\n",
    "            \n",
    "            # Deduct gold from the player\n",
    "            player.gold -= total_cost\n",
    "\n",
    "            # Remove the bought item from the shop\n",
    "            del shop[item_index]\n",
    "            \n",
    "        else:\n",
    "            print(\"You don't have enough gold to buy that many.\")\n",
    "        \n",
    "        # If the shop is empty, end the interaction\n",
    "        if not shop:\n",
    "            print(\"The shop is now empty. You leave.\")\n",
    "            break\n",
    "\n",
    "store_interaction()\n"
   ]
  },
  {
   "cell_type": "code",
   "execution_count": null,
   "metadata": {},
   "outputs": [
    {
     "name": "stdout",
     "output_type": "stream",
     "text": [
      "Inventory:\n",
      "Frost Arrow (x1)\n",
      "Knight's Helm (x1)\n",
      "Royal Scepter (x1)\n",
      "Blue Potion (x1)\n",
      "Light Shield (x1)\n",
      "Red Fish (x1)\n",
      "Hero's Sword (x2)\n",
      "Rusty Key (x1)\n",
      "Holy Staff (x1)\n",
      "Silver Arrow (x1)\n",
      "Red Candycane (x1)\n",
      "Silver Bow (x1)\n",
      "Blackberry Bonbon (x1)\n",
      "Demon Helm (x1)\n"
     ]
    }
   ],
   "source": [
    "\n",
    "player.display_inventory()"
   ]
  },
  {
   "cell_type": "markdown",
   "metadata": {},
   "source": [
    "# Equip items"
   ]
  },
  {
   "cell_type": "code",
   "execution_count": null,
   "metadata": {},
   "outputs": [
    {
     "name": "stdout",
     "output_type": "stream",
     "text": [
      "Name: Kallos\n",
      "Class: Paladin\n",
      "Strength: 13\n",
      "Dexterity: 15\n",
      "Constitution: 13\n",
      "Intelligence: 7\n",
      "Wisdom: 18\n",
      "Charisma: 11\n",
      "Hitpoints: 36\n",
      "Armor Class: 10\n",
      "Damage: 1\n",
      "Equipped Weapon: None\n",
      "Equipped Armor: None\n"
     ]
    }
   ],
   "source": [
    "player.display_stats()"
   ]
  },
  {
   "cell_type": "code",
   "execution_count": 14,
   "metadata": {},
   "outputs": [],
   "source": [
    "def equip_from_inventory(player):\n",
    "    # Separate weapons and armor from the inventory\n",
    "    weapons = [item for item in player.inventory.items if \"Damage\" in item]\n",
    "    armor = [item for item in player.inventory.items if \"AC\" in item]\n",
    "\n",
    "    # Display available weapons\n",
    "    print(\"Weapons available to equip:\")\n",
    "    for idx, weapon in enumerate(weapons, 1):\n",
    "        print(f\"{idx}. {weapon['name']} (Damage: {weapon['Damage']})\")\n",
    "\n",
    "    # Display available armor\n",
    "    print(\"\\nArmor available to equip:\")\n",
    "    for idx, arm in enumerate(armor, 1):\n",
    "        print(f\"{idx}. {arm['name']} (AC: {arm['AC']})\")\n",
    "    \n",
    "    # Ask the player to choose an item to equip\n",
    "    item_type = input(\"\\nWhat would you like to equip? (weapon/armor): \").strip().lower()\n",
    "\n",
    "    if item_type == \"weapon\":\n",
    "        # Choose a weapon\n",
    "        choice = input(f\"Enter the number of the weapon you want to equip (1-{len(weapons)}): \").strip()\n",
    "        if choice.isdigit() and 1 <= int(choice) <= len(weapons):\n",
    "            selected_weapon = weapons[int(choice) - 1]\n",
    "            player.equipped_weapon = selected_weapon  # Equip weapon\n",
    "            print(f\"You have equipped {selected_weapon['name']} with Damage {selected_weapon['Damage']}!\")\n",
    "            # Update the damage value, assuming your player has a damage attribute.\n",
    "            player.damage += selected_weapon['Damage']\n",
    "        else:\n",
    "            print(\"Invalid selection, no weapon equipped.\")\n",
    "\n",
    "    elif item_type == \"armor\":\n",
    "        # Choose armor\n",
    "        choice = input(f\"Enter the number of the armor you want to equip (1-{len(armor)}): \").strip()\n",
    "        if choice.isdigit() and 1 <= int(choice) <= len(armor):\n",
    "            selected_armor = armor[int(choice) - 1]\n",
    "            player.equipped_armor = selected_armor  # Equip armor\n",
    "            print(f\"You have equipped {selected_armor['name']} with AC {selected_armor['AC']}!\")\n",
    "            # Update the armor class value, assuming your player has an ac attribute.\n",
    "            player.ac += selected_armor['AC']\n",
    "        else:\n",
    "            print(\"Invalid selection, no armor equipped.\")\n",
    "\n",
    "    else:\n",
    "        print(\"Invalid item type. Please choose 'weapon' or 'armor'.\")\n"
   ]
  },
  {
   "cell_type": "code",
   "execution_count": 12,
   "metadata": {},
   "outputs": [],
   "source": [
    "player = stat_generator.Player('Kallos', 'Paladin')"
   ]
  },
  {
   "cell_type": "code",
   "execution_count": 13,
   "metadata": {},
   "outputs": [
    {
     "ename": "NameError",
     "evalue": "name 'equip_from_inventory' is not defined",
     "output_type": "error",
     "traceback": [
      "\u001b[1;31m---------------------------------------------------------------------------\u001b[0m",
      "\u001b[1;31mNameError\u001b[0m                                 Traceback (most recent call last)",
      "Cell \u001b[1;32mIn[13], line 5\u001b[0m\n\u001b[0;32m      2\u001b[0m player\u001b[38;5;241m.\u001b[39madd_to_inventory({\u001b[38;5;124m\"\u001b[39m\u001b[38;5;124mname\u001b[39m\u001b[38;5;124m\"\u001b[39m: \u001b[38;5;124m\"\u001b[39m\u001b[38;5;124mSteel Armor\u001b[39m\u001b[38;5;124m\"\u001b[39m, \u001b[38;5;124m\"\u001b[39m\u001b[38;5;124mAC\u001b[39m\u001b[38;5;124m\"\u001b[39m: \u001b[38;5;241m12\u001b[39m})\n\u001b[0;32m      4\u001b[0m \u001b[38;5;66;03m# Equip an item from inventory\u001b[39;00m\n\u001b[1;32m----> 5\u001b[0m \u001b[43mequip_from_inventory\u001b[49m(player)\n\u001b[0;32m      7\u001b[0m \u001b[38;5;66;03m# Check the player's stats after equipping\u001b[39;00m\n\u001b[0;32m      8\u001b[0m \u001b[38;5;28mprint\u001b[39m(\u001b[38;5;124mf\u001b[39m\u001b[38;5;124m\"\u001b[39m\u001b[38;5;124mEquipped Weapon: \u001b[39m\u001b[38;5;132;01m{\u001b[39;00mplayer\u001b[38;5;241m.\u001b[39mequipped_weapon[\u001b[38;5;124m'\u001b[39m\u001b[38;5;124mname\u001b[39m\u001b[38;5;124m'\u001b[39m]\u001b[38;5;250m \u001b[39m\u001b[38;5;28;01mif\u001b[39;00m\u001b[38;5;250m \u001b[39mplayer\u001b[38;5;241m.\u001b[39mequipped_weapon\u001b[38;5;250m \u001b[39m\u001b[38;5;28;01melse\u001b[39;00m\u001b[38;5;250m \u001b[39m\u001b[38;5;124m'\u001b[39m\u001b[38;5;124mNone\u001b[39m\u001b[38;5;124m'\u001b[39m\u001b[38;5;132;01m}\u001b[39;00m\u001b[38;5;124m\"\u001b[39m)\n",
      "\u001b[1;31mNameError\u001b[0m: name 'equip_from_inventory' is not defined"
     ]
    }
   ],
   "source": [
    "player.add_to_inventory({\"name\": \"Iron Sword\", \"Damage\": 5})\n",
    "player.add_to_inventory({\"name\": \"Steel Armor\", \"AC\": 12})\n",
    "\n",
    "# Equip an item from inventory\n",
    "equip_from_inventory(player)\n",
    "\n",
    "# Check the player's stats after equipping\n",
    "print(f\"Equipped Weapon: {player.equipped_weapon['name'] if player.equipped_weapon else 'None'}\")\n",
    "print(f\"Equipped Armor: {player.equipped_armor['name'] if player.equipped_armor else 'None'}\")\n",
    "print(f\"Damage: {player.base_damage}\")\n",
    "print(f\"Armor Class: {player.base_AC}\")"
   ]
  }
 ],
 "metadata": {
  "kernelspec": {
   "display_name": "ETE4990",
   "language": "python",
   "name": "python3"
  },
  "language_info": {
   "codemirror_mode": {
    "name": "ipython",
    "version": 3
   },
   "file_extension": ".py",
   "mimetype": "text/x-python",
   "name": "python",
   "nbconvert_exporter": "python",
   "pygments_lexer": "ipython3",
   "version": "3.13.1"
  }
 },
 "nbformat": 4,
 "nbformat_minor": 2
}
