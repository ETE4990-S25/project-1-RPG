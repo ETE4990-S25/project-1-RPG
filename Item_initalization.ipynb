{
 "cells": [
  {
   "cell_type": "markdown",
   "metadata": {},
   "source": [
    "## Import item list for game\n"
   ]
  },
  {
   "cell_type": "code",
   "execution_count": 1,
   "metadata": {},
   "outputs": [],
   "source": [
    "import json\n",
    "import random"
   ]
  },
  {
   "cell_type": "code",
   "execution_count": 2,
   "metadata": {},
   "outputs": [],
   "source": [
    "with open('ItemData.json', \"r\") as file:\n",
    "    itemdata = json.load(file)\n"
   ]
  },
  {
   "cell_type": "markdown",
   "metadata": {},
   "source": [
    "## Add damage number to items\n"
   ]
  },
  {
   "cell_type": "code",
   "execution_count": 3,
   "metadata": {},
   "outputs": [],
   "source": [
    "valid_types = {'Magic', 'Weapons'}\n",
    "\n",
    "for item in itemdata['items']:  #iterate through list of dictionaries\n",
    "# check if category has allowed values\n",
    "    if item.get('category') in valid_types:\n",
    "        #exclude arrows\n",
    "        if \"arrow\" in itemdata['items']:\n",
    "            continue\n",
    "        item['Damage'] = random.randint(1,5)\n"
   ]
  },
  {
   "cell_type": "markdown",
   "metadata": {},
   "source": [
    "# Add money values to items\n"
   ]
  },
  {
   "cell_type": "code",
   "execution_count": 4,
   "metadata": {},
   "outputs": [],
   "source": [
    "for item in itemdata['items']:\n",
    "    name = item.get('name', '')\n",
    "    category = item.get('category', '')\n",
    "    if 'Empty' in name:\n",
    "        item['Value'] = random.randint(1,5)\n",
    "    elif 'General' in category:\n",
    "        item['Value'] = random.randint(1,15)\n",
    "    elif 'Magic' in category:\n",
    "        item['Value'] = random.randint(10,20)\n",
    "    elif 'Weapon' in category:\n",
    "        item['Value'] = random.randint(10,20)\n",
    "    elif 'Food' in category:\n",
    "        item['Value'] = random.randint(1,5)\n",
    "    else: \n",
    "        item['Value'] = random.randint(15,20)"
   ]
  },
  {
   "cell_type": "markdown",
   "metadata": {},
   "source": [
    "## Add AC Values to armor\n"
   ]
  },
  {
   "cell_type": "code",
   "execution_count": 5,
   "metadata": {},
   "outputs": [],
   "source": [
    "valid_armor = {'Armour'}\n",
    "\n",
    "for item in itemdata['items']:\n",
    "        # Exclude items with \"ring\" in the name (case-insensitive)\n",
    "    if \"ring\" in item.get(\"name\", \"\").lower():\n",
    "        continue  \n",
    "    if \"helmet\" in item.get(\"description\", \"\").lower():\n",
    "        continue \n",
    "    \n",
    "    if item.get('category') in valid_armor:\n",
    "        item['AC'] = random.randint(1,3)\n"
   ]
  },
  {
   "cell_type": "markdown",
   "metadata": {},
   "source": [
    "## Add potion traits\n",
    "\n",
    "- Healing\n",
    "- Mana\n",
    "- General Power (damage boost)\n"
   ]
  },
  {
   "cell_type": "code",
   "execution_count": 6,
   "metadata": {},
   "outputs": [],
   "source": [
    "\n",
    "for item in itemdata['items']:   #Navigate items in each dictionary\n",
    "    name = item.get('name', '')\n",
    "\n",
    "    if \"Green\" in name:\n",
    "        if \"Large\" in name:\n",
    "            item[\"Mana\"] = random.randint(30, 50)  # Large Green Potion gets the most\n",
    "        elif \"Small\" in name:\n",
    "            item[\"Mana\"] = random.randint(5, 10)  # Small Green Potion gets the lowest \n",
    "        else:\n",
    "            item[\"Mana\"] = random.randint(10, 20)  # Default to Regular if no size isn't in name\n",
    "    elif \"Red\" in name:\n",
    "        if \"Large\" in name:\n",
    "            item[\"Health\"] = random.randint(20, 30)  \n",
    "        elif \"Small\" in name:\n",
    "            item[\"Health\"] = random.randint(5, 10)  \n",
    "        else:\n",
    "            item[\"Health\"] = random.randint(10, 20)\n",
    "    elif \"Pink\" in name:\n",
    "        if \"Large\" in name:\n",
    "            item[\"Health\"] = random.randint(15, 20)  \n",
    "        elif \"Small\" in name:\n",
    "            item[\"Health\"] = random.randint(1, 5)  \n",
    "        else:\n",
    "            item[\"Health\"] = random.randint(5, 10)\n",
    "    elif \"Black\" in name:\n",
    "        if \"Large\" in name:\n",
    "            item[\"Power\"] = random.randint(20, 30) \n",
    "        elif \"Small\" in name:\n",
    "            item[\"Power\"] = random.randint(5, 10)  \n",
    "        else:\n",
    "            item[\"Power\"] = random.randint(10, 20)\n",
    "    elif \"Blue\" in name:\n",
    "        if \"Large\" in name:\n",
    "            item[\"Mana\"] = random.randint(20, 30)\n",
    "            item[\"Power\"] = random.randint(20, 30)  \n",
    "        elif \"Small\" in name:\n",
    "            item[\"Mana\"] = random.randint(5, 10)\n",
    "            item[\"Power\"] = random.randint(5, 10)  \n",
    "        else:\n",
    "            item[\"Mana\"] = random.randint(10, 20)\n",
    "            item[\"Power\"] = random.randint(10, 20)\n",
    "    elif \"Orange\" in name:\n",
    "        if \"Large\" in name:\n",
    "            item[\"Mana\"] = random.randint(20, 30)\n",
    "            item[\"Power\"] = random.randint(20, 30)  \n",
    "        elif \"Small\" in name:\n",
    "            item[\"Mana\"] = random.randint(5, 10)\n",
    "            item[\"Power\"] = random.randint(5, 10)  \n",
    "        else:\n",
    "            item[\"Mana\"] = random.randint(10, 20)\n",
    "            item[\"Power\"] = random.randint(10, 20)\n"
   ]
  },
  {
   "cell_type": "markdown",
   "metadata": {},
   "source": [
    "# Generate inventory\n"
   ]
  },
  {
   "cell_type": "code",
   "execution_count": 7,
   "metadata": {},
   "outputs": [
    {
     "name": "stdout",
     "output_type": "stream",
     "text": [
      "{'id': 78, 'name': 'Lime Bonbon', 'description': 'Ideal for those with a sweet tooth! This one tastes of lime.', 'category': 'Food', 'Value': 2}\n",
      "{'id': 47, 'name': 'Gold Ingot', 'description': 'A solid bar of gold. Can be sold for a fortune or used in crafting.', 'category': 'General', 'Value': 12}\n",
      "{'id': 49, 'name': 'Golden Bow', 'description': 'Made of the finest gold, this bow is the definition of style over substance.', 'category': 'Weapons', 'Damage': 1, 'Value': 10}\n",
      "{'id': 124, 'name': 'Winter Shield', 'description': 'Built by craftsmen in the most northern region, this shield repels all ice magic.', 'category': 'Armour', 'Value': 15, 'AC': 2}\n",
      "{'id': 10, 'name': 'Blackberry Bonbon', 'description': 'Ideal for those with a sweet tooth! This one tastes of blackberries.', 'category': 'Food', 'Value': 2, 'Power': 19}\n",
      "{'id': 42, 'name': 'Flame Bow', 'description': 'A magical bow that boosts the power of fire and blaze arrows.', 'category': 'Weapons', 'Damage': 1, 'Value': 20}\n",
      "{'id': 20, 'name': 'Blueberry Bonbon', 'description': 'Ideal for those with a sweet tooth! This one tastes of blueberries.', 'category': 'Food', 'Value': 4, 'Mana': 15, 'Power': 18}\n",
      "{'id': 91, 'name': 'Purple Potion', 'description': 'This concoction restores both health and mana. Medium size.', 'category': 'Healing', 'Value': 20}\n",
      "{'id': 73, 'name': 'Large Red Potion', 'description': 'A vibrant red potion designed to restore health. Large size.', 'category': 'Healing', 'Value': 18, 'Health': 24}\n",
      "{'id': 94, 'name': 'Red Fish', 'description': 'This fish feeds on red algae, which gives it its unique colouring.', 'category': 'Food', 'Value': 1, 'Health': 12}\n",
      "{'id': 44, 'name': 'Forest Shield', 'description': 'A fine shield crafted from the wood of an ancient tree.', 'category': 'Armour', 'Value': 20, 'AC': 1}\n",
      "{'id': 113, 'name': 'Small Orange Potion', 'description': 'This potion restores mana and gives a boost of fire magic. Small size.', 'category': 'Healing', 'Value': 15, 'Mana': 8, 'Power': 7}\n",
      "{'id': 113, 'name': 'Small Orange Potion', 'description': 'This potion restores mana and gives a boost of fire magic. Small size.', 'category': 'Healing', 'Value': 15, 'Mana': 8, 'Power': 7}\n",
      "{'id': 116, 'name': 'Small Red Potion', 'description': 'A vibrant red potion designed to restore health. Small size.', 'category': 'Healing', 'Value': 19, 'Health': 8}\n",
      "{'id': 27, 'name': 'Demon Helm', 'description': 'A terrifying helmet forged from the skull of a mighty demon.', 'category': 'Armour', 'Value': 17}\n"
     ]
    }
   ],
   "source": [
    "def generate_inventory():\n",
    "    loot = []\n",
    "    for i in range(15):\n",
    "        item_id = random.randint(1,131)\n",
    "        loot.append(itemdata['items'][item_id]) \n",
    "    return loot\n",
    "\n",
    "\n",
    "gear = generate_inventory()\n",
    "\n",
    "for item in gear:\n",
    "    print(item)\n"
   ]
  },
  {
   "cell_type": "code",
   "execution_count": 8,
   "metadata": {},
   "outputs": [
    {
     "name": "stdout",
     "output_type": "stream",
     "text": [
      "Large Blue Potion\n",
      "This concoction restores mana and gives a boost of water magic. Large size.\n",
      "20 Gold\n",
      "-----------------------------------\n",
      "Wizard's Scroll\n",
      "A scroll containing basic teachings. Given to all new mages at a certain school.\n",
      "18 Gold\n",
      "-----------------------------------\n",
      "Light Ring\n",
      "The stone in this ring emits a soft glow that can be used as a light source.\n",
      "20 Gold\n",
      "-----------------------------------\n",
      "Festive Bonbon\n",
      "Ideal for those with a sweet tooth! This one tastes of spices.\n",
      "1 Gold\n",
      "-----------------------------------\n",
      "Spent Gem\n",
      "This gem has been drained of all its magic. A mage can restore it.\n",
      "15 Gold\n",
      "-----------------------------------\n",
      "Thunder Gem\n",
      "A gem full of thunder magic. Has a storm raging in its centre.\n",
      "19 Gold\n",
      "-----------------------------------\n",
      "Large Blue Potion\n",
      "This concoction restores mana and gives a boost of water magic. Large size.\n",
      "20 Gold\n",
      "-----------------------------------\n",
      "Brown Fish\n",
      "A very common fish found in most bodies of fresh water.\n",
      "5 Gold\n",
      "-----------------------------------\n",
      "Orange Candycane\n",
      "A sugary treat laced with an orange flavour.\n",
      "1 Gold\n",
      "-----------------------------------\n",
      "Small Green Potion\n",
      "This potion was created to restore mana. Small size.\n",
      "17 Gold\n",
      "-----------------------------------\n",
      "Thunder Staff\n",
      "This staff allows the user to control violent storms using thunder magic.\n",
      "17 Gold\n",
      "-----------------------------------\n",
      "Small Purple Potion\n",
      "This concoction restores both health and mana. Small size.\n",
      "15 Gold\n",
      "-----------------------------------\n",
      "Bronze Key\n",
      "A bronze-coloured key. Probably fits a bronze-coloured lock.\n",
      "2 Gold\n",
      "-----------------------------------\n",
      "Black Pearl\n",
      "A dark pearl which shimmers in the light.\n",
      "12 Gold\n",
      "-----------------------------------\n",
      "Ancient Spellbook\n",
      "A tome from a time forgotten, filled with all sorts of incantations.\n",
      "14 Gold\n",
      "-----------------------------------\n"
     ]
    }
   ],
   "source": [
    "def store():\n",
    "    shop = generate_inventory()\n",
    "    for item in shop:\n",
    "        print(item['name']) \n",
    "        print(item['description'])\n",
    "        print(item['Value'], 'Gold')\n",
    "        print('-----------------------------------')\n",
    "\n",
    "store()"
   ]
  },
  {
   "cell_type": "code",
   "execution_count": 9,
   "metadata": {},
   "outputs": [],
   "source": [
    "#def store():\n",
    "#    shop = generate_inventory()\n",
    "#    for item in shop['items']:\n",
    "#        name = item.get('name', '')\n",
    "#        if 'Pile' in name:\n",
    "#            shop.pop()\n",
    "            \n",
    "#    for item in shop:\n",
    "#        print(item['name']) \n",
    "#        print(item['description'])\n",
    "#        print(item['Value'], 'Gold')\n",
    "#        print('-----------------------------------')\n",
    "\n",
    "\n",
    "#store()"
   ]
  },
  {
   "cell_type": "markdown",
   "metadata": {},
   "source": [
    "# Function to open backpack"
   ]
  },
  {
   "cell_type": "code",
   "execution_count": 10,
   "metadata": {},
   "outputs": [
    {
     "name": "stdout",
     "output_type": "stream",
     "text": [
      "name: Lime Bonbon\n",
      "description: Ideal for those with a sweet tooth! This one tastes of lime.\n",
      "category: Food\n",
      "Value: 2\n",
      "-----------------------------------\n",
      "name: Gold Ingot\n",
      "description: A solid bar of gold. Can be sold for a fortune or used in crafting.\n",
      "category: General\n",
      "Value: 12\n",
      "-----------------------------------\n",
      "name: Golden Bow\n",
      "description: Made of the finest gold, this bow is the definition of style over substance.\n",
      "category: Weapons\n",
      "Damage: 1\n",
      "Value: 10\n",
      "-----------------------------------\n",
      "name: Winter Shield\n",
      "description: Built by craftsmen in the most northern region, this shield repels all ice magic.\n",
      "category: Armour\n",
      "Value: 15\n",
      "AC: 2\n",
      "-----------------------------------\n",
      "name: Blackberry Bonbon\n",
      "description: Ideal for those with a sweet tooth! This one tastes of blackberries.\n",
      "category: Food\n",
      "Value: 2\n",
      "Power: 19\n",
      "-----------------------------------\n",
      "name: Flame Bow\n",
      "description: A magical bow that boosts the power of fire and blaze arrows.\n",
      "category: Weapons\n",
      "Damage: 1\n",
      "Value: 20\n",
      "-----------------------------------\n",
      "name: Blueberry Bonbon\n",
      "description: Ideal for those with a sweet tooth! This one tastes of blueberries.\n",
      "category: Food\n",
      "Value: 4\n",
      "Mana: 15\n",
      "Power: 18\n",
      "-----------------------------------\n",
      "name: Purple Potion\n",
      "description: This concoction restores both health and mana. Medium size.\n",
      "category: Healing\n",
      "Value: 20\n",
      "-----------------------------------\n",
      "name: Large Red Potion\n",
      "description: A vibrant red potion designed to restore health. Large size.\n",
      "category: Healing\n",
      "Value: 18\n",
      "Health: 24\n",
      "-----------------------------------\n",
      "name: Red Fish\n",
      "description: This fish feeds on red algae, which gives it its unique colouring.\n",
      "category: Food\n",
      "Value: 1\n",
      "Health: 12\n",
      "-----------------------------------\n",
      "name: Forest Shield\n",
      "description: A fine shield crafted from the wood of an ancient tree.\n",
      "category: Armour\n",
      "Value: 20\n",
      "AC: 1\n",
      "-----------------------------------\n",
      "name: Small Orange Potion\n",
      "description: This potion restores mana and gives a boost of fire magic. Small size.\n",
      "category: Healing\n",
      "Value: 15\n",
      "Mana: 8\n",
      "Power: 7\n",
      "-----------------------------------\n",
      "name: Small Orange Potion\n",
      "description: This potion restores mana and gives a boost of fire magic. Small size.\n",
      "category: Healing\n",
      "Value: 15\n",
      "Mana: 8\n",
      "Power: 7\n",
      "-----------------------------------\n",
      "name: Small Red Potion\n",
      "description: A vibrant red potion designed to restore health. Small size.\n",
      "category: Healing\n",
      "Value: 19\n",
      "Health: 8\n",
      "-----------------------------------\n",
      "name: Demon Helm\n",
      "description: A terrifying helmet forged from the skull of a mighty demon.\n",
      "category: Armour\n",
      "Value: 17\n",
      "-----------------------------------\n"
     ]
    }
   ],
   "source": [
    "def Backpack():\n",
    "    for item in gear:\n",
    "        for key, value in item.items():\n",
    "            if key != 'id':  # Exclude 'ID' key\n",
    "                print(f\"{key}: {value}\")\n",
    "        print('-----------------------------------')\n",
    "\n",
    "\n",
    "Backpack()"
   ]
  }
 ],
 "metadata": {
  "kernelspec": {
   "display_name": "ETE4990",
   "language": "python",
   "name": "python3"
  },
  "language_info": {
   "codemirror_mode": {
    "name": "ipython",
    "version": 3
   },
   "file_extension": ".py",
   "mimetype": "text/x-python",
   "name": "python",
   "nbconvert_exporter": "python",
   "pygments_lexer": "ipython3",
   "version": "3.13.1"
  }
 },
 "nbformat": 4,
 "nbformat_minor": 2
}
