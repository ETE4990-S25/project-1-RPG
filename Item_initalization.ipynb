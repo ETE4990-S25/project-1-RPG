{
 "cells": [
  {
   "cell_type": "markdown",
   "metadata": {},
   "source": [
    "## Import item list for game\n"
   ]
  },
  {
   "cell_type": "code",
   "execution_count": 33,
   "metadata": {},
   "outputs": [],
   "source": [
    "import json\n",
    "import random\n",
    "import stat_generator"
   ]
  },
  {
   "cell_type": "code",
   "execution_count": null,
   "metadata": {},
   "outputs": [],
   "source": [
    "with open('ItemData.json', \"r\") as file:\n",
    "    itemdata = json.load(file)\n"
   ]
  },
  {
   "cell_type": "markdown",
   "metadata": {},
   "source": [
    "## Add damage number to items\n"
   ]
  },
  {
   "cell_type": "code",
   "execution_count": null,
   "metadata": {},
   "outputs": [],
   "source": [
    "valid_types = {'Magic', 'Weapons'}\n",
    "\n",
    "for item in itemdata['items']:  #iterate through list of dictionaries\n",
    "# check if category has allowed values\n",
    "    if item.get('category') in valid_types:\n",
    "        #exclude arrows\n",
    "        if \"arrow\" in itemdata['items']:\n",
    "            continue\n",
    "        item['Damage'] = random.randint(1,5)\n"
   ]
  },
  {
   "cell_type": "markdown",
   "metadata": {},
   "source": [
    "# Add money values to items\n"
   ]
  },
  {
   "cell_type": "code",
   "execution_count": null,
   "metadata": {},
   "outputs": [],
   "source": [
    "for item in itemdata['items']:\n",
    "    name = item.get('name', '')\n",
    "    category = item.get('category', '')\n",
    "    if 'Empty' in name:\n",
    "        item['Value'] = random.randint(1,5)\n",
    "    elif 'General' in category:\n",
    "        item['Value'] = random.randint(1,15)\n",
    "    elif 'Magic' in category:\n",
    "        item['Value'] = random.randint(10,20)\n",
    "    elif 'Weapon' in category:\n",
    "        item['Value'] = random.randint(10,20)\n",
    "    elif 'Food' in category:\n",
    "        item['Value'] = random.randint(1,5)\n",
    "    else: \n",
    "        item['Value'] = random.randint(15,20)"
   ]
  },
  {
   "cell_type": "markdown",
   "metadata": {},
   "source": [
    "## Add AC Values to armor\n"
   ]
  },
  {
   "cell_type": "code",
   "execution_count": null,
   "metadata": {},
   "outputs": [],
   "source": [
    "valid_armor = {'Armour'}\n",
    "\n",
    "for item in itemdata['items']:\n",
    "        # Exclude items with \"ring\" in the name (case-insensitive)\n",
    "    if \"ring\" in item.get(\"name\", \"\").lower():\n",
    "        continue  \n",
    "    if \"helmet\" in item.get(\"description\", \"\").lower():\n",
    "        continue \n",
    "    \n",
    "    if item.get('category') in valid_armor:\n",
    "        item['AC'] = random.randint(10,16)\n"
   ]
  },
  {
   "cell_type": "markdown",
   "metadata": {},
   "source": [
    "## Add potion traits\n",
    "\n",
    "- Healing\n",
    "- Mana\n",
    "- General Power (damage boost)\n"
   ]
  },
  {
   "cell_type": "code",
   "execution_count": null,
   "metadata": {},
   "outputs": [],
   "source": [
    "\n",
    "for item in itemdata['items']:   #Navigate items in each dictionary\n",
    "    name = item.get('name', '')\n",
    "\n",
    "    if \"Green\" in name:\n",
    "        if \"Large\" in name:\n",
    "            item[\"Mana\"] = random.randint(30, 50)  # Large Green Potion gets the most\n",
    "        elif \"Small\" in name:\n",
    "            item[\"Mana\"] = random.randint(5, 10)  # Small Green Potion gets the lowest \n",
    "        else:\n",
    "            item[\"Mana\"] = random.randint(10, 20)  # Default to Regular if no size isn't in name\n",
    "    elif \"Red\" in name:\n",
    "        if \"Large\" in name:\n",
    "            item[\"Health\"] = random.randint(20, 30)  \n",
    "        elif \"Small\" in name:\n",
    "            item[\"Health\"] = random.randint(5, 10)  \n",
    "        else:\n",
    "            item[\"Health\"] = random.randint(10, 20)\n",
    "    elif \"Pink\" in name:\n",
    "        if \"Large\" in name:\n",
    "            item[\"Health\"] = random.randint(15, 20)  \n",
    "        elif \"Small\" in name:\n",
    "            item[\"Health\"] = random.randint(1, 5)  \n",
    "        else:\n",
    "            item[\"Health\"] = random.randint(5, 10)\n",
    "    elif \"Black\" in name:\n",
    "        if \"Large\" in name:\n",
    "            item[\"Power\"] = random.randint(20, 30) \n",
    "        elif \"Small\" in name:\n",
    "            item[\"Power\"] = random.randint(5, 10)  \n",
    "        else:\n",
    "            item[\"Power\"] = random.randint(10, 20)\n",
    "    elif \"Blue\" in name:\n",
    "        if \"Large\" in name:\n",
    "            item[\"Mana\"] = random.randint(20, 30)\n",
    "            item[\"Power\"] = random.randint(20, 30)  \n",
    "        elif \"Small\" in name:\n",
    "            item[\"Mana\"] = random.randint(5, 10)\n",
    "            item[\"Power\"] = random.randint(5, 10)  \n",
    "        else:\n",
    "            item[\"Mana\"] = random.randint(10, 20)\n",
    "            item[\"Power\"] = random.randint(10, 20)\n",
    "    elif \"Orange\" in name:\n",
    "        if \"Large\" in name:\n",
    "            item[\"Mana\"] = random.randint(20, 30)\n",
    "            item[\"Power\"] = random.randint(20, 30)  \n",
    "        elif \"Small\" in name:\n",
    "            item[\"Mana\"] = random.randint(5, 10)\n",
    "            item[\"Power\"] = random.randint(5, 10)  \n",
    "        else:\n",
    "            item[\"Mana\"] = random.randint(10, 20)\n",
    "            item[\"Power\"] = random.randint(10, 20)\n"
   ]
  },
  {
   "cell_type": "markdown",
   "metadata": {},
   "source": [
    "# Generate inventory\n"
   ]
  },
  {
   "cell_type": "code",
   "execution_count": 34,
   "metadata": {},
   "outputs": [
    {
     "name": "stdout",
     "output_type": "stream",
     "text": [
      "{'id': 75, 'name': 'Light Arrow', 'description': 'A less potent version of the holy arrow. Effective against dark magic.', 'category': 'Weapons', 'Damage': 3, 'Value': 10}\n",
      "{'id': 42, 'name': 'Flame Bow', 'description': 'A magical bow that boosts the power of fire and blaze arrows.', 'category': 'Weapons', 'Damage': 4, 'Value': 20}\n",
      "{'id': 11, 'name': 'Blank Scroll', 'description': 'Spare parchment, awaiting someone to use it for a spell.', 'category': 'Magic', 'Damage': 4, 'Value': 18}\n",
      "{'id': 51, 'name': 'Golden Coin', 'description': 'A shiny gold coin used to make purchases in towns around the realm.', 'category': 'General', 'Value': 12}\n",
      "{'id': 72, 'name': 'Large Purple Potion', 'description': 'This concoction restores both health and mana. Large size.', 'category': 'Healing', 'Value': 17}\n",
      "{'id': 82, 'name': 'Orange Candycane', 'description': 'A sugary treat laced with an orange flavour.', 'category': 'Food', 'Value': 4, 'Mana': 19, 'Power': 17}\n",
      "{'id': 126, 'name': 'Wooden Shield', 'description': 'A basic wooden shield used by newly recruited soldiers in their training.', 'category': 'Armour', 'Value': 18, 'AC': 3}\n",
      "{'id': 75, 'name': 'Light Arrow', 'description': 'A less potent version of the holy arrow. Effective against dark magic.', 'category': 'Weapons', 'Damage': 3, 'Value': 10}\n",
      "{'id': 29, 'name': 'Earth Gem', 'description': 'This brown coloured gem contains an abundance of earth magic.', 'category': 'Magic', 'Damage': 2, 'Value': 20}\n",
      "{'id': 56, 'name': 'Green Potion', 'description': 'This potion was created to restore mana. Medium size.', 'category': 'Healing', 'Value': 19, 'Mana': 15}\n",
      "{'id': 68, 'name': 'Large Blue Potion', 'description': 'This concoction restores mana and gives a boost of water magic. Large size.', 'category': 'Healing', 'Value': 19, 'Mana': 25, 'Power': 20}\n",
      "{'id': 97, 'name': 'Royal Scepter', 'description': 'A magic scepter handed down through the royal family for generations.', 'category': 'Magic', 'Damage': 5, 'Value': 11}\n",
      "{'id': 131, 'name': 'Yellow Fish', 'description': 'A small fish with yellow scales that glisten in the sunlight.', 'category': 'Food', 'Value': 4}\n",
      "{'id': 83, 'name': 'Orange Potion', 'description': 'This potion restores mana and gives a boost of fire magic. Medium size.', 'category': 'Healing', 'Value': 20, 'Mana': 12, 'Power': 19}\n",
      "{'id': 56, 'name': 'Green Potion', 'description': 'This potion was created to restore mana. Medium size.', 'category': 'Healing', 'Value': 19, 'Mana': 15}\n",
      "45 Gold\n"
     ]
    }
   ],
   "source": [
    "def generate_inventory():\n",
    "    loot = []\n",
    "    gold = random.randint(20,50)\n",
    "    for i in range(15):\n",
    "        item_id = random.randint(1,131)\n",
    "        loot.append(itemdata['items'][item_id]) \n",
    "    return loot, gold\n",
    "   \n",
    "\n",
    "\n",
    "gear,gold = generate_inventory()\n",
    "\n",
    "for i in range(15):\n",
    "    print(gear[i])\n",
    "print( gold,'Gold')\n"
   ]
  },
  {
   "cell_type": "code",
   "execution_count": 35,
   "metadata": {},
   "outputs": [
    {
     "name": "stdout",
     "output_type": "stream",
     "text": [
      "Name: James\n",
      "Class: Knight\n",
      "Strength: 12\n",
      "Dexterity: 11\n",
      "Constitution: 12\n",
      "Intelligence: 13\n",
      "Wisdom: 11\n",
      "Charisma: 13\n",
      "Hitpoints: 27\n",
      "None\n"
     ]
    }
   ],
   "source": [
    "player = stat_generator.Player('James', 'Knight')\n",
    "print(player.display_stats())\n"
   ]
  },
  {
   "cell_type": "code",
   "execution_count": 38,
   "metadata": {},
   "outputs": [],
   "source": [
    "for i in range(15):\n",
    "    player.add_to_inventory(gear[i])"
   ]
  },
  {
   "cell_type": "code",
   "execution_count": 39,
   "metadata": {},
   "outputs": [
    {
     "name": "stdout",
     "output_type": "stream",
     "text": [
      "Item 1:\n",
      "  name: {'id': 75, 'name': 'Light Arrow', 'description': 'A less potent version of the holy arrow. Effective against dark magic.', 'category': 'Weapons', 'Damage': 3, 'Value': 10}\n",
      "  quantity: 4\n",
      "\n",
      "Item 2:\n",
      "  name: {'id': 42, 'name': 'Flame Bow', 'description': 'A magical bow that boosts the power of fire and blaze arrows.', 'category': 'Weapons', 'Damage': 4, 'Value': 20}\n",
      "  quantity: 2\n",
      "\n",
      "Item 3:\n",
      "  name: {'id': 11, 'name': 'Blank Scroll', 'description': 'Spare parchment, awaiting someone to use it for a spell.', 'category': 'Magic', 'Damage': 4, 'Value': 18}\n",
      "  quantity: 2\n",
      "\n",
      "Item 4:\n",
      "  name: {'id': 51, 'name': 'Golden Coin', 'description': 'A shiny gold coin used to make purchases in towns around the realm.', 'category': 'General', 'Value': 12}\n",
      "  quantity: 2\n",
      "\n",
      "Item 5:\n",
      "  name: {'id': 72, 'name': 'Large Purple Potion', 'description': 'This concoction restores both health and mana. Large size.', 'category': 'Healing', 'Value': 17}\n",
      "  quantity: 2\n",
      "\n",
      "Item 6:\n",
      "  name: {'id': 82, 'name': 'Orange Candycane', 'description': 'A sugary treat laced with an orange flavour.', 'category': 'Food', 'Value': 4, 'Mana': 19, 'Power': 17}\n",
      "  quantity: 2\n",
      "\n",
      "Item 7:\n",
      "  name: {'id': 126, 'name': 'Wooden Shield', 'description': 'A basic wooden shield used by newly recruited soldiers in their training.', 'category': 'Armour', 'Value': 18, 'AC': 3}\n",
      "  quantity: 2\n",
      "\n",
      "Item 8:\n",
      "  name: {'id': 29, 'name': 'Earth Gem', 'description': 'This brown coloured gem contains an abundance of earth magic.', 'category': 'Magic', 'Damage': 2, 'Value': 20}\n",
      "  quantity: 2\n",
      "\n",
      "Item 9:\n",
      "  name: {'id': 56, 'name': 'Green Potion', 'description': 'This potion was created to restore mana. Medium size.', 'category': 'Healing', 'Value': 19, 'Mana': 15}\n",
      "  quantity: 4\n",
      "\n",
      "Item 10:\n",
      "  name: {'id': 68, 'name': 'Large Blue Potion', 'description': 'This concoction restores mana and gives a boost of water magic. Large size.', 'category': 'Healing', 'Value': 19, 'Mana': 25, 'Power': 20}\n",
      "  quantity: 2\n",
      "\n",
      "Item 11:\n",
      "  name: {'id': 97, 'name': 'Royal Scepter', 'description': 'A magic scepter handed down through the royal family for generations.', 'category': 'Magic', 'Damage': 5, 'Value': 11}\n",
      "  quantity: 2\n",
      "\n",
      "Item 12:\n",
      "  name: {'id': 131, 'name': 'Yellow Fish', 'description': 'A small fish with yellow scales that glisten in the sunlight.', 'category': 'Food', 'Value': 4}\n",
      "  quantity: 2\n",
      "\n",
      "Item 13:\n",
      "  name: {'id': 83, 'name': 'Orange Potion', 'description': 'This potion restores mana and gives a boost of fire magic. Medium size.', 'category': 'Healing', 'Value': 20, 'Mana': 12, 'Power': 19}\n",
      "  quantity: 2\n",
      "\n"
     ]
    }
   ],
   "source": [
    "player.get_inventory()"
   ]
  },
  {
   "cell_type": "code",
   "execution_count": null,
   "metadata": {},
   "outputs": [],
   "source": [
    "# List of items to be added to the inventory\n",
    "#new_items = [\n",
    " #   {'id': 73, 'name': 'Large Red Potion', 'description': 'A vibrant red potion designed to restore health. Large size.', 'category': 'Healing', 'Value': 15, 'Health': 23},\n",
    "  ## {'id': 1, 'name': 'Air Gem', 'description': 'A pale coloured gem brimming with air magic.', 'category': 'Magic', 'Damage': 5, 'Value': 15}\n",
    "#]\n",
    "\n",
    "# Adding the items to the inventory\n",
    "#player.add_to_inventory(new_items)\n",
    "\n",
    "# Adding the same item again to see how the quantity increases\n",
    "#new_items_duplicate = [\n",
    "#    {'id': 1, 'name': 'Air Gem', 'description': 'A pale coloured gem brimming with air magic.', 'category': 'Magic', 'Damage': 5, 'Value': 15}\n",
    "#]\n",
    "#player.add_to_inventory(new_items_duplicate)\n",
    "\n",
    "# Printing the player's inventory\n",
    "#player.get_inventory()"
   ]
  },
  {
   "cell_type": "code",
   "execution_count": null,
   "metadata": {},
   "outputs": [],
   "source": [
    "#def store_interaction():\n",
    "    shop, gold = generate_inventory()\n",
    "    print('Welcome to my shop adventurer!')\n",
    "    print('Please have a look at my wares:\\n')\n",
    "    print('If you wish to sell, I have', gold, 'gold on hand\\n')\n",
    "    \n",
    "    print('You have', player.get_gold(), 'Gold to spend\\n')\n",
    "\n",
    "    for item in shop:\n",
    "        print(item['name']) \n",
    "        print(item['description'])\n",
    "        print(item['Value'], 'Gold')\n",
    "        print('-----------------------------------')\n",
    "    # Add number to items 2 buy\n",
    "    \n",
    "\n",
    "\n",
    "        \n",
    "\n",
    "\n",
    "#store_interaction()"
   ]
  },
  {
   "cell_type": "code",
   "execution_count": null,
   "metadata": {},
   "outputs": [],
   "source": [
    "#def store():\n",
    "#    shop = generate_inventory()\n",
    "#    for item in shop['items']:\n",
    "#        name = item.get('name', '')\n",
    "#        if 'Pile' in name:\n",
    "#            shop.pop()\n",
    "            \n",
    "#    for item in shop:\n",
    "#        print(item['name']) \n",
    "#        print(item['description'])\n",
    "#        print(item['Value'], 'Gold')\n",
    "#        print('-----------------------------------')\n",
    "\n",
    "\n",
    "#store()\n",
    "\n",
    "#stuff = ['apple', 'cheeto', 'dog']\n",
    "#for index, stuff in enumerate(stuff, start= 1):\n",
    "    print(index,stuff)"
   ]
  },
  {
   "cell_type": "markdown",
   "metadata": {},
   "source": [
    "# Function to open backpack (changed to class attribute)"
   ]
  },
  {
   "cell_type": "code",
   "execution_count": null,
   "metadata": {},
   "outputs": [],
   "source": [
    "#def Backpack():\n",
    "    for item in gear:\n",
    "        for key, value in item.items():\n",
    "            if key != 'id':  # Exclude 'ID' key\n",
    "                print(f\"{key}: {value}\")\n",
    "        print('-----------------------------------')\n",
    "\n",
    "\n",
    "#Backpack()"
   ]
  },
  {
   "cell_type": "markdown",
   "metadata": {},
   "source": [
    "# Store interaction Version 2"
   ]
  },
  {
   "cell_type": "code",
   "execution_count": null,
   "metadata": {},
   "outputs": [],
   "source": [
    "def store_interaction():\n",
    "    shop, shop_gold = generate_inventory()  \n",
    "    \n",
    "    print('Welcome to my shop, adventurer!')\n",
    "    print('Please have a look at my wares:\\n')\n",
    "    print(f'If you wish to sell, I have {shop_gold} gold on hand.\\n')\n",
    "    \n",
    "    # Display player's gold\n",
    "    print(f'You have {player._gold} Gold to spend.\\n')\n",
    "\n",
    "    # Display the shop items with numbers\n",
    "    for index, item in enumerate(shop, start=1):\n",
    "        print(f\"{index}. {item['name']}\")\n",
    "        print(item['description'])\n",
    "        print(f\"{item['Value']} Gold\")\n",
    "        print('-----------------------------------')\n",
    "    \n",
    "    # Player's gold (getting the player's gold)\n",
    "    player_gold = player.gold\n",
    "\n",
    "    # Purchase loop\n",
    "    while True:    \n",
    "        # Get the item choice from the player\n",
    "        choice = input(\"Enter the number of the item you wish to buy (or type 'exit' to leave): \")\n",
    "        \n",
    "        if choice.lower() == 'exit':\n",
    "            print(\"You leave the shop.\")\n",
    "            break\n",
    "        \n",
    "        # Validate input for item choice\n",
    "        if not choice.isdigit() or int(choice) < 1 or int(choice) > len(shop):\n",
    "            print(\"Invalid choice. Please choose a valid item number.\")\n",
    "            continue\n",
    "        \n",
    "        #input to index\n",
    "        item_index = int(choice) - 1\n",
    "        item_to_buy = shop[item_index]\n",
    "        \n",
    "        # Ask how many they want to buy\n",
    "        quantity = input(f\"How many {item_to_buy['name']}s do you want to buy? \")\n",
    "        \n",
    "        # Validate quantity input\n",
    "        if not quantity.isdigit() or int(quantity) < 1:\n",
    "            print(\"Please enter a valid quantity.\")\n",
    "            continue\n",
    "        \n",
    "        quantity = int(quantity)\n",
    "        total_cost = item_to_buy['Value'] * quantity\n",
    "        \n",
    "        # Check if player has enough gold\n",
    "        if player_gold >= total_cost:\n",
    "            print(f\"You bought {quantity} {item_to_buy['name']}(s) for {total_cost} Gold.\")\n",
    "            \n",
    "            # Add the correct quantity of the item to the player's inventory (gear)\n",
    "            for _ in range(quantity):\n",
    "                gear.append(item_to_buy.copy())  # Add a copy of the item to prevent shared references\n",
    "            \n",
    "            # Deduct gold from the player\n",
    "            player.gold = player_gold - total_cost\n",
    "\n",
    "            # Remove the bought item from the shop\n",
    "            del shop[item_index]\n",
    "            \n",
    "        else:\n",
    "            print(\"You don't have enough gold to buy that many.\")\n",
    "        \n",
    "        # If the shop is empty, end the interaction\n",
    "        if not shop:\n",
    "            print(\"The shop is now empty. You leave.\")\n",
    "            break\n",
    "\n",
    "store_interaction()\n"
   ]
  },
  {
   "cell_type": "code",
   "execution_count": null,
   "metadata": {},
   "outputs": [],
   "source": [
    "print(player.gold)\n"
   ]
  }
 ],
 "metadata": {
  "kernelspec": {
   "display_name": "ETE4990",
   "language": "python",
   "name": "python3"
  },
  "language_info": {
   "codemirror_mode": {
    "name": "ipython",
    "version": 3
   },
   "file_extension": ".py",
   "mimetype": "text/x-python",
   "name": "python",
   "nbconvert_exporter": "python",
   "pygments_lexer": "ipython3",
   "version": "3.13.1"
  }
 },
 "nbformat": 4,
 "nbformat_minor": 2
}
